{
 "cells": [
  {
   "cell_type": "markdown",
   "source": [
    "For a given antenna size, find the solutions with minimal ambiguity\n",
    "the doppler bandwidth can be reduced\n",
    "\n",
    "1. find the optimal line in the timing diagram plane (based on antenna width), i.e., elevation 3-db angle\n",
    "2. find all valid swaths close to the optimal line in the timing diagram plane. don't care about the nadir return, this can be discarded in the final image anywais.\n",
    "3. make the valid swaths selectable by an order *n* identifying how far the point is from the optimal.\n"
   ],
   "metadata": {
    "collapsed": false
   }
  },
  {
   "cell_type": "markdown",
   "source": [
    "plot timing diag\n",
    "plot optimal prf vs looking angle\n",
    "todo test timingdiagram plotter here"
   ],
   "metadata": {
    "collapsed": false
   }
  },
  {
   "cell_type": "code",
   "execution_count": 1,
   "outputs": [],
   "source": [
    "# From Michelangelo Villano's hands on lab\n",
    "# To open separate plot-windows outside the browser uncomment one of the following two lines\n",
    "%matplotlib qt\n",
    "#get_ipython().run_line_magic('matplotlib','qt5')\n",
    "\n",
    "# To open a Plot-window within notebook with zoom/edit control uncomment one of the following two lines\n",
    "# %matplotlib notebook\n",
    "# get_ipython().run_line_magic('matplotlib','notebook')\n",
    "\n",
    "# options are 'osx', 'qt4', 'qt5', 'gtk3', 'wx', 'qt', 'gtk', 'tk' , 'notebook' , 'inline'"
   ],
   "metadata": {
    "collapsed": false
   }
  },
  {
   "cell_type": "code",
   "execution_count": 2,
   "outputs": [],
   "source": [
    "## Dependencies\n",
    "from libs.timing_diagram import *\n",
    "from libs.design_functions import *\n",
    "import numpy as np\n",
    "import matplotlib.pyplot as plt\n",
    "from libs.spherical_earth_geometry_radar import *\n",
    "from libs.radartools.farField import UniformAperture\n",
    "from libs.ambiguity_functions import *"
   ],
   "metadata": {
    "collapsed": false
   }
  },
  {
   "cell_type": "code",
   "execution_count": 3,
   "outputs": [],
   "source": [
    "# constants\n",
    "c = 299792458\n",
    "\n",
    "# radar parameters\n",
    "dutycycle = 0.25  # duty cycle\n",
    "h = 500e3  # height\n",
    "wavelength = c / 10e9  # wavelength\n",
    "\n",
    "# satellite speed\n",
    "vs = orbital_speed(h)\n",
    "\n",
    "# antenna size\n",
    "Wa = 0.3  # antenna width in meters\n",
    "La = 2  # antenna length in meters\n",
    "\n",
    "# nadir duration in fractions of PRI for visualization in timing diagram\n",
    "# note, it makes sense to use this fractional quantity as the nadir duration, if unfocused (e.g. saturated receiver), will be proportional to the impulse on time.\n",
    "nadir_duration = 2 * dutycycle\n"
   ],
   "metadata": {
    "collapsed": false
   }
  },
  {
   "cell_type": "code",
   "execution_count": 4,
   "outputs": [
    {
     "name": "stderr",
     "output_type": "stream",
     "text": [
      "C:\\Users\\menca\\PycharmProjects\\systemtradeoffs\\libs\\design_functions.py:42: RuntimeWarning: invalid value encountered in arccos\n",
      "  beta = arccos(((re + h) ** 2 - re ** 2 + rs ** 2) / (2 * (re + h) * rs))\n",
      "C:\\Users\\menca\\PycharmProjects\\systemtradeoffs\\libs\\design_functions.py:43: RuntimeWarning: invalid value encountered in arccos\n",
      "  alpha = arccos(((re + h) ** 2 + re ** 2 - rs ** 2) / (2 * (re + h) * re))\n"
     ]
    },
    {
     "data": {
      "text/plain": "(100.0, 300.0)"
     },
     "execution_count": 4,
     "metadata": {},
     "output_type": "execute_result"
    }
   ],
   "source": [
    "# PRF axis\n",
    "PRI = 1 / 7050\n",
    "prf = np.linspace(1 / PRI - 4000, 1 / PRI + 4000, 100)\n",
    "\n",
    "# plot\n",
    "fig, ax = plt.subplots(1)\n",
    "time_diagram_plotter(ax, prf, dutycycle, h, nadir=False, integrationtime=False)\n",
    "nadir_return_plotter(ax, prf, dutycycle, nadir_duration, h)\n",
    "ax.set_xlabel('PRF [Hz]')\n",
    "ax.set_ylabel(' Ground range [km]')\n",
    "ax.set_xlim(1 / PRI - 1000, 1 / PRI + 1000)\n",
    "ax.set_ylim(100, 300)"
   ],
   "metadata": {
    "collapsed": false
   }
  },
  {
   "cell_type": "markdown",
   "source": [
    "Finding the \"optimal\" PRF for each looking angle at each PRF -- Ground range broadside point\n",
    "1. find the incidence angle from ground range\n",
    "2. find the min max incidence angles of the swath extremes $\\eta_{1,2} = \\eta_i \\pm \\dfrac{\\lambda}{W_A}$\n",
    "3. find the slant range delta from $\\eta_{1,2}$\n",
    "4. find PRF from delta range"
   ],
   "metadata": {
    "collapsed": false
   }
  },
  {
   "cell_type": "code",
   "execution_count": 5,
   "outputs": [
    {
     "name": "stderr",
     "output_type": "stream",
     "text": [
      "C:\\Users\\menca\\AppData\\Local\\Temp\\ipykernel_21164\\1203726107.py:16: RuntimeWarning: divide by zero encountered in divide\n",
      "  prf_opt = 1 / pri\n"
     ]
    }
   ],
   "source": [
    "# 1 ground range axis in m\n",
    "ground_range = np.linspace(0, 2000, 500) * 1000\n",
    "# 2 incidence angle\n",
    "slant_range = range_ground_to_slant(ground_range, h)\n",
    "# loopy but functional\n",
    "ground_range, eta = range_slant_to_ground(slant_range, h)  # the incidence angle is the second parameter returned\n",
    "# 3 incidence range\n",
    "eta1 = eta - wavelength / (2 * Wa)\n",
    "eta2 = eta + wavelength / (2 * Wa)\n",
    "slant_range_1, ground_range_1 = range_from_theta(eta1 * 180 / np.pi, h)\n",
    "slant_range_2, ground_range_2 = range_from_theta(eta2 * 180 / np.pi, h)\n",
    "# 4 slant range delta\n",
    "slant_delta_range = slant_range_2 - slant_range_1\n",
    "# 5 prf from slant range\n",
    "pri = 2 * slant_delta_range / c\n",
    "prf_opt = 1 / pri"
   ],
   "metadata": {
    "collapsed": false
   }
  },
  {
   "cell_type": "code",
   "execution_count": 6,
   "outputs": [],
   "source": [
    "# Add to the plot\n",
    "ax.plot(prf_opt, ground_range / 1000, 'red')\n",
    "\n",
    "plt.show()"
   ],
   "metadata": {
    "collapsed": false
   }
  },
  {
   "cell_type": "code",
   "execution_count": 7,
   "outputs": [
    {
     "name": "stdout",
     "output_type": "stream",
     "text": [
      "23.4734561406255 199.99999999999412\n"
     ]
    }
   ],
   "source": [
    "sr = range_ground_to_slant(200e3, h)\n",
    "# loopy but functional\n",
    "gr, eta = range_slant_to_ground(sr, h)  # the incidence angle is the second parameter returned\n",
    "print(eta * 180 / np.pi, gr / 1000)"
   ],
   "metadata": {
    "collapsed": false
   }
  },
  {
   "cell_type": "markdown",
   "source": [
    "Find the minimum PRF line, i.e. the Doppler bandwidth approximated as\n",
    "\\begin{equation}\n",
    "    B_D = \\dfrac{2}{La} v_g\n",
    "\\end{equation}\n",
    "with the ground velocity\n",
    "\\begin{equation}\n",
    " v_g = \\dfrac{R_E \\cos\\Theta_E}{ R_E + h} v_s\n",
    "\\end{equation}\n",
    "where\n",
    "\\begin{equation}\n",
    "    \\Theta_E = \\dfrac{r_g}{R_E}\n",
    "\\end{equation}\n",
    "$R_E$ is the Earth radius, $r_g$ the ground range, $v_s$ the satellite orbital speed\n"
   ],
   "metadata": {
    "collapsed": false
   }
  },
  {
   "cell_type": "code",
   "execution_count": 8,
   "outputs": [],
   "source": [
    "prf_min = 2 * ground_speed(ground_range, vs, h) / La"
   ],
   "metadata": {
    "collapsed": false
   }
  },
  {
   "cell_type": "code",
   "execution_count": 9,
   "outputs": [],
   "source": [
    "# Add to the plot\n",
    "ax.plot(prf_min, ground_range / 1000, 'green')\n",
    "\n",
    "plt.show()"
   ],
   "metadata": {
    "collapsed": false
   }
  },
  {
   "cell_type": "code",
   "execution_count": 10,
   "outputs": [
    {
     "data": {
      "text/plain": "(555062.2974338281, 232104.76792566918)"
     },
     "execution_count": 10,
     "metadata": {},
     "output_type": "execute_result"
    }
   ],
   "source": [
    "range_from_theta(26.8)"
   ],
   "metadata": {
    "collapsed": false
   }
  },
  {
   "cell_type": "markdown",
   "source": [
    "Find the swath given a point in the time diagram and plot it as a vetical line\n",
    "i.e.\n",
    "find closest end of transmission\n",
    "fing closest start of transmission\n",
    "plot a line (constant prf)"
   ],
   "metadata": {
    "collapsed": false
   }
  },
  {
   "cell_type": "code",
   "execution_count": 11,
   "outputs": [],
   "source": [
    "## input\n",
    "rg_coordinate = 210e3  # m\n",
    "prf_coordinate = 6800  # Hz\n",
    "\n",
    "# maximum 'acceptable' ambiguity levels\n",
    "AASR_max = - 20  # dB\n",
    "RASR_max = -20  # dB"
   ],
   "metadata": {
    "collapsed": false
   }
  },
  {
   "cell_type": "code",
   "execution_count": 12,
   "outputs": [],
   "source": [
    "swath_prf = np.zeros(2)\n",
    "swath_rg = np.zeros_like(swath_prf)\n",
    "swath_rg[0], swath_prf[0] = last_end_of_transmission(rg_coordinate, prf_coordinate, dutycycle, h)\n",
    "swath_rg[1], swath_prf[1] = next_start_of_transmission(rg_coordinate, prf_coordinate, dutycycle, h)"
   ],
   "metadata": {
    "collapsed": false
   }
  },
  {
   "cell_type": "code",
   "execution_count": 13,
   "outputs": [
    {
     "name": "stdout",
     "output_type": "stream",
     "text": [
      "swath width on ground = 28.143342631575738 km\n"
     ]
    }
   ],
   "source": [
    "# total swath considering compression time\n",
    "# 1 swath from pulse to pulse\n",
    "swath_rs = range_ground_to_slant(swath_rg, h)\n",
    "# 2 swath without 1 pulse period (half on each side)\n",
    "swath_rs_compressed = swath_rs + np.array(\n",
    "    [(1 / swath_prf[0] * dutycycle * c / 4), - 1 / swath_prf[1] * dutycycle * c / 4])\n",
    "# 3 convert back to ground range\n",
    "swath_rg_compressed, swath_eta_compressed = range_slant_to_ground(swath_rs_compressed, h)\n",
    "# swath width in km\n",
    "print('swath width on ground =', (swath_rg_compressed[-1] - swath_rg_compressed[0]) / 1000, 'km')"
   ],
   "metadata": {
    "collapsed": false
   }
  },
  {
   "cell_type": "code",
   "execution_count": 14,
   "outputs": [],
   "source": [
    "# add to plot\n",
    "ax.plot(swath_prf, swath_rg / 1000, 'k')\n",
    "ax.plot(swath_prf, swath_rg_compressed / 1000, 'P', color='k')\n",
    "plt.show()"
   ],
   "metadata": {
    "collapsed": false
   }
  },
  {
   "cell_type": "markdown",
   "source": [
    "Compute the RASR and the AASR in the defined swath\n",
    "1. Define a RadarGeometry centered at the center of the swath\n",
    "2. adjust the looking angle to maximize NESZ\n",
    "3. compute RASR and AASR\n",
    "4. Plot RASR and  AASR over doppler bandwidth / processed bandwidth\n",
    "5. Print NESZ at the swath center\n"
   ],
   "metadata": {
    "collapsed": false
   }
  },
  {
   "cell_type": "code",
   "execution_count": 15,
   "outputs": [
    {
     "name": "stdout",
     "output_type": "stream",
     "text": [
      "initial looking angle: 21.34185831339665\n"
     ]
    }
   ],
   "source": [
    "# 1\n",
    "# radar geometry class initialization\n",
    "radar_geo = RadarGeometry()\n",
    "radar_geo.set_rotation(30 * np.pi / 180, 0, 0)\n",
    "radar_geo.set_initial_position(0, 0, h)\n",
    "radar_geo.set_speed(vs)\n",
    "\n",
    "# swath center incidence angle\n",
    "rg_center, eta_center = range_slant_to_ground(np.average(swath_rs_compressed), h)\n",
    "looking_angle = incidence_angle_to_looking_angle(eta_center, h)\n",
    "radar_geo.set_rotation(looking_angle, 0, 0)\n",
    "print('initial looking angle:', looking_angle * 180 / np.pi)"
   ],
   "metadata": {
    "collapsed": false
   }
  },
  {
   "cell_type": "code",
   "execution_count": 16,
   "outputs": [
    {
     "name": "stdout",
     "output_type": "stream",
     "text": [
      "optimized looking angle: 21.4455424832387\n"
     ]
    },
    {
     "data": {
      "text/plain": "(array([[ 1.],\n        [ 0.],\n        [-0.]]),\n array([[ 0.        ],\n        [-0.93076549],\n        [ 0.36561673]]),\n array([[ 0.        ],\n        [-0.36561673],\n        [-0.93076549]]))"
     },
     "execution_count": 16,
     "metadata": {},
     "output_type": "execute_result"
    }
   ],
   "source": [
    "# 2\n",
    "# Uniform aperture antenna initialization\n",
    "uniap = UniformAperture(La, Wa, c / wavelength)\n",
    "# Optimization error function (core SNR in spherical earth at the edges of the swath)\n",
    "error_func = lambda b: snr_error(b, swath_eta_compressed[0], swath_eta_compressed[1], radar_geo, uniap)\n",
    "# b is the looking angle of the radar\n",
    "# Optimization using python native optimization methods\n",
    "looking_angle_opt = fsolve(error_func, looking_angle, maxfev=100)\n",
    "print('optimized looking angle:', looking_angle_opt[0] * 180 / np.pi)\n",
    "# set the new looking angle\n",
    "radar_geo.set_rotation(looking_angle_opt, 0, 0)"
   ],
   "metadata": {
    "collapsed": false
   }
  },
  {
   "cell_type": "code",
   "execution_count": 17,
   "outputs": [
    {
     "name": "stderr",
     "output_type": "stream",
     "text": [
      "  0%|          | 0/94 [00:00<?, ?it/s]C:\\Users\\menca\\PycharmProjects\\systemtradeoffs\\libs\\spherical_earth_geometry_radar.py:353: RuntimeWarning: invalid value encountered in arccos\n",
      "  theta_e = np.arccos(cos_theta_e) * np.sign(incidence_mesh)  # to consider also incidence angles behind nadir\n",
      "C:\\Users\\menca\\PycharmProjects\\systemtradeoffs\\libs\\ambiguity_functions.py:174: RuntimeWarning: invalid value encountered in divide\n",
      "  Numer += np.where(sin(thetaj) != 0, Gint / (raxj ** 3 * sin(thetaj)), 0)\n",
      "C:\\Users\\menca\\PycharmProjects\\systemtradeoffs\\libs\\ambiguity_functions.py:180: RuntimeWarning: invalid value encountered in divide\n",
      "  Numer += np.where(sin(thetaj) != 0, Gint / (raxj ** 3 * sin(thetaj)), 0)\n",
      "100%|██████████| 94/94 [00:03<00:00, 28.67it/s]\n"
     ]
    }
   ],
   "source": [
    "# 3\n",
    "# find the RASR over the observable range\n",
    "# support axis\n",
    "incidence_axis = np.linspace(swath_eta_compressed[0], swath_eta_compressed[1], 30)\n",
    "slant_range_axis, ground_range_axis = range_from_theta(incidence_axis * 180 / np.pi, h)\n",
    "# nominal Doppler bandwidth\n",
    "Bd = 2 * ground_speed(rg_center, vs, h) / La * 0.5\n",
    "rasr = RASR(radar_geo, uniap, incidence_axis, 1 / prf_coordinate, Bd, wavelength, vs, h, pbaroff=False)"
   ],
   "metadata": {
    "collapsed": false
   }
  },
  {
   "cell_type": "code",
   "execution_count": 18,
   "outputs": [
    {
     "data": {
      "text/plain": "Text(0, 0.5, 'RASR [dB]')"
     },
     "execution_count": 18,
     "metadata": {},
     "output_type": "execute_result"
    }
   ],
   "source": [
    "fig1, ax1 = plt.subplots(1)\n",
    "ax1.plot(ground_range_axis / 1000, 10 * np.log10(rasr))\n",
    "ax1.set_xlabel('ground range [km]')\n",
    "ax1.set_ylabel('RASR [dB]')"
   ],
   "metadata": {
    "collapsed": false
   }
  },
  {
   "cell_type": "code",
   "execution_count": 19,
   "outputs": [
    {
     "name": "stderr",
     "output_type": "stream",
     "text": [
      " 27%|██▋       | 4/15 [00:07<00:19,  1.81s/it]C:\\Users\\menca\\PycharmProjects\\systemtradeoffs\\libs\\spherical_earth_geometry_radar.py:290: RuntimeWarning: invalid value encountered in sqrt\n",
      "  arg = ((lambda_c ** 2 * doppler_mesh ** 2 + np.sqrt(\n",
      "100%|██████████| 15/15 [00:27<00:00,  1.87s/it]\n"
     ]
    }
   ],
   "source": [
    "# AASR\n",
    "doppler_undersampling_ratio = np.linspace(.01, 1, 15)\n",
    "aasr = np.zeros_like(doppler_undersampling_ratio)\n",
    "for ii in tqdm(range(len(aasr))):\n",
    "    aasr[ii] = AASR(radar_geo, uniap, eta_center * 180 / np.pi, prf_coordinate, Bd * doppler_undersampling_ratio[ii],\n",
    "                    wavelength, pbaroff=True)\n"
   ],
   "metadata": {
    "collapsed": false
   }
  },
  {
   "cell_type": "code",
   "execution_count": 20,
   "outputs": [
    {
     "data": {
      "text/plain": "Text(0, 0.5, 'AASR [dB]')"
     },
     "execution_count": 20,
     "metadata": {},
     "output_type": "execute_result"
    }
   ],
   "source": [
    "fig2, ax2 = plt.subplots(1)\n",
    "ax2.plot(doppler_undersampling_ratio, 10 * np.log10(aasr))\n",
    "ax2.set_xlabel('Doppler undersampling ratio')\n",
    "ax2.set_ylabel('AASR [dB]')"
   ],
   "metadata": {
    "collapsed": false
   }
  },
  {
   "cell_type": "code",
   "execution_count": 21,
   "outputs": [
    {
     "name": "stdout",
     "output_type": "stream",
     "text": [
      "97.22490251632344 dB\n"
     ]
    }
   ],
   "source": [
    "# Core SNR\n",
    "core_snr, azres = core_snr_spherical(radar_geo, uniap, eta_center, wavelength, vs, h, 1)\n",
    "print(10 * np.log10(core_snr[0]), 'dB')"
   ],
   "metadata": {
    "collapsed": false
   }
  },
  {
   "cell_type": "markdown",
   "source": [
    "Add a thresholding on RASR and AASR"
   ],
   "metadata": {
    "collapsed": false
   }
  },
  {
   "cell_type": "code",
   "execution_count": 22,
   "outputs": [
    {
     "name": "stdout",
     "output_type": "stream",
     "text": [
      "swath with acceptable RASR: 17596.87320741039\n"
     ]
    }
   ],
   "source": [
    "# RASR threshold, numerical on the computed vector, no recalculation.\n",
    "# find the swath with rasr smaller than RASR min\n",
    "indexes = np.argwhere(rasr < 10 ** (RASR_max / 10))\n",
    "ranges = ground_range_axis[indexes]\n",
    "# differential integration\n",
    "swath_rasr = 0\n",
    "for ii in range(len(ranges) - 1):\n",
    "    swath_rasr += ranges[-ii - 1] - ranges[-ii - 2]\n",
    "if swath_rasr != 0:\n",
    "    print(\"swath with acceptable RASR:\", swath_rasr[0])\n",
    "else:\n",
    "    print(\"RASR exceeding max over all the swath\")"
   ],
   "metadata": {
    "collapsed": false
   }
  },
  {
   "cell_type": "markdown",
   "source": [],
   "metadata": {
    "collapsed": false
   }
  },
  {
   "cell_type": "code",
   "execution_count": 23,
   "outputs": [],
   "source": [
    "# add to plot the RASR threshold\n",
    "if swath_rasr != 0:\n",
    "    ax1.scatter(ranges / 1000, np.ones_like(ranges) * RASR_max, marker='.', color='r',\n",
    "                label=str('rg=' + str(np.round(swath_rasr[0] / 1000, 2)) + '[km]'))\n",
    "    ax1.legend()"
   ],
   "metadata": {
    "collapsed": false
   }
  },
  {
   "cell_type": "code",
   "execution_count": 24,
   "outputs": [
    {
     "name": "stdout",
     "output_type": "stream",
     "text": [
      "[0.22214286]\n",
      "[0.25009771]\n"
     ]
    }
   ],
   "source": [
    "# AASR threshold linear interpolation between computed samples\n",
    "\n",
    "indexes = np.argwhere(aasr < 10 ** (AASR_max / 10))\n",
    "if len(indexes) != 0:\n",
    "    undersampling = doppler_undersampling_ratio[max(indexes)]\n",
    "    print(undersampling)\n",
    "    if max(indexes) < len(aasr):\n",
    "        # linear interpolation\n",
    "        x = (AASR_max)\n",
    "        x_0 = 10 * np.log10(aasr[max(indexes)])\n",
    "        x_1 = 10 * np.log10(aasr[max(indexes) + 1])\n",
    "        y_0 = doppler_undersampling_ratio[max(indexes)]\n",
    "        y_1 = doppler_undersampling_ratio[max(indexes) + 1]\n",
    "        undersampling = (y_0 * (x_1 - x) + y_1 * (x - x_0)) / (x_1 - x_0)\n",
    "    print(undersampling)\n",
    "else:\n",
    "    undersampling = 0"
   ],
   "metadata": {
    "collapsed": false
   }
  },
  {
   "cell_type": "code",
   "execution_count": 25,
   "outputs": [
    {
     "data": {
      "text/plain": "<matplotlib.legend.Legend at 0x1ab2d2eed70>"
     },
     "execution_count": 25,
     "metadata": {},
     "output_type": "execute_result"
    }
   ],
   "source": [
    "ax2.scatter(undersampling, AASR_max, marker='o', color='r',\n",
    "            label='undersampling ratio =' + str(np.round(undersampling[0], 2)))\n",
    "ax2.legend()"
   ],
   "metadata": {
    "collapsed": false
   }
  },
  {
   "cell_type": "code",
   "execution_count": 26,
   "outputs": [
    {
     "data": {
      "text/plain": "4.0"
     },
     "execution_count": 26,
     "metadata": {},
     "output_type": "execute_result"
    }
   ],
   "source": [
    "1/0.25"
   ],
   "metadata": {
    "collapsed": false
   }
  },
  {
   "cell_type": "code",
   "execution_count": 31,
   "outputs": [
    {
     "name": "stderr",
     "output_type": "stream",
     "text": [
      "C:\\Users\\menca\\PycharmProjects\\systemtradeoffs\\venv\\lib\\site-packages\\scipy\\optimize\\_minpack_py.py:178: RuntimeWarning: The number of calls to function has reached maxfev = 26.\n",
      "  warnings.warn(msg, RuntimeWarning)\n"
     ]
    }
   ],
   "source": [
    "# optimize processed doppler bandwidth for aasr\n",
    "fractional = fsolve(\n",
    "    lambda p: 10 * np.log10(AASR(radar_geo, uniap, eta_center * 180 / np.pi, prf_coordinate, Bd * p, wavelength, pbaroff=True)) - AASR_max, 1, maxfev=26)"
   ],
   "metadata": {
    "collapsed": false
   }
  },
  {
   "cell_type": "code",
   "execution_count": 30,
   "outputs": [
    {
     "name": "stdout",
     "output_type": "stream",
     "text": [
      "[0.23363243]\n"
     ]
    }
   ],
   "source": [
    "print(fractional)"
   ],
   "metadata": {
    "collapsed": false
   }
  },
  {
   "cell_type": "code",
   "execution_count": 32,
   "outputs": [
    {
     "name": "stdout",
     "output_type": "stream",
     "text": [
      "[0.23477133]\n"
     ]
    }
   ],
   "source": [
    "print(fractional)"
   ],
   "metadata": {
    "collapsed": false
   }
  },
  {
   "cell_type": "code",
   "execution_count": null,
   "outputs": [],
   "source": [
    "# the optimization method is slower and doesn't improve much the resolution"
   ],
   "metadata": {
    "collapsed": false
   }
  }
 ],
 "metadata": {
  "kernelspec": {
   "display_name": "Python 3",
   "language": "python",
   "name": "python3"
  },
  "language_info": {
   "codemirror_mode": {
    "name": "ipython",
    "version": 2
   },
   "file_extension": ".py",
   "mimetype": "text/x-python",
   "name": "python",
   "nbconvert_exporter": "python",
   "pygments_lexer": "ipython2",
   "version": "2.7.6"
  }
 },
 "nbformat": 4,
 "nbformat_minor": 0
}
