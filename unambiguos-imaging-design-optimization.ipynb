{
 "cells": [
  {
   "cell_type": "markdown",
   "source": [
    "For a given antenna size, find the solutions with minimal ambiguity\n",
    "the doppler bandwidth can be reduced\n",
    "\n",
    "1. find the optimal line in the timing diagram plane (based on antenna width), i.e., elevation 3-db angle\n",
    "2. find all valid swaths close to the optimal line in the timing diagram plane. don't care about the nadir return, this can be discarded in the final image anywais.\n",
    "3. make the valid swaths selectable by an order *n* identifying how far the point is from the optimal.\n"
   ],
   "metadata": {
    "collapsed": false
   }
  },
  {
   "cell_type": "markdown",
   "source": [
    "plot timing diag\n",
    "plot optimal prf vs looking angle\n",
    "todo test timingdiagram plotter here"
   ],
   "metadata": {
    "collapsed": false
   }
  },
  {
   "cell_type": "code",
   "execution_count": 40,
   "outputs": [],
   "source": [
    "# From Michelangelo Villano's hands on lab\n",
    "# To open separate plot-windows outside the browser uncomment one of the following two lines\n",
    "%matplotlib qt\n",
    "#get_ipython().run_line_magic('matplotlib','qt5')\n",
    "\n",
    "# To open a Plot-window within notebook with zoom/edit control uncomment one of the following two lines\n",
    "# %matplotlib notebook\n",
    "# get_ipython().run_line_magic('matplotlib','notebook')\n",
    "\n",
    "# options are 'osx', 'qt4', 'qt5', 'gtk3', 'wx', 'qt', 'gtk', 'tk' , 'notebook' , 'inline'"
   ],
   "metadata": {
    "collapsed": false
   }
  },
  {
   "cell_type": "code",
   "execution_count": 41,
   "outputs": [],
   "source": [
    "## Dependencies\n",
    "from libs.timing_diagram import *\n",
    "from libs.design_functions import *\n",
    "import numpy as np\n",
    "import matplotlib.pyplot as plt"
   ],
   "metadata": {
    "collapsed": false
   }
  },
  {
   "cell_type": "code",
   "execution_count": 42,
   "outputs": [],
   "source": [
    "# constants\n",
    "c = 299792458\n",
    "\n",
    "# radar parameters\n",
    "dutycycle = 0.25  # duty cycle\n",
    "h = 500e3  # height\n",
    "wavelength = c / 10e9  # wavelength\n",
    "\n",
    "# satellite speed\n",
    "vs = orbital_speed(h)\n",
    "\n",
    "# antenna size\n",
    "Wa = 0.3  # antenna width in meters\n",
    "La = 2  # antenna length in meters\n",
    "\n",
    "# nadir duration in fractions of PRI for visualization in timing diagram\n",
    "# note, it makes sense to use this fractional quantity as the nadir duration, if unfocused (e.g. saturated receiver), will be proportional to the impulse on time.\n",
    "nadir_duration = 2 * dutycycle\n"
   ],
   "metadata": {
    "collapsed": false
   }
  },
  {
   "cell_type": "code",
   "execution_count": 43,
   "outputs": [
    {
     "name": "stderr",
     "output_type": "stream",
     "text": [
      "C:\\Users\\smen851\\PycharmProjects\\systemtradeoffs\\libs\\design_functions.py:42: RuntimeWarning: invalid value encountered in arccos\n",
      "  beta = arccos(((re + h) ** 2 - re ** 2 + rs ** 2) / (2 * (re + h) * rs))\n",
      "C:\\Users\\smen851\\PycharmProjects\\systemtradeoffs\\libs\\design_functions.py:43: RuntimeWarning: invalid value encountered in arccos\n",
      "  alpha = arccos(((re + h) ** 2 + re ** 2 - rs ** 2) / (2 * (re + h) * re))\n"
     ]
    },
    {
     "data": {
      "text/plain": "(100.0, 300.0)"
     },
     "execution_count": 43,
     "metadata": {},
     "output_type": "execute_result"
    }
   ],
   "source": [
    "# PRF axis\n",
    "PRI = 1 / 7050\n",
    "prf = np.linspace(1 / PRI - 4000, 1 / PRI + 4000, 100)\n",
    "\n",
    "# plot\n",
    "fig, ax = plt.subplots(1)\n",
    "time_diagram_plotter(ax, prf, dutycycle, h, nadir=False, integrationtime=False)\n",
    "nadir_return_plotter(ax, prf, dutycycle, nadir_duration, h)\n",
    "ax.set_xlabel('PRF [Hz]')\n",
    "ax.set_ylabel(' Ground range [km]')\n",
    "ax.set_xlim(1 / PRI - 1000, 1 / PRI + 1000)\n",
    "ax.set_ylim(100, 300)"
   ],
   "metadata": {
    "collapsed": false
   }
  },
  {
   "cell_type": "markdown",
   "source": [
    "Finding the \"optimal\" PRF for each looking angle at each PRF -- Ground range broadside point\n",
    "1. find the incidence angle from ground range\n",
    "2. find the min max incidence angles of the swath extremes $\\eta_{1,2} = \\eta_i \\pm \\dfrac{\\lambda}{W_A}$\n",
    "3. find the slant range delta from $\\eta_{1,2}$\n",
    "4. find PRF from delta range"
   ],
   "metadata": {
    "collapsed": false
   }
  },
  {
   "cell_type": "code",
   "execution_count": 44,
   "outputs": [
    {
     "name": "stderr",
     "output_type": "stream",
     "text": [
      "C:\\Users\\smen851\\AppData\\Local\\Temp\\ipykernel_15828\\1203726107.py:16: RuntimeWarning: divide by zero encountered in divide\n",
      "  prf_opt = 1 / pri\n"
     ]
    }
   ],
   "source": [
    "# 1 ground range axis in m\n",
    "ground_range = np.linspace(0, 2000, 500) * 1000\n",
    "# 2 incidence angle\n",
    "slant_range = range_ground_to_slant(ground_range, h)\n",
    "# loopy but functional\n",
    "ground_range, eta = range_slant_to_ground(slant_range, h)  # the incidence angle is the second parameter returned\n",
    "# 3 incidence range\n",
    "eta1 = eta - wavelength / (2 * Wa)\n",
    "eta2 = eta + wavelength / (2 * Wa)\n",
    "slant_range_1, ground_range_1 = range_from_theta(eta1 * 180 / np.pi, h)\n",
    "slant_range_2, ground_range_2 = range_from_theta(eta2 * 180 / np.pi, h)\n",
    "# 4 slant range delta\n",
    "slant_delta_range = slant_range_2 - slant_range_1\n",
    "# 5 prf from slant range\n",
    "pri = 2 * slant_delta_range / c\n",
    "prf_opt = 1 / pri"
   ],
   "metadata": {
    "collapsed": false
   }
  },
  {
   "cell_type": "code",
   "execution_count": 45,
   "outputs": [],
   "source": [
    "# Add to the plot\n",
    "ax.plot(prf_opt, ground_range / 1000, 'red')\n",
    "\n",
    "plt.show()"
   ],
   "metadata": {
    "collapsed": false
   }
  },
  {
   "cell_type": "code",
   "execution_count": 46,
   "outputs": [
    {
     "name": "stdout",
     "output_type": "stream",
     "text": [
      "23.4734561406255 199.99999999999412\n"
     ]
    }
   ],
   "source": [
    "sr = range_ground_to_slant(200e3, h)\n",
    "# loopy but functional\n",
    "gr, eta = range_slant_to_ground(sr, h)  # the incidence angle is the second parameter returned\n",
    "print(eta * 180 / np.pi, gr / 1000)"
   ],
   "metadata": {
    "collapsed": false
   }
  },
  {
   "cell_type": "markdown",
   "source": [
    "Find the minimum PRF line, i.e. the Doppler bandwidth approximated as\n",
    "\\begin{equation}\n",
    "    B_D = \\dfrac{2}{La} v_g\n",
    "\\end{equation}\n",
    "with the ground velocity\n",
    "\\begin{equation}\n",
    " v_g = \\dfrac{R_E \\cos\\Theta_E}{ R_E + h} v_s\n",
    "\\end{equation}\n",
    "where\n",
    "\\begin{equation}\n",
    "    \\Theta_E = \\dfrac{r_g}{R_E}\n",
    "\\end{equation}\n",
    "$R_E$ is the Earth radius, $r_g$ the ground range, $v_s$ the satellite orbital speed\n"
   ],
   "metadata": {
    "collapsed": false
   }
  },
  {
   "cell_type": "code",
   "execution_count": 47,
   "outputs": [],
   "source": [
    "prf_min = 2 * ground_speed(ground_range, vs, h) / La"
   ],
   "metadata": {
    "collapsed": false
   }
  },
  {
   "cell_type": "code",
   "execution_count": 48,
   "outputs": [],
   "source": [
    "# Add to the plot\n",
    "ax.plot(prf_min, ground_range / 1000, 'green')\n",
    "\n",
    "plt.show()"
   ],
   "metadata": {
    "collapsed": false
   }
  },
  {
   "cell_type": "code",
   "execution_count": 49,
   "outputs": [
    {
     "data": {
      "text/plain": "(555062.2974338281, 232104.76792566918)"
     },
     "execution_count": 49,
     "metadata": {},
     "output_type": "execute_result"
    }
   ],
   "source": [
    "range_from_theta(26.8)"
   ],
   "metadata": {
    "collapsed": false
   }
  },
  {
   "cell_type": "markdown",
   "source": [
    "Find the swath given a point in the time diagram and plot it as a vetical line\n",
    "i.e.\n",
    "find closest end of transmission\n",
    "fing closest start of transmission\n",
    "plot a line (constant prf)"
   ],
   "metadata": {
    "collapsed": false
   }
  },
  {
   "cell_type": "code",
   "execution_count": 50,
   "outputs": [],
   "source": [
    "rg_coordinate = 200e3 # m\n",
    "prf_coordinate = 6780 # Hz\n",
    "swath_prf = np.zeros(2)\n",
    "swath_rg = np.zeros_like(swath_prf)\n",
    "swath_rg[0], swath_prf[0] = last_end_of_transmission(rg_coordinate, prf_coordinate, dutycycle, h)\n",
    "swath_rg[1], swath_prf[1] = next_start_of_transmission(rg_coordinate, prf_coordinate,dutycycle, h)"
   ],
   "metadata": {
    "collapsed": false
   }
  },
  {
   "cell_type": "code",
   "execution_count": 51,
   "outputs": [
    {
     "name": "stdout",
     "output_type": "stream",
     "text": [
      "swath width on ground = 27.73750754106915 km\n"
     ]
    }
   ],
   "source": [
    "# total swath considering compression time\n",
    "# 1 swath from pulse to pulse\n",
    "swath_rs = range_ground_to_slant(swath_rg, h)\n",
    "# 2 swath without 1 pulse period (half on each side)\n",
    "swath_rs_compressed = swath_rs + np.array([(1 / swath_prf[0] * dutycycle * c / 4), - 1 / swath_prf[1] * dutycycle * c / 4])\n",
    "# 3 convert back to ground range\n",
    "swath_rg_compressed, swath_rg_eta_compressed = range_slant_to_ground(swath_rs_compressed, h)\n",
    "# swath width in km\n",
    "print('swath width on ground =', (swath_rg_compressed[-1] - swath_rg_compressed[0]) / 1000, 'km' )"
   ],
   "metadata": {
    "collapsed": false
   }
  },
  {
   "cell_type": "code",
   "execution_count": 52,
   "outputs": [],
   "source": [
    "# add to plot\n",
    "ax.plot(swath_prf, swath_rg / 1000 , 'k')\n",
    "ax.plot(swath_prf, swath_rg_compressed / 1000, 'P', color='k')\n",
    "plt.show()"
   ],
   "metadata": {
    "collapsed": false
   }
  },
  {
   "cell_type": "code",
   "execution_count": 52,
   "outputs": [],
   "source": [],
   "metadata": {
    "collapsed": false
   }
  }
 ],
 "metadata": {
  "kernelspec": {
   "display_name": "Python 3",
   "language": "python",
   "name": "python3"
  },
  "language_info": {
   "codemirror_mode": {
    "name": "ipython",
    "version": 2
   },
   "file_extension": ".py",
   "mimetype": "text/x-python",
   "name": "python",
   "nbconvert_exporter": "python",
   "pygments_lexer": "ipython2",
   "version": "2.7.6"
  }
 },
 "nbformat": 4,
 "nbformat_minor": 0
}
