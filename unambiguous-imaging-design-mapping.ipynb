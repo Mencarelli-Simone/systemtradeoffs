{
 "cells": [
  {
   "cell_type": "code",
   "execution_count": 31,
   "metadata": {
    "collapsed": true,
    "ExecuteTime": {
     "start_time": "2023-04-26T20:24:28.650371Z",
     "end_time": "2023-04-26T20:24:28.898828Z"
    }
   },
   "outputs": [],
   "source": [
    "# todo\n",
    "# 16/3/23"
   ]
  },
  {
   "cell_type": "markdown",
   "source": [
    "he idea is to make some surface plots over the TD space to compare:\n",
    "            resolution degradation for a fixed minimum AASR,\n",
    "            swath portion over which RASR excedes a certain treshold,\n",
    "            peak core snr\n",
    "            NEXT what happens morphing the antenna size?"
   ],
   "metadata": {
    "collapsed": false
   }
  },
  {
   "cell_type": "code",
   "execution_count": 32,
   "outputs": [],
   "source": [
    "# From Michelangelo Villano's hands on lab\n",
    "# To open separate plot-windows outside the browser uncomment one of the following two lines\n",
    "%matplotlib qt\n",
    "#get_ipython().run_line_magic('matplotlib','qt5')\n",
    "\n",
    "# To open a Plot-window within notebook with zoom/edit control uncomment one of the following two lines\n",
    "# %matplotlib notebook\n",
    "# get_ipython().run_line_magic('matplotlib','notebook')\n",
    "\n",
    "# options are 'osx', 'qt4', 'qt5', 'gtk3', 'wx', 'qt', 'gtk', 'tk' , 'notebook' , 'inline'"
   ],
   "metadata": {
    "collapsed": false,
    "ExecuteTime": {
     "start_time": "2023-04-26T20:24:28.673794Z",
     "end_time": "2023-04-26T20:24:29.096484Z"
    }
   }
  },
  {
   "cell_type": "code",
   "execution_count": 33,
   "outputs": [],
   "source": [
    "## Dependencies\n",
    "from libs.timing_diagram import *\n",
    "from libs.design_functions import *\n",
    "import numpy as np\n",
    "import matplotlib.pyplot as plt\n",
    "from libs.spherical_earth_geometry_radar import *\n",
    "from libs.radartools.farField import UniformAperture\n",
    "from libs.ambiguity_functions import *\n",
    "from unambiguous_imaging_design_analysis import *"
   ],
   "metadata": {
    "collapsed": false,
    "ExecuteTime": {
     "start_time": "2023-04-26T20:24:28.685726Z",
     "end_time": "2023-04-26T20:24:29.096484Z"
    }
   }
  },
  {
   "cell_type": "markdown",
   "source": [
    "_*Problem : how to sample the space:*_\n",
    "\n",
    "**possibility 1** we restrict the sampling space to solutions which align at the far range (transmit event excluded) with the next nadir return.\n",
    "- few points have to be computed\n",
    "- some dynamics might be hidden\n",
    "\n",
    "**possibility 2** we set a minimum and maximum range, we discretize the PRF axis, and we find all possible ranges for each sample within the swath.\n",
    "- resolution set by the user\n",
    "- the samples might not coincide with the nadir return avoidance optimal (a visual selection can still be made in any case).\n",
    "\n",
    "**2** is better overall\n",
    "\n",
    "Also we can use the intersection point of the two minprf and opt prf curves as a reference point, but how?"
   ],
   "metadata": {
    "collapsed": false
   }
  },
  {
   "cell_type": "code",
   "execution_count": 34,
   "outputs": [],
   "source": [
    "## System Parameters\n",
    "\n",
    "# constants\n",
    "c = 299792458\n",
    "\n",
    "# radar parameters\n",
    "dutycycle = 0.25  # duty cycle\n",
    "h = 500e3  # height\n",
    "wavelength = c / 10e9  # wavelength\n",
    "\n",
    "# satellite speed\n",
    "vs = orbital_speed(h)\n",
    "\n",
    "# antenna size\n",
    "Wa = 0.3  # antenna width in meters\n",
    "La = 2  # antenna length in meters\n",
    "\n",
    "# nadir duration in fractions of PRI for visualization in timing diagram\n",
    "# note, it makes sense to use this fractional quantity as the nadir duration, if unfocused (e.g. saturated receiver), will be proportional to the impulse on time.\n",
    "nadir_duration = 2 * dutycycle\n"
   ],
   "metadata": {
    "collapsed": false,
    "ExecuteTime": {
     "start_time": "2023-04-26T20:24:28.703810Z",
     "end_time": "2023-04-26T20:24:29.100923Z"
    }
   }
  },
  {
   "cell_type": "code",
   "execution_count": 35,
   "outputs": [
    {
     "name": "stderr",
     "output_type": "stream",
     "text": [
      "C:\\Users\\menca\\PycharmProjects\\systemtradeoffs\\libs\\design_functions.py:42: RuntimeWarning: invalid value encountered in arccos\n",
      "  beta = arccos(((re + h) ** 2 - re ** 2 + rs ** 2) / (2 * (re + h) * rs))\n",
      "C:\\Users\\menca\\PycharmProjects\\systemtradeoffs\\libs\\design_functions.py:43: RuntimeWarning: invalid value encountered in arccos\n",
      "  alpha = arccos(((re + h) ** 2 + re ** 2 - rs ** 2) / (2 * (re + h) * re))\n"
     ]
    },
    {
     "data": {
      "text/plain": "(100.0, 300.0)"
     },
     "execution_count": 35,
     "metadata": {},
     "output_type": "execute_result"
    }
   ],
   "source": [
    "## base diagram\n",
    "# PRF axis\n",
    "PRI = 1 / 7050\n",
    "prf = np.linspace(1 / PRI - 4000, 1 / PRI + 4000, 100)\n",
    "\n",
    "# plot\n",
    "fig, ax = plt.subplots(1, dpi=250)\n",
    "time_diagram_plotter(ax, prf, dutycycle, h, nadir=False, integrationtime=False)\n",
    "nadir_return_plotter(ax, prf, dutycycle, nadir_duration, h)\n",
    "ax.set_xlabel('PRF [Hz]')\n",
    "ax.set_ylabel(' Ground range [km]')\n",
    "ax.set_xlim(1 / PRI - 1000, 1 / PRI + 1000)\n",
    "ax.set_ylim(100, 300)"
   ],
   "metadata": {
    "collapsed": false,
    "ExecuteTime": {
     "start_time": "2023-04-26T20:24:28.721634Z",
     "end_time": "2023-04-26T20:24:38.488086Z"
    }
   }
  },
  {
   "cell_type": "code",
   "execution_count": 36,
   "outputs": [
    {
     "name": "stderr",
     "output_type": "stream",
     "text": [
      "C:\\Users\\menca\\PycharmProjects\\systemtradeoffs\\unambiguous_imaging_design_analysis.py:56: RuntimeWarning: divide by zero encountered in divide\n",
      "  prf_opt = 1 / pri\n"
     ]
    },
    {
     "data": {
      "text/plain": "[<matplotlib.lines.Line2D at 0x1ee70a83220>]"
     },
     "execution_count": 36,
     "metadata": {},
     "output_type": "execute_result"
    }
   ],
   "source": [
    "## canonical constraints line plots\n",
    "# 1 ground range axis in m\n",
    "ground_range = np.linspace(0, 2000, 500) * 1000\n",
    "\n",
    "prf_opt = optimal_prf_line(ground_range, Wa, wavelength, h)\n",
    "# Add to the plot\n",
    "ax.plot(prf_opt, ground_range / 1000, 'red')\n",
    "\n",
    "prf_min = minimum_prf_line(ground_range, vs, La, h)\n",
    "ax.plot(prf_min, ground_range / 1000, 'green')"
   ],
   "metadata": {
    "collapsed": false,
    "ExecuteTime": {
     "start_time": "2023-04-26T20:24:38.491505Z",
     "end_time": "2023-04-26T20:24:38.522915Z"
    }
   }
  },
  {
   "cell_type": "code",
   "execution_count": 37,
   "outputs": [
    {
     "name": "stdout",
     "output_type": "stream",
     "text": [
      "[7058.91598277] [197427.8613883]\n"
     ]
    },
    {
     "data": {
      "text/plain": "[<matplotlib.lines.Line2D at 0x1ee688b9ba0>]"
     },
     "execution_count": 37,
     "metadata": {},
     "output_type": "execute_result"
    }
   ],
   "source": [
    "# find the intersection point\n",
    "tosolve = lambda rgx: optimal_prf_line(rgx, Wa, wavelength, h) - minimum_prf_line(rgx, vs, La, h)\n",
    "\n",
    "rg_point = fsolve(tosolve, 200000)\n",
    "prf_point = minimum_prf_line(rg_point, vs, La, h)\n",
    "\n",
    "print(prf_point, rg_point)\n",
    "\n",
    "ax.plot(prf_point, rg_point / 1000, 'x', color='blue')"
   ],
   "metadata": {
    "collapsed": false,
    "ExecuteTime": {
     "start_time": "2023-04-26T20:24:38.516341Z",
     "end_time": "2023-04-26T20:24:38.689012Z"
    }
   }
  },
  {
   "cell_type": "markdown",
   "source": [
    "At this point we have the timing diagram, the minimum PRF line, the maximum range line, and the intersetion point representing the ideal design solution.\n",
    "\n",
    "The intersection point will be the center sample for the analysis; the extent is set empirically."
   ],
   "metadata": {
    "collapsed": false
   }
  },
  {
   "cell_type": "markdown",
   "source": [
    "# Phase0: defining the meshgrid for calculation"
   ],
   "metadata": {
    "collapsed": false
   }
  },
  {
   "cell_type": "code",
   "execution_count": 38,
   "outputs": [],
   "source": [
    "# number of PRF samples\n",
    "x_samples = 3\n",
    "# number of ground range samples\n",
    "y_samples = 4\n",
    "\n",
    "prf_axis = np.linspace(prf_point - 1e3, prf_point + 1e3, x_samples)\n",
    "prf_mesh = np.repeat(prf_axis, y_samples).reshape(x_samples, y_samples)\n",
    "#print(prf_mesh)\n",
    "\n",
    "# ground range mesh coordinates initialization\n",
    "rg_mesh = np.zeros_like(prf_mesh)\n",
    "for ii in range(x_samples):\n",
    "    prf_point = prf_axis[ii]\n",
    "    # the center range sample shall be on the red curve\n",
    "    rg_opt = lambda rg: optimal_prf_line(rg, Wa, wavelength, h) - prf_point\n",
    "    rg_point = fsolve(rg_opt, rg_point)  # todo red curve\n",
    "    # 1 convert rg to slant range\n",
    "    rs = range_ground_to_slant(rg_point, h)\n",
    "    # 2 find the next pulse order\n",
    "    n = np.ceil((2 * rs / c) * prf_point)\n",
    "    # 3 find the nadir order\n",
    "    n_nadir = np.ceil((2 * h / c) * prf_point)\n",
    "    # 4 generate the range axis\n",
    "    if n - n_nadir <= y_samples / 2:  # to maintain a side looking geometry and the same number of samples\n",
    "        rs_axis = (np.arange(n_nadir, n_nadir + y_samples) + 0.5) * c / (2 * prf_point)\n",
    "        rg_axis, tt = range_slant_to_ground(rs_axis, h)\n",
    "    else:\n",
    "        rs_axis = (np.arange(n - int(y_samples / 2) - 1, n - int(y_samples / 2) - 1 + y_samples) + 0.5) * c / (\n",
    "                2 * prf_point)\n",
    "        rg_axis, tt = range_slant_to_ground(rs_axis, h)\n",
    "    rg_mesh[ii] = rg_axis\n",
    "\n",
    "# it seems to work. tested with different values of x samples and y samples"
   ],
   "metadata": {
    "collapsed": false,
    "ExecuteTime": {
     "start_time": "2023-04-26T20:24:40.428213Z",
     "end_time": "2023-04-26T20:24:40.484093Z"
    }
   }
  },
  {
   "cell_type": "code",
   "execution_count": 39,
   "outputs": [
    {
     "name": "stdout",
     "output_type": "stream",
     "text": [
      "[[6058.91598277 6058.91598277 6058.91598277 6058.91598277]\n",
      " [7058.91598277 7058.91598277 7058.91598277 7058.91598277]\n",
      " [8058.91598277 8058.91598277 8058.91598277 8058.91598277]]\n",
      "[[174726.22012331 235593.7827447  285687.91255835 329953.14321422]\n",
      " [138438.15853905 200183.13214924 248635.63701629 290524.57559297]\n",
      " [103861.84345    169566.42887375 217626.48522901 258094.88507262]]\n"
     ]
    }
   ],
   "source": [
    "print(prf_mesh)\n",
    "print(rg_mesh)"
   ],
   "metadata": {
    "collapsed": false,
    "ExecuteTime": {
     "start_time": "2023-04-26T20:24:40.469073Z",
     "end_time": "2023-04-26T20:24:40.611599Z"
    }
   }
  },
  {
   "cell_type": "code",
   "execution_count": 40,
   "outputs": [
    {
     "data": {
      "text/plain": "(3, 4)"
     },
     "execution_count": 40,
     "metadata": {},
     "output_type": "execute_result"
    }
   ],
   "source": [
    "rg_mesh.shape"
   ],
   "metadata": {
    "collapsed": false,
    "ExecuteTime": {
     "start_time": "2023-04-26T20:24:40.567018Z",
     "end_time": "2023-04-26T20:24:40.611599Z"
    }
   }
  },
  {
   "cell_type": "code",
   "execution_count": 11,
   "outputs": [],
   "source": [
    "# visualization\n",
    "# plotting the points in the already open timing diagram.\n",
    "\n",
    "X, Y = prf_mesh, rg_mesh\n",
    "\n",
    "for ii in range(x_samples * y_samples):\n",
    "    ax.plot(X.flatten()[ii], Y.flatten()[ii] / 1000, 'x', color='green')\n",
    "\n",
    "# adjust the plot scale\n",
    "ax.set_xlim(X.min() - 3e2, X.max() + 3e2)\n",
    "ax.set_ylim(Y.min() / 1e3 - 30, Y.max() / 1e3 + 30);"
   ],
   "metadata": {
    "collapsed": false,
    "ExecuteTime": {
     "start_time": "2023-04-26T19:53:49.908294Z",
     "end_time": "2023-04-26T19:53:50.025424Z"
    }
   }
  },
  {
   "cell_type": "markdown",
   "source": [
    "# Phase1: Design optimization for every point of the grid"
   ],
   "metadata": {
    "collapsed": false
   }
  },
  {
   "cell_type": "code",
   "execution_count": 12,
   "outputs": [],
   "source": [
    "# maximum acceptable AASR level\n",
    "AASR_max = -20  #dB\n",
    "# maximum acceptable RASR level\n",
    "RASR_max = -20  #dB"
   ],
   "metadata": {
    "collapsed": false,
    "ExecuteTime": {
     "start_time": "2023-04-26T19:53:49.989021Z",
     "end_time": "2023-04-26T19:53:50.028860Z"
    }
   }
  },
  {
   "cell_type": "code",
   "execution_count": 13,
   "outputs": [],
   "source": [
    "##  Initialization of the geometry model and aperture model\n",
    "\n",
    "# Radar Geometry object\n",
    "radar_geo = RadarGeometry()\n",
    "radar_geo.set_rotation(30 * np.pi / 180, 0, 0)\n",
    "radar_geo.set_initial_position(0, 0, h)\n",
    "radar_geo.set_speed(vs)\n",
    "# no need to set the radar rotation as this will be done inside the analysys function\n",
    "\n",
    "# Uniform aperture antenna initialization\n",
    "uniap = UniformAperture(La, Wa, c / wavelength)"
   ],
   "metadata": {
    "collapsed": false,
    "ExecuteTime": {
     "start_time": "2023-04-26T19:53:50.004857Z",
     "end_time": "2023-04-26T19:53:50.028860Z"
    }
   }
  },
  {
   "cell_type": "code",
   "execution_count": 14,
   "outputs": [
    {
     "name": "stdout",
     "output_type": "stream",
     "text": [
      "optimized looking angle: 19.23830579294688\n"
     ]
    },
    {
     "name": "stderr",
     "output_type": "stream",
     "text": [
      "100%|██████████| 84/84 [00:06<00:00, 13.49it/s]\n",
      "100%|██████████| 6/6 [00:25<00:00,  4.21s/it]\n"
     ]
    },
    {
     "name": "stdout",
     "output_type": "stream",
     "text": [
      "optimized looking angle: 25.14454768539982\n"
     ]
    },
    {
     "name": "stderr",
     "output_type": "stream",
     "text": [
      "100%|██████████| 84/84 [00:06<00:00, 13.48it/s]\n",
      "100%|██████████| 6/6 [00:25<00:00,  4.22s/it]\n"
     ]
    },
    {
     "name": "stdout",
     "output_type": "stream",
     "text": [
      "optimized looking angle: 29.550811022428967\n"
     ]
    },
    {
     "name": "stderr",
     "output_type": "stream",
     "text": [
      "100%|██████████| 84/84 [00:06<00:00, 13.48it/s]\n",
      " 83%|████████▎ | 5/6 [00:21<00:04,  4.20s/it]C:\\Users\\menca\\PycharmProjects\\systemtradeoffs\\libs\\spherical_earth_geometry_radar.py:290: RuntimeWarning: invalid value encountered in sqrt\n",
      "  arg = ((lambda_c ** 2 * doppler_mesh ** 2 + np.sqrt(\n",
      "100%|██████████| 6/6 [00:25<00:00,  4.21s/it]\n"
     ]
    },
    {
     "name": "stdout",
     "output_type": "stream",
     "text": [
      "optimized looking angle: 33.10630779094245\n"
     ]
    },
    {
     "name": "stderr",
     "output_type": "stream",
     "text": [
      "100%|██████████| 84/84 [00:06<00:00, 13.51it/s]\n",
      "100%|██████████| 6/6 [00:25<00:00,  4.20s/it]\n"
     ]
    },
    {
     "name": "stdout",
     "output_type": "stream",
     "text": [
      "optimized looking angle: 15.468952261167729\n"
     ]
    },
    {
     "name": "stderr",
     "output_type": "stream",
     "text": [
      "  0%|          | 0/98 [00:00<?, ?it/s]C:\\Users\\menca\\PycharmProjects\\systemtradeoffs\\libs\\spherical_earth_geometry_radar.py:353: RuntimeWarning: invalid value encountered in arccos\n",
      "  theta_e = np.arccos(cos_theta_e) * np.sign(incidence_mesh)  # to consider also incidence angles behind nadir\n",
      "C:\\Users\\menca\\PycharmProjects\\systemtradeoffs\\libs\\ambiguity_functions.py:174: RuntimeWarning: invalid value encountered in divide\n",
      "  Numer += np.where(sin(thetaj) != 0, Gint / (raxj ** 3 * sin(thetaj)), 0)\n",
      "C:\\Users\\menca\\PycharmProjects\\systemtradeoffs\\libs\\ambiguity_functions.py:180: RuntimeWarning: invalid value encountered in divide\n",
      "  Numer += np.where(sin(thetaj) != 0, Gint / (raxj ** 3 * sin(thetaj)), 0)\n",
      "100%|██████████| 98/98 [00:07<00:00, 13.14it/s]\n",
      "100%|██████████| 6/6 [00:22<00:00,  3.73s/it]\n"
     ]
    },
    {
     "name": "stdout",
     "output_type": "stream",
     "text": [
      "optimized looking angle: 21.802752980013473\n"
     ]
    },
    {
     "name": "stderr",
     "output_type": "stream",
     "text": [
      "100%|██████████| 98/98 [00:07<00:00, 13.39it/s]\n",
      "100%|██████████| 6/6 [00:22<00:00,  3.76s/it]\n"
     ]
    },
    {
     "name": "stdout",
     "output_type": "stream",
     "text": [
      "optimized looking angle: 26.34212084571178\n"
     ]
    },
    {
     "name": "stderr",
     "output_type": "stream",
     "text": [
      "100%|██████████| 98/98 [00:07<00:00, 12.57it/s]\n",
      "100%|██████████| 6/6 [00:23<00:00,  3.91s/it]\n"
     ]
    },
    {
     "name": "stdout",
     "output_type": "stream",
     "text": [
      "optimized looking angle: 29.9618655512923\n"
     ]
    },
    {
     "name": "stderr",
     "output_type": "stream",
     "text": [
      "100%|██████████| 98/98 [00:07<00:00, 12.74it/s]\n",
      "100%|██████████| 6/6 [00:23<00:00,  3.85s/it]\n"
     ]
    },
    {
     "name": "stdout",
     "output_type": "stream",
     "text": [
      "optimized looking angle: 11.669477817566099\n"
     ]
    },
    {
     "name": "stderr",
     "output_type": "stream",
     "text": [
      "100%|██████████| 112/112 [00:09<00:00, 11.53it/s]\n",
      "100%|██████████| 6/6 [00:21<00:00,  3.57s/it]\n"
     ]
    },
    {
     "name": "stdout",
     "output_type": "stream",
     "text": [
      "optimized looking angle: 18.761944774245773\n"
     ]
    },
    {
     "name": "stderr",
     "output_type": "stream",
     "text": [
      "100%|██████████| 112/112 [00:09<00:00, 11.89it/s]\n",
      "100%|██████████| 6/6 [00:21<00:00,  3.58s/it]\n"
     ]
    },
    {
     "name": "stdout",
     "output_type": "stream",
     "text": [
      "optimized looking angle: 23.49053548097997\n"
     ]
    },
    {
     "name": "stderr",
     "output_type": "stream",
     "text": [
      "100%|██████████| 112/112 [00:09<00:00, 12.12it/s]\n",
      "100%|██████████| 6/6 [00:19<00:00,  3.24s/it]\n"
     ]
    },
    {
     "name": "stdout",
     "output_type": "stream",
     "text": [
      "optimized looking angle: 27.190775581897856\n"
     ]
    },
    {
     "name": "stderr",
     "output_type": "stream",
     "text": [
      "100%|██████████| 112/112 [00:08<00:00, 13.22it/s]\n",
      "100%|██████████| 6/6 [00:19<00:00,  3.28s/it]\n"
     ]
    }
   ],
   "source": [
    "# optimize the design for every point in the grid and store the results in a list\n",
    "# also directly store the results of interest in separate lists # todo change to meshgrid logic\n",
    "results_list = []\n",
    "x_coordinate = []  # prf coordinate\n",
    "y_coordinate = []  # optimized ground range coordinate (compressed image ground swath central point)\n",
    "undersampling_list = []  # optimized undersampling ratio to limit AASR\n",
    "rasr_free_swath_list = []  # portion of the ground range free from ambiguities\n",
    "core_snr_list = []\n",
    "for ii in range(x_samples):\n",
    "    for jj in range(y_samples):\n",
    "        dictionary = umambiguous_mode_analysis(radar_geo,\n",
    "                                               uniap, rg_mesh[ii, jj],\n",
    "                                               prf_mesh[ii, jj], AASR_max, RASR_max,\n",
    "                                               vs, wavelength, dutycycle,\n",
    "                                               aasr_points=6, rasr_points=27)\n",
    "        # saving all the analysis results\n",
    "        results_list.append(dictionary)\n",
    "        # saving individual relevant figures from the analysis\n",
    "        x_coordinate.append(np.average(dictionary['prf']))\n",
    "        y_coordinate.append(\n",
    "            np.average(dictionary['compressed-ground-swath']))  # this is the mid-point of the usable ground swath\n",
    "        undersampling_list.append(dictionary['minimum-undersampling'])\n",
    "        rasr_free_swath_list.append(dictionary['usable-rasr-swath'])\n",
    "        core_snr_list.append(dictionary['core-snr-linear'])"
   ],
   "metadata": {
    "collapsed": false,
    "ExecuteTime": {
     "start_time": "2023-04-26T19:53:50.020177Z",
     "end_time": "2023-04-26T20:00:07.825770Z"
    }
   }
  },
  {
   "cell_type": "markdown",
   "source": [
    "Note return dictionary of unambiguous_mode_analysis\n",
    "    return_dict = {\n",
    "        'ground-swath': swath_rg,\n",
    "        'prf': swath_prf,\n",
    "        'compressed-ground-swath': swath_rg_compressed,\n",
    "        'compressed-slant-swath': swath_rs_compressed,\n",
    "        'compressed-incidence-swath': swath_eta_compressed,\n",
    "        'rasr-ground-range-axis': ground_range_axis,\n",
    "        'rasr-slant-range-axis': slant_range_axis,\n",
    "        'rasr-incidence-axis': incidence_axis,\n",
    "        'rasr-linear': rasr,\n",
    "        'rasr-doppler-bandwidth': Bd,\n",
    "        'aasr-undersampling-axis': doppler_undersampling_ratio,\n",
    "        'aasr-linear': aasr,\n",
    "        'core-snr-linear': core_snr,\n",
    "        'corrected-azimuth-resolution': azres,\n",
    "        'minimum-undersampling': undersampling,\n",
    "        'usable-rasr-swath': swath_rasr,\n",
    "        'usable-swath-ranges': ranges\n",
    "    }"
   ],
   "metadata": {
    "collapsed": false
   }
  },
  {
   "cell_type": "code",
   "execution_count": 15,
   "outputs": [
    {
     "name": "stdout",
     "output_type": "stream",
     "text": [
      "[6058.915982765739, 6058.915982765739, 6058.915982765739, 6058.915982765739, 7058.915982765739, 7058.915982765739, 7058.915982765739, 7058.915982765739, 8058.915982765739, 8058.915982765739, 8058.915982765739, 8058.915982765739]\n"
     ]
    }
   ],
   "source": [
    "# test\n",
    "print(x_coordinate)"
   ],
   "metadata": {
    "collapsed": false,
    "ExecuteTime": {
     "start_time": "2023-04-26T20:00:07.792239Z",
     "end_time": "2023-04-26T20:00:07.825770Z"
    }
   }
  },
  {
   "cell_type": "markdown",
   "source": [
    "# Phase1.5: results saver and loader for asynchronous operation\n",
    "i.e. a cell to pickle the list and a cell to unpickle the list.\n"
   ],
   "metadata": {
    "collapsed": false
   }
  },
  {
   "cell_type": "code",
   "execution_count": 16,
   "outputs": [],
   "source": [
    "#todo"
   ],
   "metadata": {
    "collapsed": false,
    "ExecuteTime": {
     "start_time": "2023-04-26T20:00:07.809242Z",
     "end_time": "2023-04-26T20:00:07.836788Z"
    }
   }
  },
  {
   "cell_type": "code",
   "execution_count": 17,
   "outputs": [],
   "source": [
    "#todo"
   ],
   "metadata": {
    "collapsed": false,
    "ExecuteTime": {
     "start_time": "2023-04-26T20:00:07.839785Z",
     "end_time": "2023-04-26T20:00:07.939108Z"
    }
   }
  },
  {
   "cell_type": "markdown",
   "source": [
    "# Phase2: grid visualization"
   ],
   "metadata": {
    "collapsed": false
   }
  },
  {
   "cell_type": "code",
   "execution_count": 41,
   "outputs": [
    {
     "data": {
      "text/plain": "(71.67003829538226, 359.838596616081)"
     },
     "execution_count": 41,
     "metadata": {},
     "output_type": "execute_result"
    }
   ],
   "source": [
    "# plotting the points in the already open timing diagram.\n",
    "\n",
    "\n",
    "for ii in range(len(x_coordinate)):\n",
    "    ax.plot(x_coordinate[ii], y_coordinate[ii] / 1000, 'x', color='black')\n",
    "\n",
    "# adjust the plot scale\n",
    "ax.set_xlim(min(x_coordinate) - 3e2, max(x_coordinate) + 3e2)\n",
    "ax.set_ylim(min(y_coordinate) / 1e3 - 30, max(y_coordinate) / 1e3 + 30)\n"
   ],
   "metadata": {
    "collapsed": false,
    "ExecuteTime": {
     "start_time": "2023-04-26T20:24:48.597717Z",
     "end_time": "2023-04-26T20:24:48.845756Z"
    }
   }
  },
  {
   "cell_type": "markdown",
   "source": [
    "## Phase2.5: colorbar visualization tool for design solutions\n",
    "vertical lines corresponding to the usable (RASR free)swath\n",
    "color of lines corresponding to resolution or core snr\n"
   ],
   "metadata": {
    "collapsed": false
   }
  },
  {
   "cell_type": "code",
   "execution_count": 42,
   "outputs": [],
   "source": [
    "# prototype\n",
    "def design_point_visualizer(axis, dictionary, scalar_element, colormap, scalar_min, scalar_max, logscale=False, h=500e3,\n",
    "                            re=6371e3):\n",
    "    \"\"\"\n",
    "\n",
    "    :param axis: matplotlib axis for the plot\n",
    "    :param dictionary: dictionary from analysis\n",
    "    :param scalar_element: a string containing the dictionary key pointing to a scalar value\n",
    "    :param colormap: matplotlib colormap key\n",
    "    :param scalar_min: minimum scalar value for the colorbar, linear\n",
    "    :param scalar_max: maximum scalar value for the colorbar, linear\n",
    "    :param logscale: if set to true, the scalar value is converted to decibel\n",
    "    :return: stocazzo\n",
    "    \"\"\"\n",
    "    #1 find holes in the usable swath ranges, note the swath ranges are linearly spaced over the incidence angle axis\n",
    "    ranges = dictionary['usable-swath-ranges']\n",
    "    slant_ranges = range_ground_to_slant(ranges, h, re)\n",
    "    ranges1, incidences = range_slant_to_ground(slant_ranges, h, re)\n",
    "    deltas = incidences[1:-1] - incidences[0:-2]  # so far so good\n",
    "    if deltas.size != 0:\n",
    "        delta = min(deltas)\n",
    "    else:\n",
    "        delta = 0\n",
    "    print(delta)\n",
    "    holes = np.argwhere(deltas > 1.01 * delta)  #contains the indexes of the ranges element preceding a hole\n",
    "    #2 color code for scalar value\n",
    "    cmap = matplotlib.colormaps[colormap]  # todo change to colormap\n",
    "    scalar = np.average(dictionary[scalar_element])\n",
    "    if logscale:\n",
    "        scalar = 10 * np.log10(scalar)\n",
    "        scalar_min = 10 * np.log10(scalar_min)\n",
    "        scalar_max = 10 * np.log10(scalar_max)\n",
    "    mapped_color = cmap((scalar - scalar_min) / (scalar_max - scalar_min))\n",
    "    #3 draw a line for every contiguous section of range\n",
    "    if holes.size == 0:\n",
    "        holes = np.array([-1])\n",
    "    else:\n",
    "        holes += 1\n",
    "        holes = np.append(holes, -1)\n",
    "    holes = np.insert(holes, 0, 0)\n",
    "    print(deltas)\n",
    "    print(holes)\n",
    "    for ii in range(holes.size - 1):\n",
    "        yy = ranges[holes[ii]: holes[ii + 1]]\n",
    "        xx = np.ones_like(yy) * np.average(dictionary['prf'])\n",
    "        label = str(scalar)\n",
    "        axis.plot(xx, yy / 1000, color=mapped_color, label=label)\n",
    "        axis.annotate(label, (np.average(xx) + 2, np.average(yy) / 1000))\n",
    "    plt.show()\n",
    "\n",
    "# dictionary = results_list[3]\n",
    "# design_point_visualizer(ax, dictionary, 'minimum-undersampling', 'Greys', 0, 1, logscale=False, h=h)"
   ],
   "metadata": {
    "collapsed": false,
    "ExecuteTime": {
     "start_time": "2023-04-26T20:24:50.242660Z",
     "end_time": "2023-04-26T20:24:50.284612Z"
    }
   }
  },
  {
   "cell_type": "code",
   "execution_count": 43,
   "outputs": [
    {
     "name": "stdout",
     "output_type": "stream",
     "text": [
      "[0.00258576]\n",
      "[[0.00258576]\n",
      " [0.00258576]\n",
      " [0.00258576]\n",
      " [0.00258576]\n",
      " [0.00258576]\n",
      " [0.00258576]\n",
      " [0.00258576]\n",
      " [0.00258576]\n",
      " [0.00258576]\n",
      " [0.00258576]\n",
      " [0.00258576]\n",
      " [0.00258576]\n",
      " [0.00258576]\n",
      " [0.00258576]\n",
      " [0.00258576]\n",
      " [0.00258576]\n",
      " [0.00258576]\n",
      " [0.00258576]\n",
      " [0.00258576]\n",
      " [0.00258576]\n",
      " [0.00258576]\n",
      " [0.00258576]\n",
      " [0.00258576]\n",
      " [0.00258576]\n",
      " [0.00258576]]\n",
      "[ 0 -1]\n",
      "[0.00183342]\n",
      "[[0.00183342]\n",
      " [0.00183342]\n",
      " [0.00183342]\n",
      " [0.00183342]\n",
      " [0.00183342]\n",
      " [0.00183342]\n",
      " [0.00183342]\n",
      " [0.00183342]\n",
      " [0.00183342]\n",
      " [0.00183342]]\n",
      "[ 0 -1]\n",
      "0\n",
      "[]\n",
      "[ 0 -1]\n",
      "0\n",
      "[]\n",
      "[ 0 -1]\n",
      "[0.00287053]\n",
      "[[0.00287053]\n",
      " [0.00287053]\n",
      " [0.00287053]\n",
      " [0.00287053]\n",
      " [0.00287053]\n",
      " [0.00287053]\n",
      " [0.00287053]\n",
      " [0.00287053]\n",
      " [0.00287053]\n",
      " [0.00287053]\n",
      " [0.00287053]\n",
      " [0.00287053]\n",
      " [0.00287053]\n",
      " [0.00287053]\n",
      " [0.00287053]\n",
      " [0.00287053]\n",
      " [0.00287053]\n",
      " [0.00287053]\n",
      " [0.00287053]\n",
      " [0.00287053]\n",
      " [0.00287053]\n",
      " [0.00287053]\n",
      " [0.00287053]]\n",
      "[ 0 -1]\n",
      "[0.00190026]\n",
      "[[0.00190026]\n",
      " [0.00190026]\n",
      " [0.00190026]\n",
      " [0.00190026]\n",
      " [0.00190026]\n",
      " [0.00190026]\n",
      " [0.00190026]\n",
      " [0.00190026]\n",
      " [0.00190026]\n",
      " [0.00190026]\n",
      " [0.00190026]\n",
      " [0.00190026]\n",
      " [0.00190026]\n",
      " [0.00190026]]\n",
      "[ 0 -1]\n",
      "0\n",
      "[]\n",
      "[ 0 -1]\n",
      "0\n",
      "[]\n",
      "[ 0 -1]\n",
      "[0.00344943]\n",
      "[[0.00344943]\n",
      " [0.00344943]\n",
      " [0.00344943]\n",
      " [0.00344943]\n",
      " [0.00344943]\n",
      " [0.00344943]\n",
      " [0.00344943]\n",
      " [0.00344943]\n",
      " [0.00344943]\n",
      " [0.00344943]\n",
      " [0.00344943]\n",
      " [0.00344943]\n",
      " [0.00344943]\n",
      " [0.00344943]\n",
      " [0.00344943]\n",
      " [0.00344943]\n",
      " [0.00344943]\n",
      " [0.00344943]\n",
      " [0.00344943]\n",
      " [0.00344943]\n",
      " [0.00344943]\n",
      " [0.00344943]\n",
      " [0.00344943]\n",
      " [0.00344943]\n",
      " [0.00344943]]\n",
      "[ 0 -1]\n",
      "[0.00200552]\n",
      "[[0.00200552]\n",
      " [0.00200552]\n",
      " [0.00200552]\n",
      " [0.00200552]\n",
      " [0.00200552]\n",
      " [0.00200552]\n",
      " [0.00200552]\n",
      " [0.00200552]\n",
      " [0.00200552]\n",
      " [0.00200552]\n",
      " [0.00200552]\n",
      " [0.00200552]\n",
      " [0.00200552]\n",
      " [0.00200552]]\n",
      "[ 0 -1]\n",
      "0\n",
      "[]\n",
      "[ 0 -1]\n",
      "0\n",
      "[]\n",
      "[ 0 -1]\n"
     ]
    }
   ],
   "source": [
    "# test\n",
    "for dictionary in results_list:\n",
    "    design_point_visualizer(ax, dictionary, 'minimum-undersampling', 'plasma', 0, 1, logscale=False, h=h)"
   ],
   "metadata": {
    "collapsed": false,
    "ExecuteTime": {
     "start_time": "2023-04-26T20:24:50.262338Z",
     "end_time": "2023-04-26T20:24:50.360623Z"
    }
   }
  },
  {
   "cell_type": "markdown",
   "source": [
    "# Phase3: Azimuth resolution, or undersampling ratio visualization"
   ],
   "metadata": {
    "collapsed": false
   }
  },
  {
   "cell_type": "code",
   "execution_count": 43,
   "outputs": [],
   "source": [],
   "metadata": {
    "collapsed": false,
    "ExecuteTime": {
     "start_time": "2023-04-26T20:24:51.815292Z",
     "end_time": "2023-04-26T20:24:51.829752Z"
    }
   }
  },
  {
   "cell_type": "code",
   "execution_count": 43,
   "outputs": [],
   "source": [],
   "metadata": {
    "collapsed": false,
    "ExecuteTime": {
     "start_time": "2023-04-26T20:24:51.834230Z",
     "end_time": "2023-04-26T20:24:51.847039Z"
    }
   }
  }
 ],
 "metadata": {
  "kernelspec": {
   "display_name": "Python 3",
   "language": "python",
   "name": "python3"
  },
  "language_info": {
   "codemirror_mode": {
    "name": "ipython",
    "version": 2
   },
   "file_extension": ".py",
   "mimetype": "text/x-python",
   "name": "python",
   "nbconvert_exporter": "python",
   "pygments_lexer": "ipython2",
   "version": "2.7.6"
  }
 },
 "nbformat": 4,
 "nbformat_minor": 0
}
