{
 "cells": [
  {
   "cell_type": "code",
   "execution_count": 22,
   "metadata": {
    "collapsed": true
   },
   "outputs": [],
   "source": [
    "# todo\n",
    "# 16/3/23"
   ]
  },
  {
   "cell_type": "markdown",
   "source": [
    "The idea is to make some surface plots over the TD space to compare:\n",
    "            resolution degradation for a fixed minimum AASR,\n",
    "            swath portion over which RASR excedes a certain treshold,\n",
    "            peak core snr\n",
    "            NEXT what happens morphing the antenna size?"
   ],
   "metadata": {
    "collapsed": false
   }
  },
  {
   "cell_type": "code",
   "execution_count": 23,
   "outputs": [],
   "source": [
    "# From Michelangelo Villano's hands on lab\n",
    "# To open separate plot-windows outside the browser uncomment one of the following two lines\n",
    "%matplotlib qt\n",
    "#get_ipython().run_line_magic('matplotlib','qt5')\n",
    "\n",
    "# To open a Plot-window within notebook with zoom/edit control uncomment one of the following two lines\n",
    "# %matplotlib notebook\n",
    "# get_ipython().run_line_magic('matplotlib','notebook')\n",
    "\n",
    "# options are 'osx', 'qt4', 'qt5', 'gtk3', 'wx', 'qt', 'gtk', 'tk' , 'notebook' , 'inline'"
   ],
   "metadata": {
    "collapsed": false
   }
  },
  {
   "cell_type": "code",
   "execution_count": 24,
   "outputs": [],
   "source": [
    "## Dependencies\n",
    "from libs.timing_diagram import *\n",
    "from libs.design_functions import *\n",
    "import numpy as np\n",
    "import matplotlib.pyplot as plt\n",
    "from libs.spherical_earth_geometry_radar import *\n",
    "from libs.radartools.farField import UniformAperture\n",
    "from libs.ambiguity_functions import *\n",
    "from unambiguous_imaging_design_analysis import *"
   ],
   "metadata": {
    "collapsed": false
   }
  },
  {
   "cell_type": "markdown",
   "source": [
    "_*Problem : how to sample the space:*_\n",
    "\n",
    "**possibility 1** we restrict the sampling space to solutions which align at the far range (transmit event excluded) with the next nadir return.\n",
    "- few points have to be computed\n",
    "- some dynamics might be hidden\n",
    "\n",
    "**possibility 2** we set a minimum and maximum range, we discretize the PRF axis, and we find all possible ranges for each sample within the swath.\n",
    "- resolution set by the user\n",
    "- the samples might not coincide with the nadir return avoidance optimal (a visual selection can still be made in any case.\n",
    "\n",
    "**2** is better overall\n",
    "\n",
    "Also we can use the intersection point of the two minprf and opt prf curves as a reference point"
   ],
   "metadata": {
    "collapsed": false
   }
  },
  {
   "cell_type": "code",
   "execution_count": 25,
   "outputs": [],
   "source": [
    "## System Parameters\n",
    "\n",
    "# constants\n",
    "c = 299792458\n",
    "\n",
    "# radar parameters\n",
    "dutycycle = 0.25  # duty cycle\n",
    "h = 500e3  # height\n",
    "wavelength = c / 10e9  # wavelength\n",
    "\n",
    "# satellite speed\n",
    "vs = orbital_speed(h)\n",
    "\n",
    "# antenna size\n",
    "Wa = 0.3  # antenna width in meters\n",
    "La = 2  # antenna length in meters\n",
    "\n",
    "# nadir duration in fractions of PRI for visualization in timing diagram\n",
    "# note, it makes sense to use this fractional quantity as the nadir duration, if unfocused (e.g. saturated receiver), will be proportional to the impulse on time.\n",
    "nadir_duration = 2 * dutycycle\n"
   ],
   "metadata": {
    "collapsed": false
   }
  },
  {
   "cell_type": "code",
   "execution_count": 26,
   "outputs": [
    {
     "name": "stderr",
     "output_type": "stream",
     "text": [
      "C:\\Users\\menca\\PycharmProjects\\systemtradeoffs\\libs\\design_functions.py:42: RuntimeWarning: invalid value encountered in arccos\n",
      "  beta = arccos(((re + h) ** 2 - re ** 2 + rs ** 2) / (2 * (re + h) * rs))\n",
      "C:\\Users\\menca\\PycharmProjects\\systemtradeoffs\\libs\\design_functions.py:43: RuntimeWarning: invalid value encountered in arccos\n",
      "  alpha = arccos(((re + h) ** 2 + re ** 2 - rs ** 2) / (2 * (re + h) * re))\n"
     ]
    },
    {
     "data": {
      "text/plain": "(100.0, 300.0)"
     },
     "execution_count": 26,
     "metadata": {},
     "output_type": "execute_result"
    }
   ],
   "source": [
    "## base diagram\n",
    "# PRF axis\n",
    "PRI = 1 / 7050\n",
    "prf = np.linspace(1 / PRI - 4000, 1 / PRI + 4000, 100)\n",
    "\n",
    "# plot\n",
    "fig, ax = plt.subplots(1)\n",
    "time_diagram_plotter(ax, prf, dutycycle, h, nadir=False, integrationtime=False)\n",
    "nadir_return_plotter(ax, prf, dutycycle, nadir_duration, h)\n",
    "ax.set_xlabel('PRF [Hz]')\n",
    "ax.set_ylabel(' Ground range [km]')\n",
    "ax.set_xlim(1 / PRI - 1000, 1 / PRI + 1000)\n",
    "ax.set_ylim(100, 300)"
   ],
   "metadata": {
    "collapsed": false
   }
  },
  {
   "cell_type": "code",
   "execution_count": 27,
   "outputs": [
    {
     "name": "stderr",
     "output_type": "stream",
     "text": [
      "C:\\Users\\menca\\PycharmProjects\\systemtradeoffs\\unambiguous_imaging_design_analysis.py:56: RuntimeWarning: divide by zero encountered in divide\n",
      "  prf_opt = 1 / pri\n"
     ]
    },
    {
     "data": {
      "text/plain": "[<matplotlib.lines.Line2D at 0x20e3a3ecee0>]"
     },
     "execution_count": 27,
     "metadata": {},
     "output_type": "execute_result"
    }
   ],
   "source": [
    "## canonical constraints line plots\n",
    "# 1 ground range axis in m\n",
    "ground_range = np.linspace(0, 2000, 500) * 1000\n",
    "\n",
    "prf_opt = optimal_prf_line(ground_range, Wa, wavelength, h)\n",
    "# Add to the plot\n",
    "ax.plot(prf_opt, ground_range / 1000, 'red')\n",
    "\n",
    "prf_min = minimum_prf_line(ground_range, vs, La, h)\n",
    "ax.plot(prf_min, ground_range / 1000, 'green')"
   ],
   "metadata": {
    "collapsed": false
   }
  },
  {
   "cell_type": "code",
   "execution_count": 28,
   "outputs": [
    {
     "name": "stdout",
     "output_type": "stream",
     "text": [
      "[7058.91598277] [197427.8613883]\n"
     ]
    },
    {
     "data": {
      "text/plain": "[<matplotlib.lines.Line2D at 0x20e3a3ecc40>]"
     },
     "execution_count": 28,
     "metadata": {},
     "output_type": "execute_result"
    }
   ],
   "source": [
    "# find the intersection point\n",
    "tosolve = lambda rgx: optimal_prf_line(rgx, Wa, wavelength, h) - minimum_prf_line(rgx, vs, La, h)\n",
    "\n",
    "rg_point = fsolve(tosolve, 200e3)\n",
    "prf_point = minimum_prf_line(rg_point, vs, La, h)\n",
    "\n",
    "print(prf_point, rg_point)\n",
    "\n",
    "ax.plot(prf_point, rg_point / 1000,'x')"
   ],
   "metadata": {
    "collapsed": false
   }
  },
  {
   "cell_type": "markdown",
   "source": [
    "Step 0 definition of"
   ],
   "metadata": {
    "collapsed": false
   }
  },
  {
   "cell_type": "code",
   "execution_count": 28,
   "outputs": [],
   "source": [],
   "metadata": {
    "collapsed": false
   }
  }
 ],
 "metadata": {
  "kernelspec": {
   "display_name": "Python 3",
   "language": "python",
   "name": "python3"
  },
  "language_info": {
   "codemirror_mode": {
    "name": "ipython",
    "version": 2
   },
   "file_extension": ".py",
   "mimetype": "text/x-python",
   "name": "python",
   "nbconvert_exporter": "python",
   "pygments_lexer": "ipython2",
   "version": "2.7.6"
  }
 },
 "nbformat": 4,
 "nbformat_minor": 0
}
