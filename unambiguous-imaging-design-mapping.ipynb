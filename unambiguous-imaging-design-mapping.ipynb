{
 "cells": [
  {
   "cell_type": "code",
   "execution_count": 1,
   "metadata": {
    "collapsed": true,
    "ExecuteTime": {
     "start_time": "2023-04-27T17:37:11.256675Z",
     "end_time": "2023-04-27T17:37:11.271834Z"
    }
   },
   "outputs": [],
   "source": [
    "# 16/3/23"
   ]
  },
  {
   "cell_type": "markdown",
   "source": [
    "he idea is to make some surface plots over the TD space to compare:\n",
    "            resolution degradation for a fixed minimum AASR,\n",
    "            swath portion over which RASR excedes a certain treshold,\n",
    "            peak core snr\n",
    "            NEXT what happens morphing the antenna size?"
   ],
   "metadata": {
    "collapsed": false
   }
  },
  {
   "cell_type": "code",
   "execution_count": 2,
   "outputs": [
    {
     "name": "stdout",
     "output_type": "stream",
     "text": [
      "pippo\n"
     ]
    }
   ],
   "source": [
    "# From Michelangelo Villano's hands on lab\n",
    "# To open separate plot-windows outside the browser uncomment one of the following two lines\n",
    "%matplotlib qt\n",
    "#get_ipython().run_line_magic('matplotlib','qt5')\n",
    "\n",
    "# To open a Plot-window within notebook with zoom/edit control uncomment one of the following two lines\n",
    "# %matplotlib notebook\n",
    "# get_ipython().run_line_magic('matplotlib','notebook')\n",
    "\n",
    "# options are 'osx', 'qt4', 'qt5', 'gtk3', 'wx', 'qt', 'gtk', 'tk' , 'notebook' , 'inline'\n",
    "print(\"pippo\")"
   ],
   "metadata": {
    "collapsed": false,
    "ExecuteTime": {
     "start_time": "2023-04-27T17:37:11.268883Z",
     "end_time": "2023-04-27T17:37:11.645364Z"
    }
   }
  },
  {
   "cell_type": "code",
   "execution_count": 3,
   "outputs": [],
   "source": [
    "## Dependencies\n",
    "from libs.timing_diagram import *\n",
    "from libs.design_functions import *\n",
    "import numpy as np\n",
    "import matplotlib.pyplot as plt\n",
    "from libs.spherical_earth_geometry_radar import *\n",
    "from libs.radartools.farField import UniformAperture\n",
    "from libs.ambiguity_functions import *\n",
    "from unambiguous_imaging_design_analysis import *\n",
    "import matplotlib as mpl"
   ],
   "metadata": {
    "collapsed": false,
    "ExecuteTime": {
     "start_time": "2023-04-27T17:37:11.647360Z",
     "end_time": "2023-04-27T17:37:12.003375Z"
    }
   }
  },
  {
   "cell_type": "markdown",
   "source": [
    "_*Problem : how to sample the space:*_\n",
    "\n",
    "**possibility 1** we restrict the sampling space to solutions which align at the far range (transmit event excluded) with the next nadir return.\n",
    "- few points have to be computed\n",
    "- some dynamics might be hidden\n",
    "\n",
    "**possibility 2** we set a minimum and maximum range, we discretize the PRF axis, and we find all possible ranges for each sample within the swath.\n",
    "- resolution set by the user\n",
    "- the samples might not coincide with the nadir return avoidance optimal (a visual selection can still be made in any case).\n",
    "\n",
    "**2** is better overall\n",
    "\n",
    "Also we can use the intersection point of the two minprf and opt prf curves as a reference point, but how?"
   ],
   "metadata": {
    "collapsed": false
   }
  },
  {
   "cell_type": "code",
   "execution_count": 4,
   "outputs": [],
   "source": [
    "## System Parameters\n",
    "\n",
    "# constants\n",
    "c = 299792458\n",
    "\n",
    "# radar parameters\n",
    "dutycycle = 0.25  # duty cycle\n",
    "h = 500e3  # height\n",
    "wavelength = c / 10e9  # wavelength\n",
    "\n",
    "# satellite speed\n",
    "vs = orbital_speed(h)\n",
    "\n",
    "# antenna size\n",
    "Wa = 0.3  # antenna width in meters\n",
    "La = 2  # antenna length in meters\n",
    "\n",
    "# nadir duration in fractions of PRI for visualization in timing diagram\n",
    "# note, it makes sense to use this fractional quantity as the nadir duration, if unfocused (e.g. saturated receiver), will be proportional to the impulse on time.\n",
    "nadir_duration = 2 * dutycycle\n"
   ],
   "metadata": {
    "collapsed": false,
    "ExecuteTime": {
     "start_time": "2023-04-27T17:37:12.000354Z",
     "end_time": "2023-04-27T17:37:12.014717Z"
    }
   }
  },
  {
   "cell_type": "code",
   "execution_count": 5,
   "outputs": [
    {
     "name": "stderr",
     "output_type": "stream",
     "text": [
      "C:\\Users\\smen851\\PycharmProjects\\systemtradeoffs\\libs\\design_functions.py:42: RuntimeWarning: invalid value encountered in arccos\n",
      "  beta = arccos(((re + h) ** 2 - re ** 2 + rs ** 2) / (2 * (re + h) * rs))\n",
      "C:\\Users\\smen851\\PycharmProjects\\systemtradeoffs\\libs\\design_functions.py:43: RuntimeWarning: invalid value encountered in arccos\n",
      "  alpha = arccos(((re + h) ** 2 + re ** 2 - rs ** 2) / (2 * (re + h) * re))\n"
     ]
    },
    {
     "data": {
      "text/plain": "(100.0, 300.0)"
     },
     "execution_count": 5,
     "metadata": {},
     "output_type": "execute_result"
    }
   ],
   "source": [
    "## base diagram\n",
    "# PRF axis\n",
    "PRI = 1 / 7050\n",
    "prf = np.linspace(1 / PRI - 4000, 1 / PRI + 4000, 100)\n",
    "\n",
    "# plot\n",
    "fig, ax = plt.subplots(1, dpi=150)\n",
    "time_diagram_plotter(ax, prf, dutycycle, h, nadir=False, integrationtime=False)\n",
    "nadir_return_plotter(ax, prf, dutycycle, nadir_duration, h)\n",
    "ax.set_xlabel('PRF [Hz]')\n",
    "ax.set_ylabel(' Ground range [km]')\n",
    "ax.set_xlim(1 / PRI - 1000, 1 / PRI + 1000)\n",
    "ax.set_ylim(100, 300)"
   ],
   "metadata": {
    "collapsed": false,
    "ExecuteTime": {
     "start_time": "2023-04-27T17:37:12.013720Z",
     "end_time": "2023-04-27T17:37:15.864199Z"
    }
   }
  },
  {
   "cell_type": "code",
   "execution_count": 6,
   "outputs": [
    {
     "name": "stderr",
     "output_type": "stream",
     "text": [
      "C:\\Users\\smen851\\PycharmProjects\\systemtradeoffs\\unambiguous_imaging_design_analysis.py:56: RuntimeWarning: divide by zero encountered in divide\n",
      "  prf_opt = 1 / pri\n"
     ]
    },
    {
     "data": {
      "text/plain": "[<matplotlib.lines.Line2D at 0x1ad02588280>]"
     },
     "execution_count": 6,
     "metadata": {},
     "output_type": "execute_result"
    }
   ],
   "source": [
    "## canonical constraints line plots\n",
    "# 1 ground range axis in m\n",
    "ground_range = np.linspace(0, 2000, 500) * 1000\n",
    "\n",
    "prf_opt = optimal_prf_line(ground_range, Wa, wavelength, h)\n",
    "# Add to the plot\n",
    "ax.plot(prf_opt, ground_range / 1000, 'red')\n",
    "\n",
    "prf_min = minimum_prf_line(ground_range, vs, La, h)\n",
    "ax.plot(prf_min, ground_range / 1000, 'green')"
   ],
   "metadata": {
    "collapsed": false,
    "ExecuteTime": {
     "start_time": "2023-04-27T17:37:15.866193Z",
     "end_time": "2023-04-27T17:37:15.880343Z"
    }
   }
  },
  {
   "cell_type": "code",
   "execution_count": 7,
   "outputs": [
    {
     "name": "stdout",
     "output_type": "stream",
     "text": [
      "[7058.91598277] [197427.8613883]\n"
     ]
    },
    {
     "data": {
      "text/plain": "[<matplotlib.lines.Line2D at 0x1ad0caf6490>]"
     },
     "execution_count": 7,
     "metadata": {},
     "output_type": "execute_result"
    }
   ],
   "source": [
    "# find the intersection point\n",
    "tosolve = lambda rgx: optimal_prf_line(rgx, Wa, wavelength, h) - minimum_prf_line(rgx, vs, La, h)\n",
    "\n",
    "rg_point = fsolve(tosolve, 200000)\n",
    "prf_point = minimum_prf_line(rg_point, vs, La, h)\n",
    "\n",
    "print(prf_point, rg_point)\n",
    "\n",
    "ax.plot(prf_point, rg_point / 1000, 'x', color='blue')"
   ],
   "metadata": {
    "collapsed": false,
    "ExecuteTime": {
     "start_time": "2023-04-27T17:37:15.880343Z",
     "end_time": "2023-04-27T17:37:15.924932Z"
    }
   }
  },
  {
   "cell_type": "markdown",
   "source": [
    "At this point we have the timing diagram, the minimum PRF line, the maximum range line, and the intersetion point representing the ideal design solution.\n",
    "\n",
    "The intersection point will be the center sample for the analysis; the extent is set empirically."
   ],
   "metadata": {
    "collapsed": false
   }
  },
  {
   "cell_type": "markdown",
   "source": [
    "# Phase0: defining the meshgrid for calculation"
   ],
   "metadata": {
    "collapsed": false
   }
  },
  {
   "cell_type": "code",
   "execution_count": 8,
   "outputs": [],
   "source": [
    "# number of PRF samples\n",
    "x_samples = 2\n",
    "# number of ground range samples\n",
    "y_samples = 1\n",
    "\n",
    "prf_axis = np.linspace(prf_point - 1e3, prf_point + 1e3, x_samples)\n",
    "prf_mesh = np.repeat(prf_axis, y_samples).reshape(x_samples, y_samples)\n",
    "#print(prf_mesh)\n",
    "\n",
    "# ground range mesh coordinates initialization\n",
    "rg_mesh = np.zeros_like(prf_mesh)\n",
    "for ii in range(x_samples):\n",
    "    prf_point = prf_axis[ii]\n",
    "    # the center range sample shall be on the red curve\n",
    "    rg_opt = lambda rg: optimal_prf_line(rg, Wa, wavelength, h) - prf_point\n",
    "    rg_point = fsolve(rg_opt, rg_point)  # todo red curve\n",
    "    # 1 convert rg to slant range\n",
    "    rs = range_ground_to_slant(rg_point, h)\n",
    "    # 2 find the next pulse order\n",
    "    n = np.ceil((2 * rs / c) * prf_point)\n",
    "    # 3 find the nadir order\n",
    "    n_nadir = np.ceil((2 * h / c) * prf_point)\n",
    "    # 4 generate the range axis\n",
    "    if n - n_nadir <= y_samples / 2:  # to maintain a side looking geometry and the same number of samples\n",
    "        rs_axis = (np.arange(n_nadir, n_nadir + y_samples) + 0.5) * c / (2 * prf_point)\n",
    "        rg_axis, tt = range_slant_to_ground(rs_axis, h)\n",
    "    else:\n",
    "        rs_axis = (np.arange(n - int(y_samples / 2) - 1, n - int(y_samples / 2) - 1 + y_samples) + 0.5) * c / (\n",
    "                2 * prf_point)\n",
    "        rg_axis, tt = range_slant_to_ground(rs_axis, h)\n",
    "    rg_mesh[ii] = rg_axis\n",
    "\n",
    "# it seems to work. tested with different values of x samples and y samples"
   ],
   "metadata": {
    "collapsed": false,
    "ExecuteTime": {
     "start_time": "2023-04-27T17:37:15.898195Z",
     "end_time": "2023-04-27T17:37:15.936932Z"
    }
   }
  },
  {
   "cell_type": "code",
   "execution_count": 9,
   "outputs": [
    {
     "name": "stdout",
     "output_type": "stream",
     "text": [
      "[[6058.91598277]\n",
      " [8058.91598277]]\n",
      "[[235593.7827447 ]\n",
      " [169566.42887375]]\n"
     ]
    }
   ],
   "source": [
    "print(prf_mesh)\n",
    "print(rg_mesh)"
   ],
   "metadata": {
    "collapsed": false,
    "ExecuteTime": {
     "start_time": "2023-04-27T17:37:15.911158Z",
     "end_time": "2023-04-27T17:37:15.936932Z"
    }
   }
  },
  {
   "cell_type": "code",
   "execution_count": 10,
   "outputs": [
    {
     "data": {
      "text/plain": "(2, 1)"
     },
     "execution_count": 10,
     "metadata": {},
     "output_type": "execute_result"
    }
   ],
   "source": [
    "rg_mesh.shape"
   ],
   "metadata": {
    "collapsed": false,
    "ExecuteTime": {
     "start_time": "2023-04-27T17:37:15.927955Z",
     "end_time": "2023-04-27T17:37:15.945907Z"
    }
   }
  },
  {
   "cell_type": "code",
   "execution_count": 11,
   "outputs": [],
   "source": [
    "# visualization\n",
    "# plotting the points in the already open timing diagram.\n",
    "\n",
    "X, Y = prf_mesh, rg_mesh\n",
    "\n",
    "for ii in range(x_samples * y_samples):\n",
    "    ax.plot(X.flatten()[ii], Y.flatten()[ii] / 1000, 'x', color='green')\n",
    "\n",
    "# adjust the plot scale\n",
    "ax.set_xlim(X.min() - 3e2, X.max() + 3e2)\n",
    "ax.set_ylim(Y.min() / 1e3 - 30, Y.max() / 1e3 + 30);"
   ],
   "metadata": {
    "collapsed": false,
    "ExecuteTime": {
     "start_time": "2023-04-27T17:37:15.944882Z",
     "end_time": "2023-04-27T17:37:15.987782Z"
    }
   }
  },
  {
   "cell_type": "markdown",
   "source": [
    "# Phase1: Design optimization for every point of the grid"
   ],
   "metadata": {
    "collapsed": false
   }
  },
  {
   "cell_type": "code",
   "execution_count": 12,
   "outputs": [],
   "source": [
    "# maximum acceptable AASR level\n",
    "AASR_max = -20  #dB\n",
    "# maximum acceptable RASR level\n",
    "RASR_max = -20  #dB"
   ],
   "metadata": {
    "collapsed": false,
    "ExecuteTime": {
     "start_time": "2023-04-27T17:37:15.958295Z",
     "end_time": "2023-04-27T17:37:15.998750Z"
    }
   }
  },
  {
   "cell_type": "code",
   "execution_count": 13,
   "outputs": [],
   "source": [
    "##  Initialization of the geometry model and aperture model\n",
    "\n",
    "# Radar Geometry object\n",
    "radar_geo = RadarGeometry()\n",
    "radar_geo.set_rotation(30 * np.pi / 180, 0, 0)\n",
    "radar_geo.set_initial_position(0, 0, h)\n",
    "radar_geo.set_speed(vs)\n",
    "# no need to set the radar rotation as this will be done inside the analysys function\n",
    "\n",
    "# Uniform aperture antenna initialization\n",
    "uniap = UniformAperture(La, Wa, c / wavelength)"
   ],
   "metadata": {
    "collapsed": false,
    "ExecuteTime": {
     "start_time": "2023-04-27T17:37:15.974870Z",
     "end_time": "2023-04-27T17:37:15.999741Z"
    }
   }
  },
  {
   "cell_type": "code",
   "execution_count": 14,
   "outputs": [
    {
     "name": "stdout",
     "output_type": "stream",
     "text": [
      "optimized looking angle: 25.14454768539982\n"
     ]
    },
    {
     "name": "stderr",
     "output_type": "stream",
     "text": [
      "100%|██████████| 84/84 [00:02<00:00, 31.62it/s]\n",
      "100%|██████████| 6/6 [00:11<00:00,  1.90s/it]\n"
     ]
    },
    {
     "name": "stdout",
     "output_type": "stream",
     "text": [
      "optimized looking angle: 18.761944774245773\n"
     ]
    },
    {
     "name": "stderr",
     "output_type": "stream",
     "text": [
      "  0%|          | 0/112 [00:00<?, ?it/s]C:\\Users\\smen851\\PycharmProjects\\systemtradeoffs\\libs\\spherical_earth_geometry_radar.py:353: RuntimeWarning: invalid value encountered in arccos\n",
      "  theta_e = np.arccos(cos_theta_e) * np.sign(incidence_mesh)  # to consider also incidence angles behind nadir\n",
      "C:\\Users\\smen851\\PycharmProjects\\systemtradeoffs\\libs\\ambiguity_functions.py:174: RuntimeWarning: invalid value encountered in divide\n",
      "  Numer += np.where(sin(thetaj) != 0, Gint / (raxj ** 3 * sin(thetaj)), 0)\n",
      "C:\\Users\\smen851\\PycharmProjects\\systemtradeoffs\\libs\\ambiguity_functions.py:180: RuntimeWarning: invalid value encountered in divide\n",
      "  Numer += np.where(sin(thetaj) != 0, Gint / (raxj ** 3 * sin(thetaj)), 0)\n",
      "100%|██████████| 112/112 [00:03<00:00, 28.10it/s]\n",
      "100%|██████████| 6/6 [00:10<00:00,  1.68s/it]\n"
     ]
    }
   ],
   "source": [
    "# optimize the design for every point in the grid and store the results in a list\n",
    "# also directly store the results of interest in separate lists\n",
    "results_list = []\n",
    "x_coordinate = []  # prf coordinate\n",
    "y_coordinate = []  # optimized ground range coordinate (compressed image ground swath central point)\n",
    "undersampling_list = []  # optimized undersampling ratio to limit AASR\n",
    "rasr_free_swath_list = []  # portion of the ground range free from ambiguities\n",
    "core_snr_list = []\n",
    "for ii in range(x_samples):\n",
    "    for jj in range(y_samples):\n",
    "        dictionary = umambiguous_mode_analysis(radar_geo,\n",
    "                                               uniap, rg_mesh[ii, jj],\n",
    "                                               prf_mesh[ii, jj], AASR_max, RASR_max,\n",
    "                                               vs, wavelength, dutycycle,\n",
    "                                               aasr_points=6, rasr_points=27)\n",
    "        # saving all the analysis results\n",
    "        results_list.append(dictionary)\n",
    "        # saving individual relevant figures from the analysis\n",
    "        x_coordinate.append(np.average(dictionary['prf']))\n",
    "        y_coordinate.append(\n",
    "            np.average(dictionary['compressed-ground-swath']))  # this is the mid-point of the usable ground swath\n",
    "        undersampling_list.append(dictionary['minimum-undersampling'])\n",
    "        rasr_free_swath_list.append(dictionary['usable-rasr-swath'])\n",
    "        core_snr_list.append(dictionary['core-snr-linear'])"
   ],
   "metadata": {
    "collapsed": false,
    "ExecuteTime": {
     "start_time": "2023-04-27T17:37:16.818517Z",
     "end_time": "2023-04-27T17:37:48.164480Z"
    }
   }
  },
  {
   "cell_type": "markdown",
   "source": [
    "Note return dictionary of unambiguous_mode_analysis\n",
    "    return_dict = {\n",
    "        'ground-swath': swath_rg,\n",
    "        'prf': swath_prf,\n",
    "        'compressed-ground-swath': swath_rg_compressed,\n",
    "        'compressed-slant-swath': swath_rs_compressed,\n",
    "        'compressed-incidence-swath': swath_eta_compressed,\n",
    "        'rasr-ground-range-axis': ground_range_axis,\n",
    "        'rasr-slant-range-axis': slant_range_axis,\n",
    "        'rasr-incidence-axis': incidence_axis,\n",
    "        'rasr-linear': rasr,\n",
    "        'rasr-doppler-bandwidth': Bd,\n",
    "        'aasr-undersampling-axis': doppler_undersampling_ratio,\n",
    "        'aasr-linear': aasr,\n",
    "        'core-snr-linear': core_snr,\n",
    "        'corrected-azimuth-resolution': azres,\n",
    "        'minimum-undersampling': undersampling,\n",
    "        'usable-rasr-swath': swath_rasr,\n",
    "        'usable-swath-ranges': ranges,\n",
    "        'optimized-looking-angle': looking_angle_opt[0]\n",
    "    }"
   ],
   "metadata": {
    "collapsed": false
   }
  },
  {
   "cell_type": "code",
   "execution_count": 15,
   "outputs": [
    {
     "name": "stdout",
     "output_type": "stream",
     "text": [
      "[6058.915982765739, 8058.915982765739]\n"
     ]
    }
   ],
   "source": [
    "# test\n",
    "print(x_coordinate)"
   ],
   "metadata": {
    "collapsed": false,
    "ExecuteTime": {
     "start_time": "2023-04-27T17:37:48.164480Z",
     "end_time": "2023-04-27T17:37:48.178442Z"
    }
   }
  },
  {
   "cell_type": "markdown",
   "source": [
    "# Phase1.5: results saver and loader for asynchronous operation\n",
    "i.e. a cell to pickle the list and a cell to unpickle the list.\n"
   ],
   "metadata": {
    "collapsed": false
   }
  },
  {
   "cell_type": "markdown",
   "source": [
    "### SAVER\n",
    "run the cell below to save the analysis results in a file:\n",
    "- use pickle to\n",
    "- it shall create a folder called analysis_results if not existing yet in the working folder\n",
    "- it shall save as individual files\n",
    "        > results_list\n",
    "        > x_coordinate\n",
    "        > y_coordinate\n",
    "        > undersampling_list\n",
    "        > rasr_free_swath_list\n",
    "        > core_snr_list\n",
    "    keeping the same naming convention for the files as the content list. e.g. ./analysis_results/results_list.pk <-- results_list"
   ],
   "metadata": {
    "collapsed": false
   }
  },
  {
   "cell_type": "code",
   "execution_count": 16,
   "outputs": [],
   "source": [
    "import os\n",
    "import pickle\n",
    "\n",
    "# Create a folder for the analysis results if it does not exist\n",
    "if not os.path.exists('analysis_results'):\n",
    "    os.makedirs('analysis_results')\n",
    "\n",
    "# Save the results_list\n",
    "with open('analysis_results/results_list.pk', 'wb') as f:\n",
    "    pickle.dump(results_list, f)\n",
    "# Save the x_coordinate\n",
    "with open('analysis_results/x_coordinate.pk', 'wb') as f:\n",
    "    pickle.dump(x_coordinate, f)\n",
    "# Save the y_coordinate\n",
    "with open('analysis_results/y_coordinate.pk', 'wb') as f:\n",
    "    pickle.dump(y_coordinate, f)\n",
    "# Save the undersampling_list\n",
    "with open('analysis_results/undersampling_list.pk', 'wb') as f:\n",
    "    pickle.dump(undersampling_list, f)\n",
    "# Save the rasr_free_swath_list\n",
    "with open('analysis_results/rasr_free_swath_list.pk', 'wb') as f:\n",
    "    pickle.dump(rasr_free_swath_list, f)\n",
    "# Save the core_snr_list\n",
    "with open('analysis_results/core_snr_list.pk', 'wb') as f:\n",
    "    pickle.dump(core_snr_list, f)\n"
   ],
   "metadata": {
    "collapsed": false,
    "ExecuteTime": {
     "start_time": "2023-04-27T17:37:48.183429Z",
     "end_time": "2023-04-27T17:37:48.239279Z"
    }
   }
  },
  {
   "cell_type": "markdown",
   "source": [
    "ChatGpt: Sure! Here's the specification for loading the analysis results from the saved pickle files:\n",
    "\n",
    "### LOADER\n",
    "- Load the analysis results from the saved pickle files using pickle module.\n",
    "- Load the following individual files from the \"analysis_results\" folder:\n",
    "    * results_list.pk\n",
    "    * x_coordinate.pk\n",
    "    * y_coordinate.pk\n",
    "    * undersampling_list.pk\n",
    "    * rasr_free_swath_list.pk\n",
    "    * core_snr_list.pk\n",
    "- Assign the loaded data to the corresponding variable names:\n",
    "    * results_list\n",
    "    * x_coordinate\n",
    "    * y_coordinate\n",
    "    * undersampling_list\n",
    "    * rasr_free_swath_list\n",
    "    * core_snr_list\n",
    "\n",
    "Note: The file names and variable names must match with the ones used in the SAVER section.\n",
    "Note1: Run the cells preceding and in Phase 0 before or after loading"
   ],
   "metadata": {
    "collapsed": false
   }
  },
  {
   "cell_type": "code",
   "execution_count": 17,
   "outputs": [],
   "source": [
    "import pickle\n",
    "from IPython.display import Javascript\n",
    "\n",
    "Javascript(\"Jupyter.notebook.execute_cell_range(1,11)\")  #doesn't work. run clls manually up to phase0\n",
    "\n",
    "# Load the results_list\n",
    "with open('analysis_results/results_list.pk', 'rb') as f:\n",
    "    results_list = pickle.load(f)\n",
    "# Load the x_coordinate\n",
    "with open('analysis_results/x_coordinate.pk', 'rb') as f:\n",
    "    x_coordinate = pickle.load(f)\n",
    "# Load the y_coordinate\n",
    "with open('analysis_results/y_coordinate.pk', 'rb') as f:\n",
    "    y_coordinate = pickle.load(f)\n",
    "# Load the undersampling_list\n",
    "with open('analysis_results/undersampling_list.pk', 'rb') as f:\n",
    "    undersampling_list = pickle.load(f)\n",
    "# Load the rasr_free_swath_list\n",
    "with open('analysis_results/rasr_free_swath_list.pk', 'rb') as f:\n",
    "    rasr_free_swath_list = pickle.load(f)\n",
    "# Load the core_snr_list\n",
    "with open('analysis_results/core_snr_list.pk', 'rb') as f:\n",
    "    core_snr_list = pickle.load(f)"
   ],
   "metadata": {
    "collapsed": false,
    "ExecuteTime": {
     "start_time": "2023-04-27T17:37:48.198389Z",
     "end_time": "2023-04-27T17:37:48.248255Z"
    }
   }
  },
  {
   "cell_type": "markdown",
   "source": [
    "# Phase2: grid visualization"
   ],
   "metadata": {
    "collapsed": false
   }
  },
  {
   "cell_type": "code",
   "execution_count": 18,
   "outputs": [
    {
     "data": {
      "text/plain": "(139.0860882627631, 265.2781627897959)"
     },
     "execution_count": 18,
     "metadata": {},
     "output_type": "execute_result"
    }
   ],
   "source": [
    "# plotting the points in the already open timing diagram.\n",
    "\n",
    "\n",
    "for ii in range(len(x_coordinate)):\n",
    "    ax.plot(x_coordinate[ii], y_coordinate[ii] / 1000, 'x', color='black')\n",
    "\n",
    "# adjust the plot scale\n",
    "ax.set_xlim(min(x_coordinate) - 3e2, max(x_coordinate) + 3e2)\n",
    "ax.set_ylim(min(y_coordinate) / 1e3 - 30, max(y_coordinate) / 1e3 + 30)\n"
   ],
   "metadata": {
    "collapsed": false,
    "ExecuteTime": {
     "start_time": "2023-04-27T17:37:48.211354Z",
     "end_time": "2023-04-27T17:37:48.248255Z"
    }
   }
  },
  {
   "cell_type": "markdown",
   "source": [
    "## Phase2.5: colorbar visualization tool for design solutions\n",
    "Requirements\n",
    "- vertical lines corresponding to the usable (RASR free)swath\n",
    "- color of lines corresponding to resolution or core snr\n"
   ],
   "metadata": {
    "collapsed": false
   }
  },
  {
   "cell_type": "code",
   "execution_count": 19,
   "outputs": [],
   "source": [
    "# prototype\n",
    "def design_point_visualizer(axis, dictionary, scalar_element, colormap, scalar_min, scalar_max,\n",
    "                            labeling=True,\n",
    "                            cmapaxis=0,\n",
    "                            scale=1,\n",
    "                            unit=' ',\n",
    "                            logscale=False, h=500e3,\n",
    "                            re=6371e3):\n",
    "    \"\"\"\n",
    "\n",
    "    :param axis: matplotlib axis for the plot\n",
    "    :param dictionary: dictionary from analysis\n",
    "    :param scalar_element: a string containing the dictionary key pointing to a scalar value\n",
    "    :param colormap: matplotlib colormap key\n",
    "    :param scalar_min: minimum scalar value for the colorbar, linear\n",
    "    :param scalar_max: maximum scalar value for the colorbar, linear\n",
    "    :param labeling: default True, adds a label to every line in the plot\n",
    "    :param cmapaxis: axis for the colormap, if not set, no colormap is produced\n",
    "    :param scale: multiplier for the scalar value\n",
    "    :param unit: string to display on the label after the number\n",
    "    :param logscale: if set to true, the scalar value is converted to decibel\n",
    "    :return: stocazzo\n",
    "    \"\"\"\n",
    "    #1 find holes in the usable swath ranges, note the swath ranges are linearly spaced over the incidence angle axis\n",
    "    ranges = dictionary['usable-swath-ranges']\n",
    "    slant_ranges = range_ground_to_slant(ranges, h, re)\n",
    "    ranges1, incidences = range_slant_to_ground(slant_ranges, h, re)\n",
    "    deltas = incidences[1:-1] - incidences[0:-2]  # so far so good\n",
    "    if deltas.size != 0:\n",
    "        delta = min(deltas)\n",
    "    else:\n",
    "        delta = 0\n",
    "    #print(delta)\n",
    "    holes = np.argwhere(deltas > 1.01 * delta)  #contains the indexes of the ranges element preceding a hole\n",
    "    #2 color code for scalar value\n",
    "    cmap = matplotlib.colormaps[colormap]  # todo change to colormap\n",
    "    scalar = np.average(dictionary[scalar_element]) * scale\n",
    "    if logscale:\n",
    "        scalar = 10 * np.log10(scalar)\n",
    "        scalar_min = 10 * np.log10(scalar_min)\n",
    "        scalar_max = 10 * np.log10(scalar_max)\n",
    "    mapped_color = cmap((scalar - scalar_min) / (scalar_max - scalar_min))\n",
    "    #3 draw a line for every contiguous section of range\n",
    "    if holes.size == 0:\n",
    "        holes = np.array([-1])\n",
    "    else:\n",
    "        holes += 1\n",
    "        holes = np.append(holes, -1)\n",
    "    holes = np.insert(holes, 0, 0)\n",
    "    #print(deltas)\n",
    "    #print(holes)\n",
    "    for ii in range(holes.size - 1):\n",
    "        yy = ranges[holes[ii]: holes[ii + 1]]\n",
    "        xx = np.ones_like(yy) * np.average(dictionary['prf'])\n",
    "        label = str(round(scalar, 2)) + unit\n",
    "        axis.plot(xx, yy / 1000, color=mapped_color, label=label, linewidth=2.5)\n",
    "        if labeling:\n",
    "            axis.annotate(label, (np.average(xx) + 2, np.average(yy) / 1000))\n",
    "\n",
    "    # plot a colored dot if the range is zero\n",
    "    if ranges.size == 0:\n",
    "        label = str(round(scalar, 2)) + unit\n",
    "        axis.plot(np.average(dictionary['prf']), np.average(dictionary['compressed-ground-swath']) / 1000, '.',\n",
    "                  color=mapped_color,label=label, linewidth=2.5)\n",
    "        if labeling:\n",
    "            axis.annotate(label, (np.average(dictionary['prf']) + 2,\n",
    "                          np.average(dictionary['compressed-ground-swath']) / 1000))\n",
    "\n",
    "    if cmapaxis != 0:\n",
    "        # colormap\n",
    "        #cmap = plt.cm.get_cmap(colormap) #deprecated\n",
    "        cmap = mpl.colormaps[colormap]\n",
    "        norm = mpl.colors.Normalize(vmin=scalar_min, vmax=scalar_max)\n",
    "        cb1 = mpl.colorbar.ColorbarBase(cmapaxis, cmap=cmap,\n",
    "                                        norm=norm,\n",
    "                                        orientation='horizontal')\n",
    "        cb1.set_label(unit)\n",
    "    plt.show()\n",
    "\n",
    "# dictionary = results_list[3]\n",
    "# design_point_visualizer(ax, dictionary, 'minimum-undersampling', 'Greys', 0, 1, logscale=False, h=h)"
   ],
   "metadata": {
    "collapsed": false,
    "ExecuteTime": {
     "start_time": "2023-04-27T17:37:48.238282Z",
     "end_time": "2023-04-27T17:37:48.255916Z"
    }
   }
  },
  {
   "cell_type": "code",
   "execution_count": 20,
   "outputs": [],
   "source": [
    "# test\n",
    "for dictionary in results_list:\n",
    "    design_point_visualizer(ax, dictionary, 'minimum-undersampling', 'plasma', 0, 1, logscale=False, h=h)"
   ],
   "metadata": {
    "collapsed": false,
    "ExecuteTime": {
     "start_time": "2023-04-27T17:37:48.255916Z",
     "end_time": "2023-04-27T17:37:48.316646Z"
    }
   }
  },
  {
   "cell_type": "markdown",
   "source": [
    "# Phase3: Ground range visualization\n",
    "Requirements:\n",
    "- the timing diagram shall be black and white\n",
    "- the X in the plot shall show the position of the radar midswath on ground\n",
    "- the color shall be representative of the total ground swath in km."
   ],
   "metadata": {
    "collapsed": false
   }
  },
  {
   "cell_type": "code",
   "execution_count": 21,
   "outputs": [
    {
     "name": "stderr",
     "output_type": "stream",
     "text": [
      "C:\\Users\\smen851\\PycharmProjects\\systemtradeoffs\\libs\\design_functions.py:42: RuntimeWarning: invalid value encountered in arccos\n",
      "  beta = arccos(((re + h) ** 2 - re ** 2 + rs ** 2) / (2 * (re + h) * rs))\n",
      "C:\\Users\\smen851\\PycharmProjects\\systemtradeoffs\\libs\\design_functions.py:43: RuntimeWarning: invalid value encountered in arccos\n",
      "  alpha = arccos(((re + h) ** 2 + re ** 2 - rs ** 2) / (2 * (re + h) * re))\n"
     ]
    }
   ],
   "source": [
    "# 1 create another timing diagram in black and white:\n",
    "# plot\n",
    "fig, (ax, ax1) = plt.subplots(2, dpi=150, gridspec_kw={'height_ratios': [30, 1]})\n",
    "time_diagram_plotter(ax, prf, dutycycle, h, nadir=False, integrationtime=False, color='dimgray')\n",
    "nadir_return_plotter(ax, prf, dutycycle, nadir_duration, h, color='silver')\n",
    "ax.set_xlabel('PRF [Hz]')\n",
    "ax.set_ylabel(' Ground range [km]')\n",
    "ax.set_xlim(1 / PRI - 1000, 1 / PRI + 1000)\n",
    "ax.set_ylim(100, 300)\n",
    "## canonical constraints line plots\n",
    "ax.plot(prf_opt, ground_range / 1000, 'k')\n",
    "ax.plot(prf_min, ground_range / 1000, '--k')\n",
    "ax.set_title('RASR-free Ground range visualization')\n",
    "fig.tight_layout()"
   ],
   "metadata": {
    "collapsed": false,
    "ExecuteTime": {
     "start_time": "2023-04-27T17:37:48.271739Z",
     "end_time": "2023-04-27T17:37:52.903612Z"
    }
   }
  },
  {
   "cell_type": "code",
   "execution_count": 22,
   "outputs": [
    {
     "data": {
      "text/plain": "(119.0860882627631, 285.2781627897959)"
     },
     "execution_count": 22,
     "metadata": {},
     "output_type": "execute_result"
    }
   ],
   "source": [
    "# 2 midswath points:\n",
    "for ii in range(len(x_coordinate)):\n",
    "    ax.plot(x_coordinate[ii], y_coordinate[ii] / 1000, 'x', color='black')\n",
    "\n",
    "# adjust the plot scale\n",
    "ax.set_xlim(min(x_coordinate) - 3e2, max(x_coordinate) + 3e2)\n",
    "ax.set_ylim(min(y_coordinate) / 1e3 - 50, max(y_coordinate) / 1e3 + 50)"
   ],
   "metadata": {
    "collapsed": false,
    "ExecuteTime": {
     "start_time": "2023-04-27T17:37:52.904609Z",
     "end_time": "2023-04-27T17:37:52.914693Z"
    }
   }
  },
  {
   "cell_type": "code",
   "execution_count": 23,
   "outputs": [],
   "source": [
    "# colored lines:\n",
    "for dictionary in results_list:\n",
    "    design_point_visualizer(ax, dictionary, 'usable-rasr-swath', 'plasma', 0, 60, scale=1e-3, unit='km',\n",
    "                            logscale=False, h=h, cmapaxis=ax1, labeling=False)\n",
    "fig.tight_layout()"
   ],
   "metadata": {
    "collapsed": false,
    "ExecuteTime": {
     "start_time": "2023-04-27T17:37:52.915691Z",
     "end_time": "2023-04-27T17:37:53.119019Z"
    }
   }
  },
  {
   "cell_type": "code",
   "execution_count": 24,
   "outputs": [],
   "source": [
    "#mpl.colormaps['plasma']"
   ],
   "metadata": {
    "collapsed": false,
    "ExecuteTime": {
     "start_time": "2023-04-27T17:37:53.119987Z",
     "end_time": "2023-04-27T17:37:53.134991Z"
    }
   }
  },
  {
   "cell_type": "markdown",
   "source": [
    "# Phase4: undersampling/resolution visualization"
   ],
   "metadata": {
    "collapsed": false
   }
  },
  {
   "cell_type": "code",
   "execution_count": 25,
   "outputs": [],
   "source": [
    "# 1 create another timing diagram in black and white:\n",
    "# plot\n",
    "fig, (ax, ax1) = plt.subplots(2, dpi=150, gridspec_kw={'height_ratios': [30, 1]})\n",
    "time_diagram_plotter(ax, prf, dutycycle, h, nadir=False, integrationtime=False, color='dimgray')\n",
    "nadir_return_plotter(ax, prf, dutycycle, nadir_duration, h, color='silver')\n",
    "ax.set_xlabel('PRF [Hz]')\n",
    "ax.set_ylabel(' Ground range [km]')\n",
    "ax.set_xlim(1 / PRI - 1000, 1 / PRI + 1000)\n",
    "ax.set_ylim(100, 300)\n",
    "## canonical constraints line plots\n",
    "ax.plot(prf_opt, ground_range / 1000, 'k')\n",
    "ax.plot(prf_min, ground_range / 1000, '--k')\n",
    "ax.set_title('Doppler under-processing ratio visualization')\n",
    "fig.tight_layout()"
   ],
   "metadata": {
    "collapsed": false,
    "ExecuteTime": {
     "start_time": "2023-04-27T17:37:53.137979Z",
     "end_time": "2023-04-27T17:37:57.155392Z"
    }
   }
  },
  {
   "cell_type": "code",
   "execution_count": 26,
   "outputs": [
    {
     "data": {
      "text/plain": "(119.0860882627631, 285.2781627897959)"
     },
     "execution_count": 26,
     "metadata": {},
     "output_type": "execute_result"
    }
   ],
   "source": [
    "# 2 midswath points:\n",
    "for ii in range(len(x_coordinate)):\n",
    "    ax.plot(x_coordinate[ii], y_coordinate[ii] / 1000, 'x', color='black')\n",
    "\n",
    "# adjust the plot scale\n",
    "ax.set_xlim(min(x_coordinate) - 3e2, max(x_coordinate) + 3e2)\n",
    "ax.set_ylim(min(y_coordinate) / 1e3 - 50, max(y_coordinate) / 1e3 + 50)"
   ],
   "metadata": {
    "collapsed": false,
    "ExecuteTime": {
     "start_time": "2023-04-27T17:37:57.156338Z",
     "end_time": "2023-04-27T17:37:57.170415Z"
    }
   }
  },
  {
   "cell_type": "code",
   "execution_count": 27,
   "outputs": [],
   "source": [
    "# colored lines:\n",
    "for dictionary in results_list:\n",
    "    design_point_visualizer(ax, dictionary, 'minimum-undersampling', 'plasma', 0, 1,\n",
    "                            logscale=False, h=h, cmapaxis=ax1, labeling=False)\n",
    "fig.tight_layout()"
   ],
   "metadata": {
    "collapsed": false,
    "ExecuteTime": {
     "start_time": "2023-04-27T17:37:57.171399Z",
     "end_time": "2023-04-27T17:37:57.373268Z"
    }
   }
  },
  {
   "cell_type": "markdown",
   "source": [],
   "metadata": {
    "collapsed": false
   }
  },
  {
   "cell_type": "markdown",
   "source": [
    "# Phase5: CoreSNR visualization"
   ],
   "metadata": {
    "collapsed": false
   }
  },
  {
   "cell_type": "code",
   "execution_count": 28,
   "outputs": [],
   "source": [
    "# 1 create another timing diagram in black and white:\n",
    "# plot\n",
    "fig, (ax, ax1) = plt.subplots(2, dpi=150, gridspec_kw={'height_ratios': [30, 1]})\n",
    "time_diagram_plotter(ax, prf, dutycycle, h, nadir=False, integrationtime=False, color='dimgray')\n",
    "nadir_return_plotter(ax, prf, dutycycle, nadir_duration, h, color='silver')\n",
    "ax.set_xlabel('PRF [Hz]')\n",
    "ax.set_ylabel(' Ground range [km]')\n",
    "ax.set_xlim(1 / PRI - 1000, 1 / PRI + 1000)\n",
    "ax.set_ylim(100, 300)\n",
    "## canonical constraints line plots\n",
    "ax.plot(prf_opt, ground_range / 1000, 'k')\n",
    "ax.plot(prf_min, ground_range / 1000, '--k')\n",
    "ax.set_title('Core SNR visualization')\n",
    "fig.tight_layout()"
   ],
   "metadata": {
    "collapsed": false,
    "ExecuteTime": {
     "start_time": "2023-04-27T17:37:57.377258Z",
     "end_time": "2023-04-27T17:38:02.299024Z"
    }
   }
  },
  {
   "cell_type": "code",
   "execution_count": 29,
   "outputs": [
    {
     "data": {
      "text/plain": "(119.0860882627631, 285.2781627897959)"
     },
     "execution_count": 29,
     "metadata": {},
     "output_type": "execute_result"
    }
   ],
   "source": [
    "# 2 midswath points:\n",
    "for ii in range(len(x_coordinate)):\n",
    "    ax.plot(x_coordinate[ii], y_coordinate[ii] / 1000, 'x', color='black')\n",
    "\n",
    "# adjust the plot scale\n",
    "ax.set_xlim(min(x_coordinate) - 3e2, max(x_coordinate) + 3e2)\n",
    "ax.set_ylim(min(y_coordinate) / 1e3 - 50, max(y_coordinate) / 1e3 + 50)"
   ],
   "metadata": {
    "collapsed": false,
    "ExecuteTime": {
     "start_time": "2023-04-27T17:38:02.300058Z",
     "end_time": "2023-04-27T17:38:02.313240Z"
    }
   }
  },
  {
   "cell_type": "code",
   "execution_count": 30,
   "outputs": [],
   "source": [
    "# colored lines:\n",
    "for dictionary in results_list:\n",
    "    design_point_visualizer(ax, dictionary, 'core-snr-linear', 'plasma', 10 ** 9, 10 ** 10.2, unit='dB',\n",
    "                            logscale=True, h=h, cmapaxis=ax1, labeling=True)\n",
    "fig.tight_layout()"
   ],
   "metadata": {
    "collapsed": false,
    "ExecuteTime": {
     "start_time": "2023-04-27T17:38:02.314219Z",
     "end_time": "2023-04-27T17:38:02.517999Z"
    }
   }
  },
  {
   "cell_type": "code",
   "execution_count": 30,
   "outputs": [],
   "source": [],
   "metadata": {
    "collapsed": false,
    "ExecuteTime": {
     "start_time": "2023-04-27T17:38:02.518996Z",
     "end_time": "2023-04-27T17:38:02.533449Z"
    }
   }
  },
  {
   "cell_type": "markdown",
   "source": [
    "## Phase 5.5 Core SNR considering minimum Doppler underprocessing ratio"
   ],
   "metadata": {
    "collapsed": false
   }
  },
  {
   "cell_type": "code",
   "execution_count": 31,
   "outputs": [],
   "source": [
    "# 1 create another timing diagram in black and white:\n",
    "# plot\n",
    "fig, (ax, ax1) = plt.subplots(2, dpi=150, gridspec_kw={'height_ratios': [30, 1]})\n",
    "time_diagram_plotter(ax, prf, dutycycle, h, nadir=False, integrationtime=False, color='dimgray')\n",
    "nadir_return_plotter(ax, prf, dutycycle, nadir_duration, h, color='silver')\n",
    "ax.set_xlabel('PRF [Hz]')\n",
    "ax.set_ylabel(' Ground range [km]')\n",
    "ax.set_xlim(1 / PRI - 1000, 1 / PRI + 1000)\n",
    "ax.set_ylim(100, 300)\n",
    "## canonical constraints line plots\n",
    "ax.plot(prf_opt, ground_range / 1000, 'k')\n",
    "ax.plot(prf_min, ground_range / 1000, '--k')\n",
    "ax.set_title('Underprocessed Doppler Core SNR visualization')\n",
    "fig.tight_layout()"
   ],
   "metadata": {
    "collapsed": false,
    "ExecuteTime": {
     "start_time": "2023-04-27T17:38:02.535442Z",
     "end_time": "2023-04-27T17:38:06.178053Z"
    }
   }
  },
  {
   "cell_type": "code",
   "execution_count": 32,
   "outputs": [
    {
     "data": {
      "text/plain": "(119.0860882627631, 285.2781627897959)"
     },
     "execution_count": 32,
     "metadata": {},
     "output_type": "execute_result"
    }
   ],
   "source": [
    "# 2 midswath points:\n",
    "for ii in range(len(x_coordinate)):\n",
    "    ax.plot(x_coordinate[ii], y_coordinate[ii] / 1000, 'x', color='black')\n",
    "\n",
    "# adjust the plot scale\n",
    "ax.set_xlim(min(x_coordinate) - 3e2, max(x_coordinate) + 3e2)\n",
    "ax.set_ylim(min(y_coordinate) / 1e3 - 50, max(y_coordinate) / 1e3 + 50)"
   ],
   "metadata": {
    "collapsed": false,
    "ExecuteTime": {
     "start_time": "2023-04-27T17:38:06.178053Z",
     "end_time": "2023-04-27T17:38:06.197945Z"
    }
   }
  },
  {
   "cell_type": "code",
   "execution_count": 33,
   "outputs": [],
   "source": [
    "# colored lines:\n",
    "for dictionary in results_list:\n",
    "    design_point_visualizer(ax, dictionary, 'core-snr-linear-underprocessed', 'plasma', 10 ** 9, 10 ** 10.2, unit='dB',\n",
    "                            logscale=True, h=h, cmapaxis=ax1, labeling=True)\n",
    "fig.tight_layout()"
   ],
   "metadata": {
    "collapsed": false,
    "ExecuteTime": {
     "start_time": "2023-04-27T17:38:06.205983Z",
     "end_time": "2023-04-27T17:38:06.410935Z"
    }
   }
  },
  {
   "cell_type": "markdown",
   "source": [],
   "metadata": {
    "collapsed": false
   }
  },
  {
   "cell_type": "code",
   "execution_count": 33,
   "outputs": [],
   "source": [],
   "metadata": {
    "collapsed": false,
    "ExecuteTime": {
     "start_time": "2023-04-27T17:38:06.411930Z",
     "end_time": "2023-04-27T17:38:06.430781Z"
    }
   }
  }
 ],
 "metadata": {
  "kernelspec": {
   "display_name": "Python 3",
   "language": "python",
   "name": "python3"
  },
  "language_info": {
   "codemirror_mode": {
    "name": "ipython",
    "version": 2
   },
   "file_extension": ".py",
   "mimetype": "text/x-python",
   "name": "python",
   "nbconvert_exporter": "python",
   "pygments_lexer": "ipython2",
   "version": "2.7.6"
  }
 },
 "nbformat": 4,
 "nbformat_minor": 0
}
