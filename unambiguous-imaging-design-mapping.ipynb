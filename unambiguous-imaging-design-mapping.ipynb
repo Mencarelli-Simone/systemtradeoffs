{
 "cells": [
  {
   "cell_type": "code",
   "execution_count": 1,
   "metadata": {
    "collapsed": true,
    "ExecuteTime": {
     "start_time": "2023-04-26T10:52:56.255484Z",
     "end_time": "2023-04-26T10:52:56.266909Z"
    }
   },
   "outputs": [],
   "source": [
    "# todo\n",
    "# 16/3/23"
   ]
  },
  {
   "cell_type": "markdown",
   "source": [
    "he idea is to make some surface plots over the TD space to compare:\n",
    "            resolution degradation for a fixed minimum AASR,\n",
    "            swath portion over which RASR excedes a certain treshold,\n",
    "            peak core snr\n",
    "            NEXT what happens morphing the antenna size?"
   ],
   "metadata": {
    "collapsed": false
   }
  },
  {
   "cell_type": "code",
   "execution_count": 2,
   "outputs": [],
   "source": [
    "# From Michelangelo Villano's hands on lab\n",
    "# To open separate plot-windows outside the browser uncomment one of the following two lines\n",
    "%matplotlib qt\n",
    "#get_ipython().run_line_magic('matplotlib','qt5')\n",
    "\n",
    "# To open a Plot-window within notebook with zoom/edit control uncomment one of the following two lines\n",
    "# %matplotlib notebook\n",
    "# get_ipython().run_line_magic('matplotlib','notebook')\n",
    "\n",
    "# options are 'osx', 'qt4', 'qt5', 'gtk3', 'wx', 'qt', 'gtk', 'tk' , 'notebook' , 'inline'"
   ],
   "metadata": {
    "collapsed": false,
    "ExecuteTime": {
     "start_time": "2023-04-26T10:52:56.270858Z",
     "end_time": "2023-04-26T10:52:56.643764Z"
    }
   }
  },
  {
   "cell_type": "code",
   "execution_count": 3,
   "outputs": [],
   "source": [
    "## Dependencies\n",
    "from libs.timing_diagram import *\n",
    "from libs.design_functions import *\n",
    "import numpy as np\n",
    "import matplotlib.pyplot as plt\n",
    "from libs.spherical_earth_geometry_radar import *\n",
    "from libs.radartools.farField import UniformAperture\n",
    "from libs.ambiguity_functions import *\n",
    "from unambiguous_imaging_design_analysis import *"
   ],
   "metadata": {
    "collapsed": false,
    "ExecuteTime": {
     "start_time": "2023-04-26T10:52:56.645759Z",
     "end_time": "2023-04-26T10:52:57.002939Z"
    }
   }
  },
  {
   "cell_type": "markdown",
   "source": [
    "_*Problem : how to sample the space:*_\n",
    "\n",
    "**possibility 1** we restrict the sampling space to solutions which align at the far range (transmit event excluded) with the next nadir return.\n",
    "- few points have to be computed\n",
    "- some dynamics might be hidden\n",
    "\n",
    "**possibility 2** we set a minimum and maximum range, we discretize the PRF axis, and we find all possible ranges for each sample within the swath.\n",
    "- resolution set by the user\n",
    "- the samples might not coincide with the nadir return avoidance optimal (a visual selection can still be made in any case).\n",
    "\n",
    "**2** is better overall\n",
    "\n",
    "Also we can use the intersection point of the two minprf and opt prf curves as a reference point, but how?"
   ],
   "metadata": {
    "collapsed": false
   }
  },
  {
   "cell_type": "code",
   "execution_count": 4,
   "outputs": [],
   "source": [
    "## System Parameters\n",
    "\n",
    "# constants\n",
    "c = 299792458\n",
    "\n",
    "# radar parameters\n",
    "dutycycle = 0.25  # duty cycle\n",
    "h = 500e3  # height\n",
    "wavelength = c / 10e9  # wavelength\n",
    "\n",
    "# satellite speed\n",
    "vs = orbital_speed(h)\n",
    "\n",
    "# antenna size\n",
    "Wa = 0.3  # antenna width in meters\n",
    "La = 2  # antenna length in meters\n",
    "\n",
    "# nadir duration in fractions of PRI for visualization in timing diagram\n",
    "# note, it makes sense to use this fractional quantity as the nadir duration, if unfocused (e.g. saturated receiver), will be proportional to the impulse on time.\n",
    "nadir_duration = 2 * dutycycle\n"
   ],
   "metadata": {
    "collapsed": false,
    "ExecuteTime": {
     "start_time": "2023-04-26T10:52:57.003904Z",
     "end_time": "2023-04-26T10:52:57.021749Z"
    }
   }
  },
  {
   "cell_type": "code",
   "execution_count": 5,
   "outputs": [
    {
     "name": "stderr",
     "output_type": "stream",
     "text": [
      "C:\\Users\\smen851\\PycharmProjects\\systemtradeoffs\\libs\\design_functions.py:42: RuntimeWarning: invalid value encountered in arccos\n",
      "  beta = arccos(((re + h) ** 2 - re ** 2 + rs ** 2) / (2 * (re + h) * rs))\n",
      "C:\\Users\\smen851\\PycharmProjects\\systemtradeoffs\\libs\\design_functions.py:43: RuntimeWarning: invalid value encountered in arccos\n",
      "  alpha = arccos(((re + h) ** 2 + re ** 2 - rs ** 2) / (2 * (re + h) * re))\n"
     ]
    },
    {
     "data": {
      "text/plain": "(100.0, 300.0)"
     },
     "execution_count": 5,
     "metadata": {},
     "output_type": "execute_result"
    }
   ],
   "source": [
    "## base diagram\n",
    "# PRF axis\n",
    "PRI = 1 / 7050\n",
    "prf = np.linspace(1 / PRI - 4000, 1 / PRI + 4000, 100)\n",
    "\n",
    "# plot\n",
    "fig, ax = plt.subplots(1)\n",
    "time_diagram_plotter(ax, prf, dutycycle, h, nadir=False, integrationtime=False)\n",
    "nadir_return_plotter(ax, prf, dutycycle, nadir_duration, h)\n",
    "ax.set_xlabel('PRF [Hz]')\n",
    "ax.set_ylabel(' Ground range [km]')\n",
    "ax.set_xlim(1 / PRI - 1000, 1 / PRI + 1000)\n",
    "ax.set_ylim(100, 300)"
   ],
   "metadata": {
    "collapsed": false,
    "ExecuteTime": {
     "start_time": "2023-04-26T10:52:57.035676Z",
     "end_time": "2023-04-26T10:53:00.957369Z"
    }
   }
  },
  {
   "cell_type": "code",
   "execution_count": 6,
   "outputs": [
    {
     "name": "stderr",
     "output_type": "stream",
     "text": [
      "C:\\Users\\smen851\\PycharmProjects\\systemtradeoffs\\unambiguous_imaging_design_analysis.py:56: RuntimeWarning: divide by zero encountered in divide\n",
      "  prf_opt = 1 / pri\n"
     ]
    },
    {
     "data": {
      "text/plain": "[<matplotlib.lines.Line2D at 0x22ccae8d280>]"
     },
     "execution_count": 6,
     "metadata": {},
     "output_type": "execute_result"
    }
   ],
   "source": [
    "## canonical constraints line plots\n",
    "# 1 ground range axis in m\n",
    "ground_range = np.linspace(0, 2000, 500) * 1000\n",
    "\n",
    "prf_opt = optimal_prf_line(ground_range, Wa, wavelength, h)\n",
    "# Add to the plot\n",
    "ax.plot(prf_opt, ground_range / 1000, 'red')\n",
    "\n",
    "prf_min = minimum_prf_line(ground_range, vs, La, h)\n",
    "ax.plot(prf_min, ground_range / 1000, 'green')"
   ],
   "metadata": {
    "collapsed": false,
    "ExecuteTime": {
     "start_time": "2023-04-26T10:53:00.958367Z",
     "end_time": "2023-04-26T10:53:00.999517Z"
    }
   }
  },
  {
   "cell_type": "code",
   "execution_count": 7,
   "outputs": [
    {
     "name": "stdout",
     "output_type": "stream",
     "text": [
      "[7058.91598277] [197427.8613883]\n"
     ]
    },
    {
     "data": {
      "text/plain": "[<matplotlib.lines.Line2D at 0x22cd540f9a0>]"
     },
     "execution_count": 7,
     "metadata": {},
     "output_type": "execute_result"
    }
   ],
   "source": [
    "# find the intersection point\n",
    "tosolve = lambda rgx: optimal_prf_line(rgx, Wa, wavelength, h) - minimum_prf_line(rgx, vs, La, h)\n",
    "\n",
    "rg_point = fsolve(tosolve, 200000)\n",
    "prf_point = minimum_prf_line(rg_point, vs, La, h)\n",
    "\n",
    "print(prf_point, rg_point)\n",
    "\n",
    "ax.plot(prf_point, rg_point / 1000, 'x', color='blue')"
   ],
   "metadata": {
    "collapsed": false,
    "ExecuteTime": {
     "start_time": "2023-04-26T10:53:00.970972Z",
     "end_time": "2023-04-26T10:53:01.005531Z"
    }
   }
  },
  {
   "cell_type": "markdown",
   "source": [
    "At this point we have the timing diagram, the minimum PRF line, the maximum range line, and the intersetion point representing the ideal design solution.\n",
    "\n",
    "The intersection point will be the center sample for the analysis; the extent is set empirically."
   ],
   "metadata": {
    "collapsed": false
   }
  },
  {
   "cell_type": "markdown",
   "source": [
    "# Phase0: defining the meshgrid for calculation"
   ],
   "metadata": {
    "collapsed": false
   }
  },
  {
   "cell_type": "code",
   "execution_count": 8,
   "outputs": [],
   "source": [
    "# number of PRF samples\n",
    "x_samples = 3\n",
    "# number of ground range samples\n",
    "y_samples = 4\n",
    "\n",
    "prf_axis = np.linspace(prf_point - 1e3, prf_point + 1e3, x_samples)\n",
    "prf_mesh = np.repeat(prf_axis, y_samples).reshape(x_samples, y_samples)\n",
    "#print(prf_mesh)\n",
    "\n",
    "# ground range mesh coordinates initialization\n",
    "rg_mesh = np.zeros_like(prf_mesh)\n",
    "for ii in range(x_samples):\n",
    "    prf_point = prf_axis[ii]\n",
    "    # the center range sample shall be on the red curve\n",
    "    rg_opt = lambda rg: optimal_prf_line(rg, Wa, wavelength, h) - prf_point\n",
    "    rg_point = fsolve(rg_opt, rg_point)  # todo red curve\n",
    "    # 1 convert rg to slant range\n",
    "    rs = range_ground_to_slant(rg_point, h)\n",
    "    # 2 find the next pulse order\n",
    "    n = np.ceil((2 * rs / c) * prf_point)\n",
    "    # 3 find the nadir order\n",
    "    n_nadir = np.ceil((2 * h / c) * prf_point)\n",
    "    # 4 generate the range axis\n",
    "    if n - n_nadir <= y_samples / 2:  # to maintain a side looking geometry and the same number of samples\n",
    "        rs_axis = (np.arange(n_nadir, n_nadir + y_samples) + 0.5) * c / (2 * prf_point)\n",
    "        rg_axis, tt = range_slant_to_ground(rs_axis, h)\n",
    "    else:\n",
    "        rs_axis = (np.arange(n - int(y_samples / 2) - 1, n - int(y_samples / 2) - 1 + y_samples) + 0.5) * c / (\n",
    "                2 * prf_point)\n",
    "        rg_axis, tt = range_slant_to_ground(rs_axis, h)\n",
    "    rg_mesh[ii] = rg_axis\n",
    "\n",
    "# it seems to work. tested with different values of x samples and y samples"
   ],
   "metadata": {
    "collapsed": false,
    "ExecuteTime": {
     "start_time": "2023-04-26T10:53:00.985931Z",
     "end_time": "2023-04-26T10:53:01.006529Z"
    }
   }
  },
  {
   "cell_type": "code",
   "execution_count": 9,
   "outputs": [
    {
     "name": "stdout",
     "output_type": "stream",
     "text": [
      "[[6058.91598277 6058.91598277 6058.91598277 6058.91598277]\n",
      " [7058.91598277 7058.91598277 7058.91598277 7058.91598277]\n",
      " [8058.91598277 8058.91598277 8058.91598277 8058.91598277]]\n",
      "[[174726.22012331 235593.7827447  285687.91255835 329953.14321422]\n",
      " [138438.15853905 200183.13214924 248635.63701629 290524.57559297]\n",
      " [103861.84345    169566.42887375 217626.48522901 258094.88507262]]\n"
     ]
    }
   ],
   "source": [
    "print(prf_mesh)\n",
    "print(rg_mesh)"
   ],
   "metadata": {
    "collapsed": false,
    "ExecuteTime": {
     "start_time": "2023-04-26T10:53:01.001544Z",
     "end_time": "2023-04-26T10:53:01.016609Z"
    }
   }
  },
  {
   "cell_type": "code",
   "execution_count": 14,
   "outputs": [
    {
     "data": {
      "text/plain": "(3, 4)"
     },
     "execution_count": 14,
     "metadata": {},
     "output_type": "execute_result"
    }
   ],
   "source": [
    "rg_mesh.shape"
   ],
   "metadata": {
    "collapsed": false,
    "ExecuteTime": {
     "start_time": "2023-04-26T10:54:14.203040Z",
     "end_time": "2023-04-26T10:54:14.216067Z"
    }
   }
  },
  {
   "cell_type": "code",
   "execution_count": 10,
   "outputs": [],
   "source": [
    "# visualization\n",
    "# plotting the points in the already open timing diagram.\n",
    "\n",
    "X, Y = prf_mesh, rg_mesh\n",
    "\n",
    "for ii in range(x_samples * y_samples):\n",
    "    ax.plot(X.flatten()[ii], Y.flatten()[ii] / 1000, 'x', color='green')\n",
    "\n",
    "# adjust the plot scale\n",
    "ax.set_xlim(X.min() - 3e2, X.max() + 3e2)\n",
    "ax.set_ylim(Y.min() / 1e3 - 30, Y.max() / 1e3 + 30);"
   ],
   "metadata": {
    "collapsed": false,
    "ExecuteTime": {
     "start_time": "2023-04-26T10:53:01.919104Z",
     "end_time": "2023-04-26T10:53:01.931271Z"
    }
   }
  },
  {
   "cell_type": "markdown",
   "source": [
    "# Phase1: Design optimization for every point of the grid"
   ],
   "metadata": {
    "collapsed": false
   }
  },
  {
   "cell_type": "code",
   "execution_count": 11,
   "outputs": [],
   "source": [
    "# maximum acceptable AASR level\n",
    "AASR_max = -20  #dB\n",
    "# maximum acceptable RASR level\n",
    "RASR_max = -20  #dB"
   ],
   "metadata": {
    "collapsed": false,
    "ExecuteTime": {
     "start_time": "2023-04-26T10:53:28.363432Z",
     "end_time": "2023-04-26T10:53:28.369418Z"
    }
   }
  },
  {
   "cell_type": "code",
   "execution_count": 12,
   "outputs": [],
   "source": [
    "##  Initialization of the geometry model and aperture model\n",
    "\n",
    "# Radar Geometry object\n",
    "radar_geo = RadarGeometry()\n",
    "radar_geo.set_rotation(30 * np.pi / 180, 0, 0)\n",
    "radar_geo.set_initial_position(0, 0, h)\n",
    "radar_geo.set_speed(vs)\n",
    "# no need to set the radar rotation as this will be done inside the analysys function\n",
    "\n",
    "# Uniform aperture antenna initialization\n",
    "uniap = UniformAperture(La, Wa, c / wavelength)"
   ],
   "metadata": {
    "collapsed": false,
    "ExecuteTime": {
     "start_time": "2023-04-26T10:53:32.069499Z",
     "end_time": "2023-04-26T10:53:32.082466Z"
    }
   }
  },
  {
   "cell_type": "code",
   "execution_count": 15,
   "outputs": [
    {
     "name": "stdout",
     "output_type": "stream",
     "text": [
      "optimized looking angle: 19.23830579294688\n"
     ]
    },
    {
     "name": "stderr",
     "output_type": "stream",
     "text": [
      "100%|██████████| 84/84 [00:02<00:00, 30.32it/s]\n",
      "100%|██████████| 6/6 [00:11<00:00,  1.95s/it]\n"
     ]
    },
    {
     "name": "stdout",
     "output_type": "stream",
     "text": [
      "optimized looking angle: 25.14454768539982\n"
     ]
    },
    {
     "name": "stderr",
     "output_type": "stream",
     "text": [
      "100%|██████████| 84/84 [00:02<00:00, 30.90it/s]\n",
      "100%|██████████| 6/6 [00:14<00:00,  2.36s/it]\n"
     ]
    },
    {
     "name": "stdout",
     "output_type": "stream",
     "text": [
      "optimized looking angle: 29.550811022428967\n"
     ]
    },
    {
     "name": "stderr",
     "output_type": "stream",
     "text": [
      "100%|██████████| 84/84 [00:03<00:00, 25.58it/s]\n",
      " 83%|████████▎ | 5/6 [00:11<00:02,  2.34s/it]C:\\Users\\smen851\\PycharmProjects\\systemtradeoffs\\libs\\spherical_earth_geometry_radar.py:290: RuntimeWarning: invalid value encountered in sqrt\n",
      "  arg = ((lambda_c ** 2 * doppler_mesh ** 2 + np.sqrt(\n",
      "100%|██████████| 6/6 [00:14<00:00,  2.35s/it]\n"
     ]
    },
    {
     "name": "stdout",
     "output_type": "stream",
     "text": [
      "optimized looking angle: 33.10630779094245\n"
     ]
    },
    {
     "name": "stderr",
     "output_type": "stream",
     "text": [
      "100%|██████████| 84/84 [00:03<00:00, 25.64it/s]\n",
      "100%|██████████| 6/6 [00:14<00:00,  2.34s/it]\n"
     ]
    },
    {
     "name": "stdout",
     "output_type": "stream",
     "text": [
      "optimized looking angle: 15.468952261167729\n"
     ]
    },
    {
     "name": "stderr",
     "output_type": "stream",
     "text": [
      "  0%|          | 0/98 [00:00<?, ?it/s]C:\\Users\\smen851\\PycharmProjects\\systemtradeoffs\\libs\\spherical_earth_geometry_radar.py:353: RuntimeWarning: invalid value encountered in arccos\n",
      "  theta_e = np.arccos(cos_theta_e) * np.sign(incidence_mesh)  # to consider also incidence angles behind nadir\n",
      "C:\\Users\\smen851\\PycharmProjects\\systemtradeoffs\\libs\\ambiguity_functions.py:174: RuntimeWarning: invalid value encountered in divide\n",
      "  Numer += np.where(sin(thetaj) != 0, Gint / (raxj ** 3 * sin(thetaj)), 0)\n",
      "C:\\Users\\smen851\\PycharmProjects\\systemtradeoffs\\libs\\ambiguity_functions.py:180: RuntimeWarning: invalid value encountered in divide\n",
      "  Numer += np.where(sin(thetaj) != 0, Gint / (raxj ** 3 * sin(thetaj)), 0)\n",
      "100%|██████████| 98/98 [00:03<00:00, 25.74it/s]\n",
      "100%|██████████| 6/6 [00:11<00:00,  2.00s/it]\n"
     ]
    },
    {
     "name": "stdout",
     "output_type": "stream",
     "text": [
      "optimized looking angle: 21.802752980013473\n"
     ]
    },
    {
     "name": "stderr",
     "output_type": "stream",
     "text": [
      "100%|██████████| 98/98 [00:03<00:00, 25.66it/s]\n",
      "100%|██████████| 6/6 [00:12<00:00,  2.01s/it]\n"
     ]
    },
    {
     "name": "stdout",
     "output_type": "stream",
     "text": [
      "optimized looking angle: 26.34212084571178\n"
     ]
    },
    {
     "name": "stderr",
     "output_type": "stream",
     "text": [
      "100%|██████████| 98/98 [00:03<00:00, 25.01it/s]\n",
      "100%|██████████| 6/6 [00:12<00:00,  2.00s/it]\n"
     ]
    },
    {
     "name": "stdout",
     "output_type": "stream",
     "text": [
      "optimized looking angle: 29.9618655512923\n"
     ]
    },
    {
     "name": "stderr",
     "output_type": "stream",
     "text": [
      "100%|██████████| 98/98 [00:03<00:00, 25.54it/s]\n",
      "100%|██████████| 6/6 [00:12<00:00,  2.02s/it]\n"
     ]
    },
    {
     "name": "stdout",
     "output_type": "stream",
     "text": [
      "optimized looking angle: 11.669477817566099\n"
     ]
    },
    {
     "name": "stderr",
     "output_type": "stream",
     "text": [
      "100%|██████████| 112/112 [00:04<00:00, 25.22it/s]\n",
      "100%|██████████| 6/6 [00:10<00:00,  1.78s/it]\n"
     ]
    },
    {
     "name": "stdout",
     "output_type": "stream",
     "text": [
      "optimized looking angle: 18.761944774245773\n"
     ]
    },
    {
     "name": "stderr",
     "output_type": "stream",
     "text": [
      "100%|██████████| 112/112 [00:04<00:00, 25.35it/s]\n",
      "100%|██████████| 6/6 [00:10<00:00,  1.81s/it]\n"
     ]
    },
    {
     "name": "stdout",
     "output_type": "stream",
     "text": [
      "optimized looking angle: 23.49053548097997\n"
     ]
    },
    {
     "name": "stderr",
     "output_type": "stream",
     "text": [
      "100%|██████████| 112/112 [00:04<00:00, 25.31it/s]\n",
      "100%|██████████| 6/6 [00:10<00:00,  1.76s/it]\n"
     ]
    },
    {
     "name": "stdout",
     "output_type": "stream",
     "text": [
      "optimized looking angle: 27.190775581897856\n"
     ]
    },
    {
     "name": "stderr",
     "output_type": "stream",
     "text": [
      "100%|██████████| 112/112 [00:04<00:00, 25.55it/s]\n",
      "100%|██████████| 6/6 [00:10<00:00,  1.75s/it]\n"
     ]
    }
   ],
   "source": [
    "# optimize the design for every point in the grid and store the results in a list\n",
    "# also directly store the results of interest in separate lists # todo change to meshgrid logic\n",
    "results_list = []\n",
    "x_coordinate = []  # prf coordinate\n",
    "y_coordinate = []  # optimized ground range coordinate (compressed image ground swath central point)\n",
    "undersampling_list = []  # optimized undersampling ratio to limit AASR\n",
    "rasr_free_swath_list = []  # portion of the ground range free from ambiguities\n",
    "core_snr_list = []\n",
    "for ii in range(x_samples):\n",
    "    for jj in range(y_samples):\n",
    "        dictionary = umambiguous_mode_analysis(radar_geo,\n",
    "                                               uniap, rg_mesh[ii, jj],\n",
    "                                               prf_mesh[ii, jj], AASR_max, RASR_max,\n",
    "                                               vs, wavelength, dutycycle,\n",
    "                                               aasr_points=6, rasr_points=27)\n",
    "        # saving all the analysis results\n",
    "        results_list.append(dictionary)\n",
    "        # saving individual relevant figures from the analysis\n",
    "        x_coordinate.append(np.average(dictionary['prf']))\n",
    "        y_coordinate.append(\n",
    "            np.average(dictionary['compressed-ground-swath']))  # this is the mid-point of the usable ground swath\n",
    "        undersampling_list.append(dictionary['minimum-undersampling'])\n",
    "        rasr_free_swath_list.append(dictionary['usable-rasr-swath'])\n",
    "        core_snr_list.append(dictionary['core-snr-linear'])"
   ],
   "metadata": {
    "collapsed": false,
    "ExecuteTime": {
     "start_time": "2023-04-26T10:55:48.210303Z",
     "end_time": "2023-04-26T10:59:03.437154Z"
    }
   }
  },
  {
   "cell_type": "markdown",
   "source": [
    "Note return dictionary of unambiguous_mode_analysis\n",
    "    return_dict = {\n",
    "        'ground-swath': swath_rg,\n",
    "        'prf': swath_prf,\n",
    "        'compressed-ground-swath': swath_rg_compressed,\n",
    "        'compressed-slant-swath': swath_rs_compressed,\n",
    "        'compressed-incidence-swath': swath_eta_compressed,\n",
    "        'rasr-ground-range-axis': ground_range_axis,\n",
    "        'rasr-slant-range-axis': slant_range_axis,\n",
    "        'rasr-incidence-axis': incidence_axis,\n",
    "        'rasr-linear': rasr,\n",
    "        'rasr-doppler-bandwidth': Bd,\n",
    "        'aasr-undersampling-axis': doppler_undersampling_ratio,\n",
    "        'aasr-linear': aasr,\n",
    "        'core-snr-linear': core_snr,\n",
    "        'corrected-azimuth-resolution': azres,\n",
    "        'minimum-undersampling': undersampling,\n",
    "        'usable-rasr-swath': swath_rasr,\n",
    "        'usable-swath-ranges': ranges\n",
    "    }"
   ],
   "metadata": {
    "collapsed": false
   }
  },
  {
   "cell_type": "code",
   "execution_count": 20,
   "outputs": [
    {
     "name": "stdout",
     "output_type": "stream",
     "text": [
      "[6058.915982765739, 6058.915982765739, 6058.915982765739, 6058.915982765739, 7058.915982765739, 7058.915982765739, 7058.915982765739, 7058.915982765739, 8058.915982765739, 8058.915982765739, 8058.915982765739, 8058.915982765739]\n"
     ]
    }
   ],
   "source": [
    "# test\n",
    "print(x_coordinate)"
   ],
   "metadata": {
    "collapsed": false,
    "ExecuteTime": {
     "start_time": "2023-04-26T12:10:08.033016Z",
     "end_time": "2023-04-26T12:10:08.039002Z"
    }
   }
  },
  {
   "cell_type": "markdown",
   "source": [
    "# Phase1.5: results saver and loader for asynchronous operation\n",
    "i.e. a cell to pickle the list and a cell to unpickle the list.\n"
   ],
   "metadata": {
    "collapsed": false
   }
  },
  {
   "cell_type": "code",
   "execution_count": 21,
   "outputs": [],
   "source": [
    "#todo"
   ],
   "metadata": {
    "collapsed": false,
    "ExecuteTime": {
     "start_time": "2023-04-26T12:10:56.252392Z",
     "end_time": "2023-04-26T12:10:56.269995Z"
    }
   }
  },
  {
   "cell_type": "code",
   "execution_count": 19,
   "outputs": [],
   "source": [
    "#todo"
   ],
   "metadata": {
    "collapsed": false,
    "ExecuteTime": {
     "start_time": "2023-04-26T12:10:05.588831Z",
     "end_time": "2023-04-26T12:10:05.595846Z"
    }
   }
  },
  {
   "cell_type": "markdown",
   "source": [
    "# Phase2: grid visualization"
   ],
   "metadata": {
    "collapsed": false
   }
  },
  {
   "cell_type": "code",
   "execution_count": 18,
   "outputs": [
    {
     "data": {
      "text/plain": "(71.67003829538226, 359.838596616081)"
     },
     "execution_count": 18,
     "metadata": {},
     "output_type": "execute_result"
    }
   ],
   "source": [
    "# plotting the points in the already open timing diagram.\n",
    "\n",
    "\n",
    "for ii in range(len(x_coordinate)):\n",
    "    ax.plot(x_coordinate[ii], y_coordinate[ii] / 1000, 'x', color='black')\n",
    "\n",
    "# adjust the plot scale\n",
    "ax.set_xlim(min(x_coordinate) - 3e2, max(x_coordinate) + 3e2)\n",
    "ax.set_ylim(min(y_coordinate) / 1e3 - 30, max(y_coordinate) / 1e3 + 30)\n"
   ],
   "metadata": {
    "collapsed": false,
    "ExecuteTime": {
     "start_time": "2023-04-26T11:01:40.342214Z",
     "end_time": "2023-04-26T11:01:40.360655Z"
    }
   }
  },
  {
   "cell_type": "markdown",
   "source": [
    "## Phase2.5: colorbar visualization tool for design solutions\n",
    "vertical lines corresponding to the usable (RASR free)swath\n",
    "color of lines corresponding to resolution or core snr\n"
   ],
   "metadata": {
    "collapsed": false
   }
  },
  {
   "cell_type": "code",
   "execution_count": null,
   "outputs": [],
   "source": [
    "# prototype\n",
    "def design_point_visualizer(axis, dictionary, scalar_element, colorbar, scalar_min, scalar_max, h=500e3, re=6371e3):\n",
    "    \"\"\"\n",
    "\n",
    "    :param axis: matplotlib axis for the plot\n",
    "    :param dictionary: dictionary from analysis\n",
    "    :param scalar_element: a string containing the dictionary key pointing to a scalar value\n",
    "    :param colorbar: colorbar\n",
    "    :param scalar_min: minimum scalar value for the colorbar\n",
    "    :param scalar_max: maximum scalar value for the colorbar\n",
    "    :return: stocazzo\n",
    "    \"\"\"\n",
    "    #1 find holes in the usable swath ranges, note the swath ranges are linearly spaced over the incidence angle axis\n",
    "    ranges = dictionary['usable-swath-ranges']\n",
    "    slant_ranges = range_ground_to_slant(ranges, h, re)\n",
    "    ranges1, incidences = range_slant_to_ground(slant_ranges, h, re)\n",
    "    deltas = incidences[1:-1] - incidences[0:-2]  # so far so good\n",
    "    delta = min(deltas)\n",
    "    holes = np.argwhere(deltas > 1.001 * delta)\n",
    "\n",
    "    pass"
   ],
   "metadata": {
    "collapsed": false
   }
  },
  {
   "cell_type": "code",
   "execution_count": 34,
   "outputs": [
    {
     "name": "stdout",
     "output_type": "stream",
     "text": [
      "[2.81143002e-08]\n",
      "[]\n"
     ]
    }
   ],
   "source": [
    "# test\n",
    "# insert a fake hole\n",
    "\n",
    "dictionary = results_list[0]\n",
    "ranges = dictionary['usable-swath-ranges']\n",
    "slant_ranges = range_ground_to_slant(ranges, h)\n",
    "ranges1, incidences = range_slant_to_ground(slant_ranges, h)\n",
    "# test\n",
    "print(max(ranges1-ranges))\n",
    "deltas = incidences[1:-1] - incidences[0:-2]\n",
    "delta = min(deltas)\n",
    "holes = np.argwhere(deltas > 1.001 * delta)\n",
    "print(holes)"
   ],
   "metadata": {
    "collapsed": false,
    "ExecuteTime": {
     "start_time": "2023-04-26T13:26:39.185248Z",
     "end_time": "2023-04-26T13:26:39.203229Z"
    }
   }
  },
  {
   "cell_type": "code",
   "execution_count": 37,
   "outputs": [
    {
     "name": "stdout",
     "output_type": "stream",
     "text": [
      "0\n"
     ]
    }
   ],
   "source": [
    "print(holes.size)"
   ],
   "metadata": {
    "collapsed": false,
    "ExecuteTime": {
     "start_time": "2023-04-26T13:27:17.944684Z",
     "end_time": "2023-04-26T13:27:17.953695Z"
    }
   }
  },
  {
   "cell_type": "markdown",
   "source": [
    "# Phase3: Azimuth resolution, or undersampling ratio visualization"
   ],
   "metadata": {
    "collapsed": false
   }
  },
  {
   "cell_type": "code",
   "execution_count": null,
   "outputs": [],
   "source": [],
   "metadata": {
    "collapsed": false,
    "ExecuteTime": {
     "start_time": "2023-04-24T16:47:30.571311Z",
     "end_time": "2023-04-24T16:47:30.600233Z"
    }
   }
  }
 ],
 "metadata": {
  "kernelspec": {
   "display_name": "Python 3",
   "language": "python",
   "name": "python3"
  },
  "language_info": {
   "codemirror_mode": {
    "name": "ipython",
    "version": 2
   },
   "file_extension": ".py",
   "mimetype": "text/x-python",
   "name": "python",
   "nbconvert_exporter": "python",
   "pygments_lexer": "ipython2",
   "version": "2.7.6"
  }
 },
 "nbformat": 4,
 "nbformat_minor": 0
}
