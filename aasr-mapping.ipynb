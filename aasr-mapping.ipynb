{
 "cells": [
  {
   "cell_type": "code",
   "execution_count": 1,
   "metadata": {
    "collapsed": true,
    "ExecuteTime": {
     "start_time": "2023-05-04T17:03:46.260643Z",
     "end_time": "2023-05-04T17:03:48.219350Z"
    }
   },
   "outputs": [],
   "source": [
    "# imports\n",
    "from libs.ambiguity_functions import AASR  # function to be tested\n",
    "from libs.spherical_earth_geometry_radar import *\n",
    "from libs.radartools.farField import UniformAperture\n",
    "from libs.design_functions import *\n",
    "from tqdm import tqdm\n",
    "import numpy as np\n",
    "import matplotlib.pyplot as plt"
   ]
  },
  {
   "cell_type": "markdown",
   "source": [
    "# AASR function breakdown\n",
    "the function takes as arguments\n",
    "    - a RadarGeometry object\n",
    "    - a UniformAperture object\n",
    "    - the broadside incidence angle\n",
    "    - the PRF\n",
    "    - the processed Doppler bandwidth\n",
    "\n",
    "internally it performs the following steps\n",
    "- 81. finds the maximum azimuth angle, i.e. the horizon of the spherical earth (used as limit for the integration) given by the altitude and earth radius\n",
    "- 91. converts the maximum angle to Doppler shift and computes th maximum sum index from that for the aasr equation\n",
    "- 98. finds the denominator of the aasr sum by integrating the antenna pattern over the visible doppler range. the gain pattern is rerieved using the function \"gain_from_doppler\" which internally converts a doppler shift into ground coordinates and then spherical coordinates for the antenna pattern.\n",
    "- 111. the numerator is found as the sum of positive and negative Doppler integrated  portions of the pattern\n"
   ],
   "metadata": {
    "collapsed": false
   }
  },
  {
   "cell_type": "markdown",
   "source": [
    "## Possible tests:\n",
    "- vary the prf or the incidence angle for a doppler bandwidth fixed to the nominal one (use the same equation of unambiguous-imaging-design-analysis)\n",
    "- rewrite the function internal loop plotting all the numerator/denominator contributions to understand whats happening. can plot both the patterns and the integrated patterns vs the index n."
   ],
   "metadata": {
    "collapsed": false
   }
  },
  {
   "cell_type": "markdown",
   "source": [
    "# Design initialization\n"
   ],
   "metadata": {
    "collapsed": false
   }
  },
  {
   "cell_type": "code",
   "execution_count": 2,
   "outputs": [],
   "source": [
    "## System Parameters\n",
    "\n",
    "# constants\n",
    "c = 299792458\n",
    "\n",
    "# radar parameters\n",
    "dutycycle = 0.25  # duty cycle\n",
    "h = 500e3  # height\n",
    "wavelength = c / 10e9  # wavelength\n",
    "\n",
    "# satellite speed\n",
    "vs = orbital_speed(h)\n",
    "\n",
    "# antenna size\n",
    "Wa = 0.3  # antenna width in meters\n",
    "La = 2  # antenna length in meters\n",
    "\n",
    "## Objects\n",
    "# Radar Geometry object\n",
    "radar_geo = RadarGeometry()\n",
    "radar_geo.set_rotation(30 * np.pi / 180, 0, 0)  # dummy looking angle, will be set in the analysis\n",
    "radar_geo.set_initial_position(0, 0, h)\n",
    "radar_geo.set_speed(vs)\n",
    "# no need to set the radar rotation as this will be done inside the analysys function\n",
    "\n",
    "# Uniform aperture antenna initialization\n",
    "uniap = UniformAperture(La, Wa, c / wavelength)"
   ],
   "metadata": {
    "collapsed": false,
    "ExecuteTime": {
     "start_time": "2023-05-04T17:03:48.213367Z",
     "end_time": "2023-05-04T17:03:48.231319Z"
    }
   }
  },
  {
   "cell_type": "markdown",
   "source": [
    "# Bidimentional AASR map"
   ],
   "metadata": {
    "collapsed": false
   }
  },
  {
   "cell_type": "code",
   "execution_count": 3,
   "outputs": [],
   "source": [
    "# Map axis\n",
    "ground_range = np.linspace(150, 170, 2) * 1000\n",
    "prf = np.linspace(8000, 9000, 20)\n"
   ],
   "metadata": {
    "collapsed": false,
    "ExecuteTime": {
     "start_time": "2023-05-04T17:03:48.228327Z",
     "end_time": "2023-05-04T17:03:48.262236Z"
    }
   }
  },
  {
   "cell_type": "code",
   "execution_count": 4,
   "outputs": [
    {
     "name": "stderr",
     "output_type": "stream",
     "text": [
      "  0%|          | 0/2 [00:00<?, ?it/s]C:\\Users\\smen851\\PycharmProjects\\systemtradeoffs\\libs\\radartools\\farField.py:149: RuntimeWarning: invalid value encountered in divide\n",
      "  f = sin(kx * self.L / 2) / (kx * self.L / 2) * sin(ky * self.W / 2) / (ky * self.W / 2) * self.L * self.W\n",
      "100%|██████████| 2/2 [01:08<00:00, 34.35s/it]\n"
     ]
    }
   ],
   "source": [
    "# convert range to incidence angle\n",
    "slant_range = range_ground_to_slant(ground_range)\n",
    "ground_range, theta = range_slant_to_ground(slant_range)\n",
    "aasr = np.zeros((len(ground_range), len(prf)))\n",
    "\n",
    "# fill in the aasr matrix\n",
    "for ii in tqdm(range(len(ground_range))):\n",
    "    for jj in range(len(prf)):\n",
    "        # pointing the radar to the incidence angle\n",
    "        la = incidence_angle_to_looking_angle(theta[ii])\n",
    "        radar_geo.set_rotation(la, 0, 0)\n",
    "        bd = 2 * ground_speed(ground_range[ii], vs, h) / uniap.L * 0.5\n",
    "        aasr[ii, jj] = AASR(radar_geo, uniap, theta[ii] * 180 / np.pi, prf[jj], bd, wavelength, pbaroff=True)\n"
   ],
   "metadata": {
    "collapsed": false,
    "ExecuteTime": {
     "start_time": "2023-05-04T17:03:48.252233Z",
     "end_time": "2023-05-04T17:04:56.971978Z"
    }
   }
  },
  {
   "cell_type": "markdown",
   "source": [
    "## serializing"
   ],
   "metadata": {
    "collapsed": false
   }
  },
  {
   "cell_type": "code",
   "execution_count": 5,
   "outputs": [],
   "source": [
    "# pickling\n"
   ],
   "metadata": {
    "collapsed": false,
    "ExecuteTime": {
     "start_time": "2023-05-04T17:04:56.971978Z",
     "end_time": "2023-05-04T17:04:56.991925Z"
    }
   }
  },
  {
   "cell_type": "markdown",
   "source": [
    "### SAVER"
   ],
   "metadata": {
    "collapsed": false
   }
  },
  {
   "cell_type": "code",
   "execution_count": 6,
   "outputs": [],
   "source": [
    "import os\n",
    "import pickle\n",
    "\n",
    "# Create a folder for the analysis results if it does not exist\n",
    "if not os.path.exists('aasr-map'):\n",
    "    os.makedirs('aasr-map')\n",
    "\n",
    "# Save the results_list\n",
    "with open('aasr-map/results_list.pk', 'wb') as f:\n",
    "    pickle.dump(aasr, f)\n",
    "# Save the x_coordinate\n",
    "with open('aasr-map/x_coordinate.pk', 'wb') as f:\n",
    "    pickle.dump(prf, f)\n",
    "# Save the y_coordinate\n",
    "with open('aasr-map/y_coordinate.pk', 'wb') as f:\n",
    "    pickle.dump(ground_range, f)\n"
   ],
   "metadata": {
    "collapsed": false,
    "ExecuteTime": {
     "start_time": "2023-05-04T17:04:56.989930Z",
     "end_time": "2023-05-04T17:04:57.004890Z"
    }
   }
  },
  {
   "cell_type": "code",
   "execution_count": 6,
   "outputs": [],
   "source": [],
   "metadata": {
    "collapsed": false,
    "ExecuteTime": {
     "start_time": "2023-05-04T17:04:57.003893Z",
     "end_time": "2023-05-04T17:04:57.029823Z"
    }
   }
  },
  {
   "cell_type": "markdown",
   "source": [
    "### LOADER"
   ],
   "metadata": {
    "collapsed": false
   }
  },
  {
   "cell_type": "code",
   "execution_count": 7,
   "outputs": [],
   "source": [
    "import pickle\n",
    "from IPython.display import Javascript\n",
    "\n",
    "# Load the results_list\n",
    "with open('aasr-map/results_list.pk', 'rb') as f:\n",
    "    aasr = pickle.load(f)\n",
    "# Load the x_coordinate\n",
    "with open('aasr-map/x_coordinate.pk', 'rb') as f:\n",
    "    prf = pickle.load(f)\n",
    "# Load the y_coordinate\n",
    "with open('aasr-map/y_coordinate.pk', 'rb') as f:\n",
    "    ground_range = pickle.load(f)"
   ],
   "metadata": {
    "collapsed": false,
    "ExecuteTime": {
     "start_time": "2023-05-04T17:04:57.019850Z",
     "end_time": "2023-05-04T17:04:57.040794Z"
    }
   }
  },
  {
   "cell_type": "markdown",
   "source": [
    "# Plotting"
   ],
   "metadata": {
    "collapsed": false
   }
  },
  {
   "cell_type": "code",
   "execution_count": 8,
   "outputs": [
    {
     "data": {
      "text/plain": "<matplotlib.colorbar.Colorbar at 0x1d7ab99e100>"
     },
     "execution_count": 8,
     "metadata": {},
     "output_type": "execute_result"
    },
    {
     "data": {
      "text/plain": "<Figure size 640x480 with 2 Axes>",
      "image/png": "[encoded data removed]"
     },
     "metadata": {},
     "output_type": "display_data"
    }
   ],
   "source": [
    "\n",
    "fig, ax = plt.subplots(1)\n",
    "c = ax.pcolormesh(prf,ground_range, 10*np.log10(aasr))\n",
    "ax.set_ylabel('range')\n",
    "ax.set_xlabel('prf')\n",
    "fig.colorbar(c)"
   ],
   "metadata": {
    "collapsed": false,
    "ExecuteTime": {
     "start_time": "2023-05-04T17:04:57.036805Z",
     "end_time": "2023-05-04T17:04:57.270255Z"
    }
   }
  },
  {
   "cell_type": "code",
   "execution_count": 9,
   "outputs": [
    {
     "name": "stdout",
     "output_type": "stream",
     "text": [
      "19\n",
      "0.001009391421051605\n"
     ]
    }
   ],
   "source": [
    "print(aasr.argmax())\n",
    "print(aasr.min())"
   ],
   "metadata": {
    "collapsed": false,
    "ExecuteTime": {
     "start_time": "2023-05-04T17:04:57.272250Z",
     "end_time": "2023-05-04T17:04:57.285947Z"
    }
   }
  },
  {
   "cell_type": "code",
   "execution_count": 9,
   "outputs": [],
   "source": [],
   "metadata": {
    "collapsed": false,
    "ExecuteTime": {
     "start_time": "2023-05-04T17:04:57.286943Z",
     "end_time": "2023-05-04T17:04:57.331143Z"
    }
   }
  },
  {
   "cell_type": "markdown",
   "source": [
    "# EXPLODED AASR Function\n",
    "plot some of the contributions of the aasr sum before integration"
   ],
   "metadata": {
    "collapsed": false
   }
  },
  {
   "cell_type": "code",
   "execution_count": 10,
   "outputs": [
    {
     "data": {
      "text/plain": "(array([ 1.,  0., -0.]),\n array([ 0.        , -0.95278692,  0.30363974]),\n array([ 0.        , -0.30363974, -0.95278692]))"
     },
     "execution_count": 10,
     "metadata": {},
     "output_type": "execute_result"
    }
   ],
   "source": [
    "# ground range point\n",
    "rg = 160e3\n",
    "# prf point\n",
    "prf = 8244\n",
    "# Doppler bandwidth\n",
    "Bd = 2 * ground_speed(rg, vs, h) / uniap.L * 0.5\n",
    "# radar setup\n",
    "rs = range_ground_to_slant(rg)\n",
    "rg, incidence = range_slant_to_ground(rs)\n",
    "la = incidence_angle_to_looking_angle(incidence)\n",
    "radar_geo.set_rotation(la, 0, 0)\n"
   ],
   "metadata": {
    "collapsed": false,
    "ExecuteTime": {
     "start_time": "2023-05-04T17:04:57.303764Z",
     "end_time": "2023-05-04T17:04:57.346102Z"
    }
   }
  },
  {
   "cell_type": "code",
   "execution_count": 11,
   "outputs": [],
   "source": [
    "from libs.ambiguity_functions import gain_from_doppler\n",
    "\n",
    "max_order = 57 # number of positive and negative replicas\n",
    "\n",
    "\n",
    "# 1. definition of the doppler axis\n",
    "dop_ax = np.linspace(-Bd / 2, Bd / 2, 31)\n",
    "\n",
    "# 2. redefinition of the axis as a meshgrid (for gain from doppler) # the pattern will be sampled at a constant phi (worst case)\n",
    "D, I = np.meshgrid(dop_ax, incidence)\n",
    "\n",
    "# 3. getting gain pattern for denominator\n",
    "den_g, maxg = gain_from_doppler(D, I, radar_geo, uniap, wavelength, vs, h)\n",
    "den_g /= maxg\n",
    "# square and integrate over doppler\n",
    "den = integrate.simps(den_g ** 2, D, axis=1)\n"
   ],
   "metadata": {
    "collapsed": false,
    "ExecuteTime": {
     "start_time": "2023-05-04T17:04:57.317181Z",
     "end_time": "2023-05-04T17:04:57.358070Z"
    }
   }
  },
  {
   "cell_type": "code",
   "execution_count": 12,
   "outputs": [
    {
     "name": "stdout",
     "output_type": "stream",
     "text": [
      "[3151.35689947]\n"
     ]
    }
   ],
   "source": [
    "# To open separate plot-windows outside the browser uncomment one of the following two lines\n",
    "%matplotlib qt\n",
    "fig, ax = plt.subplots(1)\n",
    "ax.plot(D.flatten(), den_g.flatten()**2)\n",
    "#ax.fill_between(D.flatten(), den_g.flatten()**2, np.zeros_like(den_g.flatten()))\n",
    "print(den)"
   ],
   "metadata": {
    "collapsed": false,
    "ExecuteTime": {
     "start_time": "2023-05-04T17:04:57.352087Z",
     "end_time": "2023-05-04T17:04:57.503119Z"
    }
   }
  },
  {
   "cell_type": "code",
   "execution_count": 13,
   "outputs": [
    {
     "name": "stderr",
     "output_type": "stream",
     "text": [
      " 98%|█████████▊| 56/57 [00:01<00:00, 30.90it/s]C:\\Users\\smen851\\PycharmProjects\\systemtradeoffs\\libs\\spherical_earth_geometry_radar.py:290: RuntimeWarning: invalid value encountered in sqrt\n",
      "  arg = ((lambda_c ** 2 * doppler_mesh ** 2 + np.sqrt(\n",
      "100%|██████████| 57/57 [00:01<00:00, 31.07it/s]"
     ]
    },
    {
     "name": "stdout",
     "output_type": "stream",
     "text": [
      "57\n"
     ]
    },
    {
     "name": "stderr",
     "output_type": "stream",
     "text": [
      "\n"
     ]
    }
   ],
   "source": [
    "from tqdm import tqdm\n",
    "# loop\n",
    "num = np.zeros_like(den)\n",
    "for nn in tqdm(range(1, int(max_order + 1))):\n",
    "    #D, I = np.meshgrid(dop_ax, incidence_angle * np.pi / 180)\n",
    "    # positive n\n",
    "    num_g, maxg = gain_from_doppler(D + nn * prf, I, radar_geo, uniap, wavelength, vs, h, aasr=True)\n",
    "    num_g /= maxg\n",
    "    num += integrate.simps(num_g ** 2, D, axis=1)\n",
    "    ax.plot(D.flatten(), num_g.flatten(),'k')\n",
    "    #ax.fill_between(D.flatten(), num_g.flatten()**2 , np.zeros_like(den_g.flatten()))\n",
    "    # negative n\n",
    "    num_g, maxg = gain_from_doppler(D - nn * prf, I, radar_geo, uniap, wavelength, vs, h, aasr=True)\n",
    "    num_g /= maxg\n",
    "    num += integrate.simps(num_g ** 2, D, axis=1)\n",
    "    ax.plot(D.flatten(), num_g.flatten()**2,'k')\n",
    "    if 1 in num_g.flatten()**2:\n",
    "        print(nn)\n",
    "    #ax.fill_between(D.flatten(), num_g.flatten()**2 , np.zeros_like(den_g.flatten()))\n",
    "plt.show()"
   ],
   "metadata": {
    "collapsed": false,
    "ExecuteTime": {
     "start_time": "2023-05-04T17:04:57.504109Z",
     "end_time": "2023-05-04T17:04:59.366641Z"
    }
   }
  },
  {
   "cell_type": "code",
   "execution_count": 14,
   "outputs": [],
   "source": [
    "# maximum order calculation\n",
    "re=6371e3\n",
    "# azimuth circle radius\n",
    "r0, rg = range_from_theta(incidence * 180 / np.pi, h)\n",
    "costheta_e = ((re + h) ** 2 + re ** 2 - r0 ** 2) / (2 * (re + h) * re)\n",
    "raz = re * costheta_e\n",
    "d = r0 * cos(la)\n",
    "# projected maximum slant range\n",
    "l = np.sqrt((d + raz) ** 2 - raz ** 2)\n",
    "\n",
    "# maximum azimuthal angle\n",
    "costheta_a = (raz ** 2 + (raz + d) ** 2 - l ** 2) / (2 * raz * (raz + d))\n",
    "theta_a = arccos(costheta_a)\n",
    "\n",
    "cos_phimax = (-raz ** 2 + (raz + d) ** 2 + l ** 2) / (2 * l * (raz + d))\n",
    "phimax = arccos(cos_phimax)\n",
    "\n",
    "# then the max doppler shift is:\n",
    "A = (re + h) ** 2 + re ** 2\n",
    "B = 2 * (re + h) * re * costheta_e\n",
    "v = vs / (re + h)\n",
    "\n",
    "doppler_max = (B * v * sin(theta_a) / (wavelength * np.sqrt(A - B * cos(theta_a))))\n",
    "\n",
    "# this maximum doppler corresponds to a sum order of\n",
    "n = int(np.floor(doppler_max / prf))"
   ],
   "metadata": {
    "collapsed": false,
    "ExecuteTime": {
     "start_time": "2023-05-04T17:04:59.362652Z",
     "end_time": "2023-05-04T17:04:59.406534Z"
    }
   }
  },
  {
   "cell_type": "code",
   "execution_count": 15,
   "outputs": [
    {
     "data": {
      "text/plain": "57"
     },
     "execution_count": 15,
     "metadata": {},
     "output_type": "execute_result"
    }
   ],
   "source": [
    "n"
   ],
   "metadata": {
    "collapsed": false,
    "ExecuteTime": {
     "start_time": "2023-05-04T17:04:59.378609Z",
     "end_time": "2023-05-04T17:04:59.423488Z"
    }
   }
  },
  {
   "cell_type": "markdown",
   "source": [
    "# conclusion\n",
    "the problem was the max oder n in the AASR sum, trying to sample the pattern over the orizon  causes a singularity (or probably a resampling of the pattern at broadside i.e. maximum directivity)"
   ],
   "metadata": {
    "collapsed": false
   }
  },
  {
   "cell_type": "code",
   "execution_count": 15,
   "outputs": [],
   "source": [],
   "metadata": {
    "collapsed": false,
    "ExecuteTime": {
     "start_time": "2023-05-04T17:04:59.394566Z",
     "end_time": "2023-05-04T17:04:59.423488Z"
    }
   }
  }
 ],
 "metadata": {
  "kernelspec": {
   "display_name": "Python 3",
   "language": "python",
   "name": "python3"
  },
  "language_info": {
   "codemirror_mode": {
    "name": "ipython",
    "version": 2
   },
   "file_extension": ".py",
   "mimetype": "text/x-python",
   "name": "python",
   "nbconvert_exporter": "python",
   "pygments_lexer": "ipython2",
   "version": "2.7.6"
  }
 },
 "nbformat": 4,
 "nbformat_minor": 0
}
