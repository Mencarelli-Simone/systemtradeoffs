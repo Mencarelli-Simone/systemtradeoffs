{
 "cells": [
  {
   "cell_type": "code",
   "execution_count": 1,
   "metadata": {
    "collapsed": true,
    "ExecuteTime": {
     "start_time": "2023-05-08T17:53:51.244890Z",
     "end_time": "2023-05-08T17:53:52.179263Z"
    }
   },
   "outputs": [],
   "source": [
    "%matplotlib qt"
   ]
  },
  {
   "cell_type": "code",
   "execution_count": 2,
   "outputs": [],
   "source": [
    "## Dependencies\n",
    "from libs.timing_diagram import *\n",
    "from libs.design_functions import *\n",
    "import numpy as np\n",
    "import matplotlib.pyplot as plt\n",
    "from libs.spherical_earth_geometry_radar import *\n",
    "from libs.radartools.farField import UniformAperture\n",
    "from libs.ambiguity_functions import *\n",
    "from unambiguous_imaging_design_analysis import *\n",
    "import matplotlib as mpl"
   ],
   "metadata": {
    "collapsed": false,
    "ExecuteTime": {
     "start_time": "2023-05-08T17:53:52.182254Z",
     "end_time": "2023-05-08T17:53:53.091014Z"
    }
   }
  },
  {
   "cell_type": "markdown",
   "source": [],
   "metadata": {
    "collapsed": false
   }
  },
  {
   "cell_type": "markdown",
   "source": [
    "ChatGpt: Sure! Here's the specification for loading the analysis results from the saved pickle files:\n",
    "\n",
    "### LOADER\n",
    "- Load the analysis results from the saved pickle files using pickle module.\n",
    "- Load the following individual files from the \"analysis_results\" folder:\n",
    "    * results_list.pk\n",
    "    * x_coordinate.pk\n",
    "    * y_coordinate.pk\n",
    "    * undersampling_list.pk\n",
    "    * rasr_free_swath_list.pk\n",
    "    * core_snr_list.pk\n",
    "- Assign the loaded data to the corresponding variable names:\n",
    "    * results_list\n",
    "    * x_coordinate\n",
    "    * y_coordinate\n",
    "    * undersampling_list\n",
    "    * rasr_free_swath_list\n",
    "    * core_snr_list\n",
    "\n",
    "Note: The file names and variable names must match with the ones used in the SAVER section.\n",
    "Note1: Run the cells preceding and in Phase 0 before or after loading"
   ],
   "metadata": {
    "collapsed": false
   }
  },
  {
   "cell_type": "code",
   "execution_count": 3,
   "outputs": [],
   "source": [
    "import pickle\n",
    "from IPython.display import Javascript\n",
    "\n",
    "Javascript(\"Jupyter.notebook.execute_cell_range(1,11)\")  #doesn't work. run clls manually up to phase0\n",
    "\n",
    "# Load the results_list\n",
    "with open('analysis_results/results_list.pk', 'rb') as f:\n",
    "    results_list = pickle.load(f)\n",
    "# Load the x_coordinate\n",
    "with open('analysis_results/x_coordinate.pk', 'rb') as f:\n",
    "    x_coordinate = pickle.load(f)\n",
    "# Load the y_coordinate\n",
    "with open('analysis_results/y_coordinate.pk', 'rb') as f:\n",
    "    y_coordinate = pickle.load(f)\n",
    "# Load the undersampling_list\n",
    "with open('analysis_results/undersampling_list.pk', 'rb') as f:\n",
    "    undersampling_list = pickle.load(f)\n",
    "# Load the rasr_free_swath_list\n",
    "with open('analysis_results/rasr_free_swath_list.pk', 'rb') as f:\n",
    "    rasr_free_swath_list = pickle.load(f)\n",
    "# Load the core_snr_list\n",
    "with open('analysis_results/core_snr_list.pk', 'rb') as f:\n",
    "    core_snr_list = pickle.load(f)"
   ],
   "metadata": {
    "collapsed": false,
    "ExecuteTime": {
     "start_time": "2023-05-08T17:53:53.091014Z",
     "end_time": "2023-05-08T17:53:53.126378Z"
    }
   }
  },
  {
   "cell_type": "code",
   "execution_count": 4,
   "outputs": [],
   "source": [
    "import json\n",
    "\n",
    "with open(\"analysis_results/settings.json\", \"r\") as read_file:\n",
    "    data = json.load(read_file)\n",
    "\n",
    "La = data[\"antenna_l\"]\n",
    "Wa = data[\"antenna_w\"]\n",
    "wavelength = data[\"wavelength\"]\n",
    "vs = data[\"orbital_speed\"]\n",
    "h = data[\"altitude\"]\n",
    "dutycycle = data[\"dutycycle\"]\n",
    "nadir_duration = data[\"nadir_duration\"]"
   ],
   "metadata": {
    "collapsed": false,
    "ExecuteTime": {
     "start_time": "2023-05-08T17:53:53.122388Z",
     "end_time": "2023-05-08T17:53:53.142137Z"
    }
   }
  },
  {
   "cell_type": "markdown",
   "source": [
    "# Selection\n",
    "filter by swath width\n",
    "and\n",
    "Azimuth resolution"
   ],
   "metadata": {
    "collapsed": false
   }
  },
  {
   "cell_type": "code",
   "execution_count": 4,
   "outputs": [],
   "source": [],
   "metadata": {
    "collapsed": false,
    "ExecuteTime": {
     "start_time": "2023-05-08T17:53:53.135354Z",
     "end_time": "2023-05-08T17:53:53.173280Z"
    }
   }
  },
  {
   "cell_type": "code",
   "execution_count": 5,
   "outputs": [],
   "source": [
    "# todo define these as arrays then make a meshgrid for all the combinations\n",
    "minimum_ground_swath = np.array([20e3])  # m\n",
    "minimum_azimuth_resolution = np.array([5])  # m\n",
    "\n",
    "# MESHGRIDS i.e. all combinations\n",
    "GS, AR = np.meshgrid(minimum_ground_swath, minimum_azimuth_resolution)\n",
    "\n",
    "# flatten them all\n",
    "GS = GS.flatten()\n",
    "AR = AR.flatten()"
   ],
   "metadata": {
    "collapsed": false,
    "ExecuteTime": {
     "start_time": "2023-05-08T17:53:53.152336Z",
     "end_time": "2023-05-08T17:53:53.174277Z"
    }
   }
  },
  {
   "cell_type": "code",
   "execution_count": 6,
   "outputs": [],
   "source": [
    "# unpack the corrected azimuth resolution and swath widths\n",
    "azimuth_resolutions = []\n",
    "swathes = []\n",
    "for dictionary in results_list:\n",
    "    ar = float(dictionary[\"corrected-azimuth-resolution-underprocessed\"])\n",
    "    sw = float(dictionary[\"usable-rasr-swath\"])\n",
    "    azimuth_resolutions.append(ar)\n",
    "    swathes.append(sw)"
   ],
   "metadata": {
    "collapsed": false,
    "ExecuteTime": {
     "start_time": "2023-05-08T17:53:53.168293Z",
     "end_time": "2023-05-08T17:53:53.185247Z"
    }
   }
  },
  {
   "cell_type": "code",
   "execution_count": 7,
   "outputs": [],
   "source": [
    "# convert dictionaries to numpy arrays\n",
    "azimuth_resolutions = np.array(azimuth_resolutions)\n",
    "swathes = np.array(swathes)"
   ],
   "metadata": {
    "collapsed": false,
    "ExecuteTime": {
     "start_time": "2023-05-08T17:53:53.184251Z",
     "end_time": "2023-05-08T17:53:53.205358Z"
    }
   }
  },
  {
   "cell_type": "code",
   "execution_count": 8,
   "outputs": [],
   "source": [
    "# thresholded lists\n",
    "filtered_designs = []  # list of index vectors\n",
    "\n",
    "for ii in range(len(AR)):\n",
    "    indexes1 = np.argwhere(azimuth_resolutions <= AR[ii])\n",
    "    indexes2 = np.argwhere(swathes >= GS[ii])\n",
    "    intersection_set = np.intersect1d(indexes1, indexes2)\n",
    "    filtered_designs.append(intersection_set)"
   ],
   "metadata": {
    "collapsed": false,
    "ExecuteTime": {
     "start_time": "2023-05-08T17:53:53.200400Z",
     "end_time": "2023-05-08T17:53:53.222313Z"
    }
   }
  },
  {
   "cell_type": "code",
   "execution_count": 9,
   "outputs": [],
   "source": [
    "#print(filtered_designs)"
   ],
   "metadata": {
    "collapsed": false,
    "ExecuteTime": {
     "start_time": "2023-05-08T17:53:53.215363Z",
     "end_time": "2023-05-08T17:53:53.243881Z"
    }
   }
  },
  {
   "cell_type": "markdown",
   "source": [
    "# Winning sets visualization on TD diagram\n",
    "plot a time diagram and display the location of the winning sets"
   ],
   "metadata": {
    "collapsed": false
   }
  },
  {
   "cell_type": "code",
   "execution_count": 16,
   "outputs": [],
   "source": [
    "## canonical constraints line plots\n",
    "# 1 ground range axis in m\n",
    "ground_range = np.linspace(0, 2000, 500) * 1000\n",
    "\n",
    "prf_opt = optimal_prf_line(ground_range, Wa, wavelength, h)\n",
    "# Add to the plot\n",
    "ax.plot(prf_opt, ground_range / 1000, 'red')\n",
    "\n",
    "prf_min = minimum_prf_line(ground_range, vs, La, h)\n",
    "ax.plot(prf_min, ground_range / 1000, 'green')\n",
    "\n",
    "PRI = 1 / 7050\n",
    "prf = np.linspace(1 / PRI - 1500, 1 / PRI + 10000, 100)\n",
    "\n",
    "fig, (ax, ax1) = plt.subplots(2, dpi=150, gridspec_kw={'height_ratios': [30, 1]})\n",
    "time_diagram_plotter(ax, prf, dutycycle, h, nadir=False, integrationtime=False, color='dimgray')\n",
    "nadir_return_plotter(ax, prf, dutycycle, nadir_duration, h, color='silver')\n",
    "ax.set_xlabel('PRF [Hz]')\n",
    "ax.set_ylabel(' Ground range [km]')\n",
    "ax.set_xlim(1 / PRI - 1000, 1 / PRI + 1000)\n",
    "ax.set_ylim(100, 300)\n",
    "## canonical constraints line plots\n",
    "ax.plot(prf_opt, ground_range / 1000, 'k')\n",
    "ax.plot(prf_min, ground_range / 1000, '--k')\n",
    "ax.set_title('Winners visualization')\n",
    "fig.tight_layout()"
   ],
   "metadata": {
    "collapsed": false,
    "ExecuteTime": {
     "start_time": "2023-05-08T18:00:31.485786Z",
     "end_time": "2023-05-08T18:00:41.022031Z"
    }
   }
  },
  {
   "cell_type": "code",
   "execution_count": 17,
   "outputs": [],
   "source": [
    "# plotting the winner samples\n",
    "for ii in filtered_designs[0]:\n",
    "    ax.plot(x_coordinate[ii], y_coordinate[ii] / 1000, 'x', color='black')\n",
    "# adjust the plot scale\n",
    "ax.set_xlim(np.array(x_coordinate).min() - 3e2, np.array(x_coordinate).max() + 3e2)\n",
    "ax.set_ylim(np.array(y_coordinate).min() / 1e3 - 30, np.array(y_coordinate).max() / 1e3 + 30);"
   ],
   "metadata": {
    "collapsed": false,
    "ExecuteTime": {
     "start_time": "2023-05-08T18:00:42.750010Z",
     "end_time": "2023-05-08T18:00:42.773355Z"
    }
   }
  },
  {
   "cell_type": "markdown",
   "source": [
    "# Boundaries\n",
    "draw a curve on the T-D plot corresponding to the edges of the swathes within selection"
   ],
   "metadata": {
    "collapsed": false
   }
  },
  {
   "cell_type": "code",
   "execution_count": 18,
   "outputs": [],
   "source": [
    "# how do I do that!?"
   ],
   "metadata": {
    "collapsed": false,
    "ExecuteTime": {
     "start_time": "2023-05-08T18:43:15.500517Z",
     "end_time": "2023-05-08T18:43:15.544417Z"
    }
   }
  },
  {
   "cell_type": "code",
   "execution_count": null,
   "outputs": [],
   "source": [],
   "metadata": {
    "collapsed": false
   }
  }
 ],
 "metadata": {
  "kernelspec": {
   "display_name": "Python 3",
   "language": "python",
   "name": "python3"
  },
  "language_info": {
   "codemirror_mode": {
    "name": "ipython",
    "version": 2
   },
   "file_extension": ".py",
   "mimetype": "text/x-python",
   "name": "python",
   "nbconvert_exporter": "python",
   "pygments_lexer": "ipython2",
   "version": "2.7.6"
  }
 },
 "nbformat": 4,
 "nbformat_minor": 0
}
