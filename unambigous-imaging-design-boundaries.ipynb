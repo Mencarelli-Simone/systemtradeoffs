{
 "cells": [
  {
   "cell_type": "code",
   "execution_count": 1,
   "metadata": {
    "collapsed": true,
    "ExecuteTime": {
     "start_time": "2023-05-15T18:57:52.161075Z",
     "end_time": "2023-05-15T18:57:52.552757Z"
    }
   },
   "outputs": [],
   "source": [
    "%matplotlib qt"
   ]
  },
  {
   "cell_type": "code",
   "execution_count": 2,
   "outputs": [],
   "source": [
    "## Dependencies\n",
    "from libs.timing_diagram import *\n",
    "from libs.design_functions import *\n",
    "import numpy as np\n",
    "import matplotlib.pyplot as plt\n",
    "from libs.spherical_earth_geometry_radar import *\n",
    "from libs.radartools.farField import UniformAperture\n",
    "from libs.ambiguity_functions import *\n",
    "from unambiguous_imaging_design_analysis import *\n",
    "import matplotlib as mpl"
   ],
   "metadata": {
    "collapsed": false,
    "ExecuteTime": {
     "start_time": "2023-05-15T18:57:52.554752Z",
     "end_time": "2023-05-15T18:57:52.931857Z"
    }
   }
  },
  {
   "cell_type": "markdown",
   "source": [],
   "metadata": {
    "collapsed": false
   }
  },
  {
   "cell_type": "markdown",
   "source": [
    "ChatGpt: Sure! Here's the specification for loading the analysis results from the saved pickle files:\n",
    "\n",
    "### LOADER\n",
    "- Load the analysis results from the saved pickle files using pickle module.\n",
    "- Load the following individual files from the \"analysis_results\" folder:\n",
    "    * results_list.pk\n",
    "    * x_coordinate.pk\n",
    "    * y_coordinate.pk\n",
    "    * undersampling_list.pk\n",
    "    * rasr_free_swath_list.pk\n",
    "    * core_snr_list.pk\n",
    "- Assign the loaded data to the corresponding variable names:\n",
    "    * results_list\n",
    "    * x_coordinate\n",
    "    * y_coordinate\n",
    "    * undersampling_list\n",
    "    * rasr_free_swath_list\n",
    "    * core_snr_list\n",
    "\n",
    "Note: The file names and variable names must match with the ones used in the SAVER section.\n",
    "Note1: Run the cells preceding and in Phase 0 before or after loading"
   ],
   "metadata": {
    "collapsed": false
   }
  },
  {
   "cell_type": "code",
   "execution_count": 3,
   "outputs": [],
   "source": [
    "import pickle\n",
    "from IPython.display import Javascript\n",
    "\n",
    "Javascript(\"Jupyter.notebook.execute_cell_range(1,11)\")  #doesn't work. run clls manually up to phase0\n",
    "\n",
    "# Load the results_list\n",
    "with open('analysis_results/results_list.pk', 'rb') as f:\n",
    "    results_list = pickle.load(f)\n",
    "# Load the x_coordinate\n",
    "with open('analysis_results/x_coordinate.pk', 'rb') as f:\n",
    "    x_coordinate = pickle.load(f)\n",
    "# Load the y_coordinate\n",
    "with open('analysis_results/y_coordinate.pk', 'rb') as f:\n",
    "    y_coordinate = pickle.load(f)\n",
    "# Load the undersampling_list\n",
    "with open('analysis_results/undersampling_list.pk', 'rb') as f:\n",
    "    undersampling_list = pickle.load(f)\n",
    "# Load the rasr_free_swath_list\n",
    "with open('analysis_results/rasr_free_swath_list.pk', 'rb') as f:\n",
    "    rasr_free_swath_list = pickle.load(f)\n",
    "# Load the core_snr_list\n",
    "with open('analysis_results/core_snr_list.pk', 'rb') as f:\n",
    "    core_snr_list = pickle.load(f)"
   ],
   "metadata": {
    "collapsed": false,
    "ExecuteTime": {
     "start_time": "2023-05-15T18:57:52.932855Z",
     "end_time": "2023-05-15T18:57:52.966150Z"
    }
   }
  },
  {
   "cell_type": "code",
   "execution_count": 4,
   "outputs": [],
   "source": [
    "import json\n",
    "\n",
    "with open(\"analysis_results/settings.json\", \"r\") as read_file:\n",
    "    data = json.load(read_file)\n",
    "\n",
    "La = data[\"antenna_l\"]\n",
    "Wa = data[\"antenna_w\"]\n",
    "wavelength = data[\"wavelength\"]\n",
    "vs = data[\"orbital_speed\"]\n",
    "h = data[\"altitude\"]\n",
    "dutycycle = data[\"dutycycle\"]\n",
    "nadir_duration = data[\"nadir_duration\"]"
   ],
   "metadata": {
    "collapsed": false,
    "ExecuteTime": {
     "start_time": "2023-05-15T18:57:52.965152Z",
     "end_time": "2023-05-15T18:57:52.978579Z"
    }
   }
  },
  {
   "cell_type": "markdown",
   "source": [
    "# Selection\n",
    "filter by swath width\n",
    "and\n",
    "Azimuth resolution"
   ],
   "metadata": {
    "collapsed": false
   }
  },
  {
   "cell_type": "code",
   "execution_count": 4,
   "outputs": [],
   "source": [],
   "metadata": {
    "collapsed": false,
    "ExecuteTime": {
     "start_time": "2023-05-15T18:57:52.978579Z",
     "end_time": "2023-05-15T18:57:53.007949Z"
    }
   }
  },
  {
   "cell_type": "code",
   "execution_count": 5,
   "outputs": [],
   "source": [
    "# todo define these as arrays then make a meshgrid for all the combinations\n",
    "minimum_ground_swath = np.array([20e3])  # m\n",
    "minimum_azimuth_resolution = np.array([5])  # m\n",
    "\n",
    "# MESHGRIDS i.e. all combinations\n",
    "GS, AR = np.meshgrid(minimum_ground_swath, minimum_azimuth_resolution)\n",
    "\n",
    "# flatten them all\n",
    "GS = GS.flatten()\n",
    "AR = AR.flatten()"
   ],
   "metadata": {
    "collapsed": false,
    "ExecuteTime": {
     "start_time": "2023-05-15T18:57:52.993959Z",
     "end_time": "2023-05-15T18:57:53.010912Z"
    }
   }
  },
  {
   "cell_type": "code",
   "execution_count": 6,
   "outputs": [],
   "source": [
    "# unpack the corrected azimuth resolution and swath widths\n",
    "azimuth_resolutions = []\n",
    "swathes = []\n",
    "for dictionary in results_list:\n",
    "    ar = float(dictionary[\"corrected-azimuth-resolution-underprocessed\"])\n",
    "    sw = float(dictionary[\"usable-rasr-swath\"])\n",
    "    azimuth_resolutions.append(ar)\n",
    "    swathes.append(sw)"
   ],
   "metadata": {
    "collapsed": false,
    "ExecuteTime": {
     "start_time": "2023-05-15T18:57:53.010912Z",
     "end_time": "2023-05-15T18:57:53.024767Z"
    }
   }
  },
  {
   "cell_type": "code",
   "execution_count": 7,
   "outputs": [],
   "source": [
    "# convert dictionaries to numpy arrays\n",
    "azimuth_resolutions = np.array(azimuth_resolutions)\n",
    "swathes = np.array(swathes)"
   ],
   "metadata": {
    "collapsed": false,
    "ExecuteTime": {
     "start_time": "2023-05-15T18:57:53.025765Z",
     "end_time": "2023-05-15T18:57:53.047561Z"
    }
   }
  },
  {
   "cell_type": "code",
   "execution_count": 8,
   "outputs": [],
   "source": [
    "# thresholded lists\n",
    "filtered_designs = []  # list of index vectors\n",
    "\n",
    "for ii in range(len(AR)):\n",
    "    indexes1 = np.argwhere(azimuth_resolutions <= AR[ii])\n",
    "    indexes2 = np.argwhere(swathes >= GS[ii])\n",
    "    intersection_set = np.intersect1d(indexes1, indexes2)\n",
    "    filtered_designs.append(intersection_set)"
   ],
   "metadata": {
    "collapsed": false,
    "ExecuteTime": {
     "start_time": "2023-05-15T18:57:53.043572Z",
     "end_time": "2023-05-15T18:57:53.058531Z"
    }
   }
  },
  {
   "cell_type": "markdown",
   "source": [
    "# Design filter function\n",
    "formalization of the above\n",
    "it shall get as the inputs:\n",
    "a np array of minimum ground swathes\n",
    "a np array  of minimum azimuth resolution\n",
    "a list of result dictionaries\n",
    "as output:\n",
    "a list of numpy array containing the indices corresponding to the chosen dictionaries for every minimum ground swath -- minimum azimuth resolution pairs\n",
    "the reference GS AR pairs as list"
   ],
   "metadata": {
    "collapsed": false
   }
  },
  {
   "cell_type": "code",
   "execution_count": 9,
   "outputs": [],
   "source": [
    "#todo\n",
    "def designs_filter(min_swath, min_az_resolution, results):\n",
    "    \"\"\"\n",
    "\n",
    "    :param min_swath: numpy array of minimum swathes to select\n",
    "    :param min_az_resolution: numpy array of minimum azimuth resolutions to select\n",
    "    :param results:\n",
    "    :return:    filtered_designs: list of numpy arrays containing the indexes of the selected designs for a min_swat - min_az_resolution pair\n",
    "                boundaries: list of minimum swath and azimuth resolution corresponding to the filtered_designs list elements.\n",
    "    \"\"\"\n",
    "    # MESHGRIDS i.e. all combinations\n",
    "    GS, AR = np.meshgrid(min_swath, min_az_resolution)\n",
    "    # flatten them all\n",
    "    GS = GS.flatten()\n",
    "    AR = AR.flatten()\n",
    "    # unpack the corrected azimuth resolution and swath widths\n",
    "    azimuth_resolutions = []\n",
    "    swathes = []\n",
    "    for dictionary in results:\n",
    "        ar = float(dictionary[\"corrected-azimuth-resolution-underprocessed\"])\n",
    "        sw = float(dictionary[\"usable-rasr-swath\"])\n",
    "        azimuth_resolutions.append(ar)\n",
    "        swathes.append(sw)\n",
    "    # convert dictionaries to numpy arrays\n",
    "    azimuth_resolutions = np.array(azimuth_resolutions)\n",
    "    swathes = np.array(swathes)\n",
    "    # thresholded lists\n",
    "    filtered_designs = []  # list of index vectors\n",
    "    # reference parameters\n",
    "    boundaries = []\n",
    "    for ii in range(len(AR)):\n",
    "        indexes1 = np.argwhere(azimuth_resolutions <= AR[ii])\n",
    "        indexes2 = np.argwhere(swathes >= GS[ii])\n",
    "        intersection_set = np.intersect1d(indexes1, indexes2)\n",
    "        filtered_designs.append(intersection_set)\n",
    "        boundaries.append({'minmum-azimuth-resolution': AR[ii], 'minimum-ground-swath': GS[ii]})\n",
    "\n",
    "    return filtered_designs, boundaries"
   ],
   "metadata": {
    "collapsed": false,
    "ExecuteTime": {
     "start_time": "2023-05-15T18:57:53.060526Z",
     "end_time": "2023-05-15T18:57:53.077513Z"
    }
   }
  },
  {
   "cell_type": "code",
   "execution_count": 10,
   "outputs": [],
   "source": [
    "#test\n",
    "filtered_designs, boun = designs_filter(minimum_ground_swath, minimum_azimuth_resolution, results_list)"
   ],
   "metadata": {
    "collapsed": false,
    "ExecuteTime": {
     "start_time": "2023-05-15T18:57:53.073526Z",
     "end_time": "2023-05-15T18:57:53.088485Z"
    }
   }
  },
  {
   "cell_type": "markdown",
   "source": [
    "# Winning sets visualization on TD diagram\n",
    "plot a time diagram and display the location of the winning sets"
   ],
   "metadata": {
    "collapsed": false
   }
  },
  {
   "cell_type": "code",
   "execution_count": 11,
   "outputs": [
    {
     "name": "stderr",
     "output_type": "stream",
     "text": [
      "C:\\Users\\smen851\\PycharmProjects\\systemtradeoffs\\unambiguous_imaging_design_analysis.py:55: RuntimeWarning: divide by zero encountered in divide\n",
      "  prf_opt = 1 / pri\n",
      "C:\\Users\\smen851\\PycharmProjects\\systemtradeoffs\\libs\\design_functions.py:42: RuntimeWarning: invalid value encountered in arccos\n",
      "  beta = arccos(((re + h) ** 2 - re ** 2 + rs ** 2) / (2 * (re + h) * rs))\n",
      "C:\\Users\\smen851\\PycharmProjects\\systemtradeoffs\\libs\\design_functions.py:43: RuntimeWarning: invalid value encountered in arccos\n",
      "  alpha = arccos(((re + h) ** 2 + re ** 2 - rs ** 2) / (2 * (re + h) * re))\n"
     ]
    }
   ],
   "source": [
    "## canonical constraints line plots\n",
    "# 1 ground range axis in m\n",
    "ground_range = np.linspace(0, 2000, 500) * 1000\n",
    "\n",
    "prf_opt = optimal_prf_line(ground_range, Wa, wavelength, h)\n",
    "\n",
    "fig, (ax, ax1) = plt.subplots(2, dpi=150, gridspec_kw={'height_ratios': [30, 1]})\n",
    "\n",
    "# minimum lines\n",
    "prf_min = minimum_prf_line(ground_range, vs, La, h)\n",
    "PRI = 1 / 7050\n",
    "prf = np.linspace(1 / PRI - 1500, 1 / PRI + 10000, 100)\n",
    "\n",
    "time_diagram_plotter(ax, prf, dutycycle, h, nadir=False, integrationtime=False, color='dimgray')\n",
    "nadir_return_plotter(ax, prf, dutycycle, nadir_duration, h, color='silver')\n",
    "ax.set_xlabel('PRF [Hz]')\n",
    "ax.set_ylabel(' Ground range [km]')\n",
    "ax.set_xlim(1 / PRI - 1000, 1 / PRI + 1000)\n",
    "ax.set_ylim(100, 300)\n",
    "## canonical constraints line plots\n",
    "ax.plot(prf_opt, ground_range / 1000, 'k')\n",
    "ax.plot(prf_min, ground_range / 1000, '--k')\n",
    "ax.set_title('Winners visualization')\n",
    "fig.tight_layout()"
   ],
   "metadata": {
    "collapsed": false,
    "ExecuteTime": {
     "start_time": "2023-05-15T18:57:53.088485Z",
     "end_time": "2023-05-15T18:58:02.214745Z"
    }
   }
  },
  {
   "cell_type": "code",
   "execution_count": 12,
   "outputs": [],
   "source": [
    "# plotting the winner samples\n",
    "for ii in filtered_designs[0]:\n",
    "    ax.plot(x_coordinate[ii], y_coordinate[ii] / 1000, 'x', color='black')\n",
    "# adjust the plot scale\n",
    "ax.set_xlim(np.array(x_coordinate).min() - 3e2, np.array(x_coordinate).max() + 3e2)\n",
    "ax.set_ylim(np.array(y_coordinate).min() / 1e3 - 30, np.array(y_coordinate).max() / 1e3 + 30);"
   ],
   "metadata": {
    "collapsed": false,
    "ExecuteTime": {
     "start_time": "2023-05-15T18:58:02.215743Z",
     "end_time": "2023-05-15T18:58:02.260666Z"
    }
   }
  },
  {
   "cell_type": "markdown",
   "source": [
    "2. make a underprocessing - swath plot"
   ],
   "metadata": {
    "collapsed": false
   }
  },
  {
   "cell_type": "code",
   "execution_count": 13,
   "outputs": [
    {
     "data": {
      "text/plain": "115"
     },
     "execution_count": 13,
     "metadata": {},
     "output_type": "execute_result"
    }
   ],
   "source": [
    "filtered_results_list = [results_list[i] for i in filtered_designs[0]]\n",
    "len(filtered_results_list)\n"
   ],
   "metadata": {
    "collapsed": false,
    "ExecuteTime": {
     "start_time": "2023-05-15T18:58:02.261624Z",
     "end_time": "2023-05-15T18:58:02.276584Z"
    }
   }
  },
  {
   "cell_type": "code",
   "execution_count": 14,
   "outputs": [],
   "source": [
    "# 1 create another timing diagram in black and white:\n",
    "# plot\n",
    "fig, (ax, ax1) = plt.subplots(2, dpi=150, gridspec_kw={'height_ratios': [30, 1]})\n",
    "time_diagram_plotter(ax, prf, dutycycle, h, nadir=False, integrationtime=False, color='dimgray')\n",
    "nadir_return_plotter(ax, prf, dutycycle, nadir_duration, h, color='silver')\n",
    "ax.set_xlabel('PRF [Hz]')\n",
    "ax.set_ylabel(' Ground range [km]')\n",
    "ax.set_xlim(1 / PRI - 1000, 1 / PRI + 1000)\n",
    "ax.set_ylim(100, 300)\n",
    "## canonical constraints line plots\n",
    "ax.plot(prf_opt, ground_range / 1000, 'k')\n",
    "ax.plot(prf_min, ground_range / 1000, '--k')\n",
    "ax.set_title('Doppler under-processing ratio visualization')\n",
    "fig.tight_layout()\n",
    "\n",
    "# adjust the plot scale\n",
    "ax.set_xlim(min(x_coordinate) - 3e2, max(x_coordinate) + 3e2)\n",
    "ax.set_ylim(min(y_coordinate) / 1e3 - 50, max(y_coordinate) / 1e3 + 50)\n",
    "# colored lines:\n",
    "for dictionary in filtered_results_list:\n",
    "    design_point_visualizer(ax, dictionary, 'minimum-undersampling', 'plasma', 0, 1,\n",
    "                            logscale=False, h=h, cmapaxis=ax1, labeling=False)\n",
    "for ii in filtered_designs[0]:\n",
    "    ax.plot(x_coordinate[ii], y_coordinate[ii] / 1000, 'x', color='black', zorder=15)\n",
    "\n",
    "fig.tight_layout()"
   ],
   "metadata": {
    "collapsed": false,
    "ExecuteTime": {
     "start_time": "2023-05-15T18:58:02.279575Z",
     "end_time": "2023-05-15T18:58:15.272344Z"
    }
   }
  },
  {
   "cell_type": "markdown",
   "source": [
    "# Boundaries\n",
    "draw a curve on the T-D plot corresponding to the edges of the swathes within selection"
   ],
   "metadata": {
    "collapsed": false
   }
  },
  {
   "cell_type": "markdown",
   "source": [
    "1. Assuming the validity region shape to be convex, find the samples lying onto the edges\n",
    "2. use a boxcar filter to include more prf samples\n",
    "3. store the max and min ranges in 2 max min vectors (this will be the 2 edges lines)\n",
    "4. the same thing could be done using the swath extremes"
   ],
   "metadata": {
    "collapsed": false
   }
  },
  {
   "cell_type": "code",
   "execution_count": 15,
   "outputs": [
    {
     "name": "stdout",
     "output_type": "stream",
     "text": [
      "6114.192364675287\n",
      "6169.468746584834\n",
      "6224.745128494382\n",
      "6224.745128494382\n",
      "6280.02151040393\n",
      "6335.297892313477\n",
      "6390.574274223025\n",
      "6445.850656132573\n",
      "6501.12703804212\n",
      "6556.403419951668\n",
      "6556.403419951668\n",
      "6611.679801861216\n",
      "6666.956183770763\n",
      "6722.232565680311\n",
      "6777.508947589859\n",
      "6832.7853294994065\n",
      "6888.061711408955\n",
      "6888.061711408955\n",
      "6943.338093318503\n",
      "6998.61447522805\n",
      "7053.890857137598\n",
      "7109.167239047146\n",
      "7164.443620956694\n",
      "7219.720002866241\n",
      "7274.996384775789\n",
      "7330.272766685337\n",
      "7385.549148594884\n",
      "7440.825530504432\n",
      "7496.10191241398\n",
      "7551.378294323527\n",
      "7606.654676233075\n",
      "7661.931058142623\n",
      "7717.207440052171\n",
      "7772.483821961719\n",
      "7827.760203871267\n",
      "7883.036585780814\n",
      "7938.312967690362\n",
      "7993.58934959991\n",
      "8048.865731509457\n",
      "8159.418495328553\n",
      "8214.6948772381\n",
      "8269.97125914765\n",
      "8325.247641057196\n",
      "8380.524022966743\n",
      "8435.800404876292\n",
      "8491.07678678584\n",
      "8546.353168695387\n",
      "8601.629550604936\n",
      "8656.905932514483\n",
      "8767.458696333579\n",
      "8822.735078243126\n",
      "8878.011460152673\n",
      "8933.287842062222\n",
      "8988.564223971769\n",
      "9099.116987790865\n",
      "9154.393369700412\n",
      "9209.66975160996\n",
      "9264.946133519508\n",
      "9375.498897338603\n",
      "9430.775279248151\n",
      "9486.051661157699\n",
      "9541.328043067246\n",
      "9707.157188795889\n",
      "9762.433570705438\n",
      "9817.709952614985\n",
      "9872.986334524532\n",
      "9983.539098343628\n",
      "10038.815480253175\n",
      "10094.091862162724\n",
      "10149.368244072271\n",
      "10315.197389800915\n",
      "10370.473771710462\n",
      "10425.75015362001\n",
      "10481.026535529558\n",
      "10646.855681258201\n",
      "10702.132063167748\n",
      "10757.408445077297\n",
      "10923.23759080594\n",
      "10978.513972715487\n",
      "11033.790354625035\n",
      "11089.066736534583\n",
      "11254.895882263227\n",
      "11310.172264172774\n",
      "11365.448646082321\n",
      "11586.554173720513\n",
      "11641.83055563006\n",
      "11862.93608326825\n",
      "11918.2124651778\n",
      "11973.488847087347\n",
      "12194.594374725537\n",
      "12249.870756635086\n",
      "12470.976284273276\n",
      "12526.252666182823\n",
      "12581.529048092372\n",
      "12802.634575730563\n",
      "12857.91095764011\n",
      "13079.016485278302\n",
      "13134.292867187849\n",
      "13189.569249097396\n",
      "13410.674776735588\n",
      "13465.951158645135\n",
      "13742.333068192875\n",
      "14018.714977740612\n",
      "14073.991359650161\n",
      "14350.373269197898\n",
      "14626.755178745638\n",
      "14682.031560655185\n",
      "14958.413470202924\n",
      "15234.795379750663\n",
      "15566.45367120795\n",
      "15842.835580755687\n",
      "16174.493872212974\n",
      "16450.87578176071\n",
      "16782.534073217998\n",
      "17058.91598276574\n"
     ]
    }
   ],
   "source": [
    "for ii in filtered_designs[0]:\n",
    "    print(x_coordinate[ii])\n"
   ],
   "metadata": {
    "collapsed": false,
    "ExecuteTime": {
     "start_time": "2023-05-15T18:58:15.273342Z",
     "end_time": "2023-05-15T18:58:15.287338Z"
    }
   }
  },
  {
   "cell_type": "markdown",
   "source": [
    "Problem the prf axis is not uniform, but is it a problem? maybe no"
   ],
   "metadata": {
    "collapsed": false
   }
  },
  {
   "cell_type": "code",
   "execution_count": 16,
   "outputs": [
    {
     "name": "stdout",
     "output_type": "stream",
     "text": [
      "hellllo\n"
     ]
    }
   ],
   "source": [
    "# boxcar size\n",
    "box = 30  # samples\n",
    "max_indexes = []\n",
    "min_indexes = []\n",
    "print(\"hellllo\")\n",
    "for ii in range(len(filtered_designs[0]) + box):\n",
    "    if ii >= len(filtered_designs[0]):\n",
    "        indexes = filtered_designs[0][ii - box: len(filtered_designs[0])]\n",
    "    elif ii - box >= 0:\n",
    "        indexes = filtered_designs[0][ii - box: ii]\n",
    "    else:\n",
    "        indexes = filtered_designs[0][0: ii]\n",
    "    subset_range = np.array([y_coordinate[jj] for jj in indexes])\n",
    "    if subset_range.size != 0:\n",
    "        maxi = np.argmax(subset_range)\n",
    "        mini = np.argmin(subset_range)\n",
    "        if indexes[maxi] not in max_indexes:  # if not in list already\n",
    "            max_indexes.append(indexes[maxi])\n",
    "        if indexes[mini] not in min_indexes:\n",
    "            min_indexes.append(indexes[mini])"
   ],
   "metadata": {
    "collapsed": false,
    "ExecuteTime": {
     "start_time": "2023-05-15T18:58:15.290330Z",
     "end_time": "2023-05-15T18:58:15.349202Z"
    }
   }
  },
  {
   "cell_type": "code",
   "execution_count": 17,
   "outputs": [
    {
     "data": {
      "text/plain": "array([], dtype=int64)"
     },
     "execution_count": 17,
     "metadata": {},
     "output_type": "execute_result"
    }
   ],
   "source": [
    "filtered_designs[0][-5:2]"
   ],
   "metadata": {
    "collapsed": false,
    "ExecuteTime": {
     "start_time": "2023-05-15T18:58:15.305289Z",
     "end_time": "2023-05-15T18:58:15.350169Z"
    }
   }
  },
  {
   "cell_type": "code",
   "execution_count": 18,
   "outputs": [
    {
     "data": {
      "text/plain": "[<matplotlib.lines.Line2D at 0x1361f7b7c40>]"
     },
     "execution_count": 18,
     "metadata": {},
     "output_type": "execute_result"
    }
   ],
   "source": [
    "# plot the lines\n",
    "x_coordinate = np.array(x_coordinate)\n",
    "y_coordinate = np.array(y_coordinate)\n",
    "ax.plot(x_coordinate[min_indexes], y_coordinate[min_indexes] * 1e-3, 'r')\n",
    "ax.plot(x_coordinate[max_indexes], y_coordinate[max_indexes] * 1e-3, 'g')"
   ],
   "metadata": {
    "collapsed": false,
    "ExecuteTime": {
     "start_time": "2023-05-15T18:58:15.322244Z",
     "end_time": "2023-05-15T18:58:15.351166Z"
    }
   }
  },
  {
   "cell_type": "code",
   "execution_count": 18,
   "outputs": [],
   "source": [],
   "metadata": {
    "collapsed": false,
    "ExecuteTime": {
     "start_time": "2023-05-15T18:58:19.081732Z",
     "end_time": "2023-05-15T18:58:19.091927Z"
    }
   }
  },
  {
   "cell_type": "markdown",
   "source": [
    "# Boundary visualization function\n",
    "does the same thing of above, but takes the extremes of the usefull swath and plots the broadside pont of the edge points\n",
    "accepts as argument a string to format the line"
   ],
   "metadata": {
    "collapsed": false
   }
  },
  {
   "cell_type": "code",
   "execution_count": 19,
   "outputs": [],
   "source": [
    "# prototype\n",
    "def design_set_boundary(axis, results, filtered_indexes, box=30, linestyle='k'):\n",
    "    \"\"\"\n",
    "\n",
    "    :param axis: axis to plot on\n",
    "    :param results: resuts list unfiltered\n",
    "    :param filtered_indexes: indexes of the winning set\n",
    "    :param box: boxcar filter length in sample default 30\n",
    "    :param linestyle: arg variable for plot configuration\n",
    "    :return:\n",
    "    \"\"\"\n",
    "    # retrieve the coordinates\n",
    "    x_coordinate = []\n",
    "    y_coordinate = []\n",
    "    y_top = []\n",
    "    y_bottom = []\n",
    "    for ii in range(len(results)):\n",
    "        dictionary = results[ii]\n",
    "        x_coordinate.append(np.average(dictionary['prf']))\n",
    "        y_coordinate.append(\n",
    "            np.average(dictionary['compressed-ground-swath']))\n",
    "        if len(dictionary['usable-swath-ranges']) > 0:\n",
    "            y_top.append(dictionary['usable-swath-ranges'].max())\n",
    "            y_bottom.append(dictionary['usable-swath-ranges'].min())\n",
    "        else:\n",
    "            y_top.append(np.average(dictionary['compressed-ground-swath']))\n",
    "            y_bottom.append(np.average(dictionary['compressed-ground-swath']))\n",
    "\n",
    "    # compute the lines\n",
    "    max_indexes = []\n",
    "    min_indexes = []\n",
    "    for ii in range(len(filtered_indexes) + box):\n",
    "        indexes = 0\n",
    "        if ii >= len(filtered_indexes):\n",
    "            indexes = filtered_indexes[ii - box: len(filtered_indexes)]\n",
    "        elif ii - box >= 0:\n",
    "            indexes = filtered_indexes[ii - box: ii]\n",
    "        else:\n",
    "            indexes = filtered_indexes[0: ii]\n",
    "        subset_range = np.array([y_coordinate[jj] for jj in indexes])\n",
    "        if subset_range.size != 0:\n",
    "            maxi = np.argmax(subset_range)\n",
    "            mini = np.argmin(subset_range)\n",
    "            if indexes[maxi] not in max_indexes:  # if not in list already\n",
    "                max_indexes.append(indexes[maxi])\n",
    "            if indexes[mini] not in min_indexes:\n",
    "                min_indexes.append(indexes[mini])\n",
    "\n",
    "    # plot the lines\n",
    "    x_coordinate = np.array(x_coordinate)\n",
    "    y_top = np.array(y_top)\n",
    "    y_bottom = np.array(y_bottom)\n",
    "    axis.plot(x_coordinate[min_indexes], y_bottom[min_indexes] * 1e-3, linestyle)\n",
    "    axis.plot(x_coordinate[max_indexes], y_top[max_indexes] * 1e-3, linestyle)\n",
    "    # close the lines\n",
    "    axis.plot([x_coordinate[max_indexes[0]], x_coordinate[max_indexes[0]]],\n",
    "              [y_top[max_indexes[0]] * 1e-3, y_bottom[min_indexes[0]] * 1e-3], linestyle)\n",
    "    axis.plot([x_coordinate[min_indexes[-1]], x_coordinate[min_indexes[-1]]],\n",
    "          [y_bottom[min_indexes[-1]] * 1e-3, y_top[max_indexes[-1]] * 1e-3], linestyle)"
   ],
   "metadata": {
    "collapsed": false,
    "ExecuteTime": {
     "start_time": "2023-05-15T18:58:19.098908Z",
     "end_time": "2023-05-15T18:58:19.108882Z"
    }
   }
  },
  {
   "cell_type": "code",
   "execution_count": 20,
   "outputs": [],
   "source": [
    "#test\n",
    "design_set_boundary(ax, results_list, filtered_designs[0], linestyle='blue')"
   ],
   "metadata": {
    "collapsed": false,
    "ExecuteTime": {
     "start_time": "2023-05-15T18:58:19.109852Z",
     "end_time": "2023-05-15T18:58:19.142826Z"
    }
   }
  },
  {
   "cell_type": "code",
   "execution_count": 20,
   "outputs": [],
   "source": [],
   "metadata": {
    "collapsed": false,
    "ExecuteTime": {
     "start_time": "2023-05-15T18:58:19.140832Z",
     "end_time": "2023-05-15T18:58:19.156779Z"
    }
   }
  }
 ],
 "metadata": {
  "kernelspec": {
   "display_name": "Python 3",
   "language": "python",
   "name": "python3"
  },
  "language_info": {
   "codemirror_mode": {
    "name": "ipython",
    "version": 2
   },
   "file_extension": ".py",
   "mimetype": "text/x-python",
   "name": "python",
   "nbconvert_exporter": "python",
   "pygments_lexer": "ipython2",
   "version": "2.7.6"
  }
 },
 "nbformat": 4,
 "nbformat_minor": 0
}
